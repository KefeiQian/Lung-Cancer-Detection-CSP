{
 "cells": [
  {
   "cell_type": "code",
   "execution_count": null,
   "metadata": {},
   "outputs": [],
   "source": [
    "import pickle\n",
    "\n",
    "import numpy as np\n",
    "import pandas as pd"
   ]
  },
  {
   "cell_type": "code",
   "execution_count": null,
   "metadata": {},
   "outputs": [],
   "source": [
    "with open(\"../data/cache/train_gt_augment\", 'rb') as fid:\n",
    "    train_pickle = pickle.Unpickler(fid, encoding=\"latin1\")\n",
    "    train_gt = train_pickle.load()\n",
    "\n",
    "train_gt"
   ]
  },
  {
   "cell_type": "code",
   "execution_count": null,
   "metadata": {},
   "outputs": [],
   "source": [
    "with open(\"../data/cache/train_no_gt\", 'rb') as fid:\n",
    "    train_no_gt_pickle = pickle.Unpickler(fid, encoding=\"latin1\")\n",
    "    train_no_gt_cache = train_no_gt_pickle.load()\n",
    "\n"
   ]
  },
  {
   "cell_type": "code",
   "execution_count": null,
   "metadata": {},
   "outputs": [],
   "source": [
    "with open(\"../data/cache/train_no_gt-origin\", 'rb') as fid:\n",
    "    train_no_gt_pickle = pickle.Unpickler(fid, encoding=\"latin1\")\n",
    "    train_no_gt_origin_cache = train_no_gt_pickle.load()\n",
    "\n"
   ]
  },
  {
   "cell_type": "code",
   "execution_count": null,
   "metadata": {},
   "outputs": [],
   "source": [
    "set1 = set()\n",
    "set2 = set()\n",
    "for item1 in train_no_gt_cache:\n",
    "    filepath = item1[\"filepath\"]\n",
    "    set1.add(filepath)\n",
    "    if len(item1[\"bboxes\"]) != 0:\n",
    "        print(item1)\n",
    "\n",
    "for item2 in train_no_gt_origin_cache:\n",
    "    filepath = item2[\"filepath\"]\n",
    "    set2.add(filepath)\n",
    "    if len(item2[\"bboxes\"]) != 0:\n",
    "        print(item2)\n",
    "\n",
    "pd1 = pd.DataFrame(set1)\n",
    "pd2 = pd.DataFrame(set2)"
   ]
  },
  {
   "cell_type": "code",
   "execution_count": null,
   "metadata": {},
   "outputs": [],
   "source": [
    "pd1.head()"
   ]
  },
  {
   "cell_type": "code",
   "execution_count": null,
   "metadata": {},
   "outputs": [],
   "source": [
    "pd2.head()"
   ]
  },
  {
   "cell_type": "code",
   "execution_count": null,
   "metadata": {},
   "outputs": [],
   "source": [
    "len(pd1)"
   ]
  },
  {
   "cell_type": "code",
   "execution_count": null,
   "metadata": {},
   "outputs": [],
   "source": [
    "len(pd2)"
   ]
  },
  {
   "cell_type": "code",
   "execution_count": null,
   "metadata": {},
   "outputs": [],
   "source": [
    "pd3 = pd.DataFrame(set2 - set1)\n",
    "pd3.head()"
   ]
  },
  {
   "cell_type": "code",
   "execution_count": null,
   "metadata": {},
   "outputs": [],
   "source": [
    "with open(\"../data/cache/train_gt\", 'rb') as fid:\n",
    "    train_gt_pickle = pickle.Unpickler(fid, encoding=\"latin1\")\n",
    "    train_gt_cache = train_gt_pickle.load()"
   ]
  },
  {
   "cell_type": "code",
   "execution_count": null,
   "metadata": {},
   "outputs": [],
   "source": [
    "with open(\"../data/cache/train_gt-origin\", 'rb') as fid:\n",
    "    train_gt_origin_pickle = pickle.Unpickler(fid, encoding=\"latin1\")\n",
    "    train_gt_origin_cache = train_gt_origin_pickle.load()"
   ]
  },
  {
   "cell_type": "code",
   "execution_count": null,
   "metadata": {},
   "outputs": [],
   "source": [
    "set1 = set()\n",
    "set2 = set()\n",
    "for item1 in train_gt_origin_cache:\n",
    "    filepath = item1[\"filepath\"]\n",
    "    set1.add(filepath)\n",
    "\n",
    "\n",
    "for item2 in train_gt_cache:\n",
    "    filepath = item2[\"filepath\"]\n",
    "    set2.add(filepath)\n",
    "\n",
    "pd1 = pd.DataFrame(set1)\n",
    "pd2 = pd.DataFrame(set2)"
   ]
  },
  {
   "cell_type": "code",
   "execution_count": null,
   "metadata": {},
   "outputs": [],
   "source": [
    "pd1.head()"
   ]
  },
  {
   "cell_type": "code",
   "execution_count": null,
   "metadata": {},
   "outputs": [],
   "source": [
    "pd2.head()"
   ]
  },
  {
   "cell_type": "code",
   "execution_count": null,
   "metadata": {},
   "outputs": [],
   "source": [
    "len(pd1)"
   ]
  },
  {
   "cell_type": "code",
   "execution_count": null,
   "metadata": {},
   "outputs": [],
   "source": [
    "len(pd2)"
   ]
  },
  {
   "cell_type": "code",
   "execution_count": null,
   "metadata": {},
   "outputs": [],
   "source": [
    "dict1 = dict()\n",
    "dict2 = dict()\n",
    "for item1 in train_gt_origin_cache:\n",
    "    filepath = item1[\"filepath\"]\n",
    "    if filepath in dict1:\n",
    "        print(filepath)\n",
    "    dict1[filepath] = item1\n",
    "\n",
    "\n",
    "\n",
    "for item2 in train_gt_cache:\n",
    "    filepath = item2[\"filepath\"]\n",
    "    if filepath in dict2:\n",
    "        print(filepath)\n",
    "    dict2[filepath] = item2\n"
   ]
  },
  {
   "cell_type": "code",
   "execution_count": null,
   "metadata": {},
   "outputs": [],
   "source": [
    "dict1"
   ]
  },
  {
   "cell_type": "code",
   "execution_count": null,
   "metadata": {},
   "outputs": [],
   "source": [
    "dict2"
   ]
  },
  {
   "cell_type": "code",
   "execution_count": null,
   "metadata": {},
   "outputs": [],
   "source": [
    "for key, value in dict1.items():\n",
    "    item1 = dict1[key]\n",
    "    item2 = dict2[key]\n",
    "    arr1 = np.array(item1[\"bboxes\"])\n",
    "    arr2 = np.array(item2[\"bboxes\"])\n",
    "\n",
    "    if not np.array_equal(arr1, arr2):\n",
    "        print(item1)\n",
    "        print(item2)"
   ]
  },
  {
   "cell_type": "code",
   "execution_count": null,
   "metadata": {},
   "outputs": [],
   "source": []
  }
 ],
 "metadata": {
  "kernelspec": {
   "display_name": "Lung-Cancer",
   "language": "python",
   "name": "python3"
  },
  "language_info": {
   "codemirror_mode": {
    "name": "ipython",
    "version": 3
   },
   "file_extension": ".py",
   "mimetype": "text/x-python",
   "name": "python",
   "nbconvert_exporter": "python",
   "pygments_lexer": "ipython3",
   "version": "3.10.8"
  },
  "vscode": {
   "interpreter": {
    "hash": "9d4e508bcdf8c60a886d154242a7d048eb1090ffddac0cfb1f3922d8edcb8935"
   }
  }
 },
 "nbformat": 4,
 "nbformat_minor": 0
}
