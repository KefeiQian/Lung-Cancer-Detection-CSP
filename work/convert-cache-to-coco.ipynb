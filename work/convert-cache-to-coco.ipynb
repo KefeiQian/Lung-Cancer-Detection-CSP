{
 "cells": [
  {
   "cell_type": "code",
   "execution_count": null,
   "metadata": {
    "pycharm": {
     "name": "#%%\n"
    }
   },
   "outputs": [],
   "source": [
    "import pickle"
   ]
  },
  {
   "cell_type": "code",
   "execution_count": null,
   "metadata": {
    "pycharm": {
     "name": "#%%\n"
    }
   },
   "outputs": [],
   "source": [
    "train_gt_file = open(\"../data/cache/train_gt\", \"rb\")\n",
    "train_gt_pickle = pickle.Unpickler(train_gt_file, encoding=\"latin1\")\n",
    "train_gt_cache = train_gt_pickle.load()"
   ]
  },
  {
   "cell_type": "code",
   "execution_count": null,
   "metadata": {
    "pycharm": {
     "name": "#%%\n"
    }
   },
   "outputs": [],
   "source": [
    "train_no_gt_file = open(\"../data/cache/train_no_gt\", 'rb')\n",
    "train_no_gt_pickle = pickle.Unpickler(train_no_gt_file, encoding=\"latin1\")\n",
    "train_no_gt_cache = train_no_gt_pickle.load()"
   ]
  },
  {
   "cell_type": "code",
   "execution_count": null,
   "metadata": {
    "pycharm": {
     "name": "#%%\n"
    }
   },
   "outputs": [],
   "source": [
    "test_file = open(\"../data/cache/test\", 'rb')\n",
    "test_pickle = pickle.Unpickler(test_file, encoding=\"latin1\")\n",
    "test_cache = test_pickle.load()"
   ]
  },
  {
   "cell_type": "code",
   "execution_count": null,
   "metadata": {
    "pycharm": {
     "name": "#%%\n"
    }
   },
   "outputs": [],
   "source": [
    "# import os.path as osp\n",
    "# import mmcv\n",
    "#\n",
    "# def convert_balloon_to_coco(ann_file, out_file, image_prefix):\n",
    "#     data_infos = mmcv.load(ann_file)\n",
    "#\n",
    "#     annotations = []\n",
    "#     images = []\n",
    "#     obj_count = 0\n",
    "#     for idx, v in enumerate(mmcv.track_iter_progress(data_infos.values())):\n",
    "#         filename = v['filename']\n",
    "#         img_path = osp.join(image_prefix, filename)\n",
    "#         height, width = mmcv.imread(img_path).shape[:2]\n",
    "#\n",
    "#         images.append(dict(\n",
    "#             id=idx,\n",
    "#             file_name=filename,\n",
    "#             height=height,\n",
    "#             width=width))\n",
    "#\n",
    "#         bboxes = []\n",
    "#         labels = []\n",
    "#         masks = []\n",
    "#         for _, obj in v['regions'].items():\n",
    "#             assert not obj['region_attributes']\n",
    "#             obj = obj['shape_attributes']\n",
    "#             px = obj['all_points_x']\n",
    "#             py = obj['all_points_y']\n",
    "#             poly = [(x + 0.5, y + 0.5) for x, y in zip(px, py)]\n",
    "#             poly = [p for x in poly for p in x]\n",
    "#\n",
    "#             x_min, y_min, x_max, y_max = (\n",
    "#                 min(px), min(py), max(px), max(py))\n",
    "#\n",
    "#\n",
    "#             data_anno = dict(\n",
    "#                 image_id=idx,\n",
    "#                 id=obj_count,\n",
    "#                 category_id=0,\n",
    "#                 bbox=[x_min, y_min, x_max - x_min, y_max - y_min],\n",
    "#                 area=(x_max - x_min) * (y_max - y_min),\n",
    "#                 segmentation=[poly],\n",
    "#                 iscrowd=0)\n",
    "#             annotations.append(data_anno)\n",
    "#             obj_count += 1\n",
    "#\n",
    "#     coco_format_json = dict(\n",
    "#         images=images,\n",
    "#         annotations=annotations,\n",
    "#         categories=[{'id':0, 'name': 'balloon'}])\n",
    "#     mmcv.dump(coco_format_json, out_file)\n"
   ]
  }
 ],
 "metadata": {
  "kernelspec": {
   "display_name": "Python 3",
   "language": "python",
   "name": "python3"
  },
  "language_info": {
   "codemirror_mode": {
    "name": "ipython",
    "version": 2
   },
   "file_extension": ".py",
   "mimetype": "text/x-python",
   "name": "python",
   "nbconvert_exporter": "python",
   "pygments_lexer": "ipython2",
   "version": "2.7.6"
  }
 },
 "nbformat": 4,
 "nbformat_minor": 0
}
