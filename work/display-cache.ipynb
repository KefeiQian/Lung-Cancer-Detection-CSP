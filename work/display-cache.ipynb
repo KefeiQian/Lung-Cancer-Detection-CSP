{
 "cells": [
  {
   "cell_type": "code",
   "execution_count": null,
   "metadata": {
    "collapsed": true,
    "pycharm": {
     "name": "#%%\n"
    }
   },
   "outputs": [],
   "source": [
    "import pickle"
   ]
  },
  {
   "cell_type": "code",
   "execution_count": null,
   "metadata": {
    "collapsed": false,
    "pycharm": {
     "name": "#%%\n"
    }
   },
   "outputs": [],
   "source": [
    "with open(\"../data/cache/train_gt\", 'rb') as fid:\n",
    "    train_pickle = pickle.Unpickler(fid, encoding=\"latin1\")\n",
    "    train_gt = train_pickle.load()\n",
    "\n",
    "train_gt"
   ]
  },
  {
   "cell_type": "code",
   "execution_count": null,
   "metadata": {
    "collapsed": false,
    "pycharm": {
     "name": "#%%\n"
    }
   },
   "outputs": [],
   "source": [
    "with open(\"../data/cache/train_no_gt\", 'rb') as fid:\n",
    "    train_no_gt_pickle = pickle.Unpickler(fid, encoding=\"latin1\")\n",
    "    train_no_gt_cache = train_no_gt_pickle.load()\n",
    "\n",
    "train_no_gt_cache"
   ]
  },
  {
   "cell_type": "code",
   "execution_count": null,
   "metadata": {
    "collapsed": false,
    "pycharm": {
     "name": "#%%\n"
    }
   },
   "outputs": [],
   "source": [
    "with open(\"../data/cache/test\", 'rb') as fid:\n",
    "    test_pickle = pickle.Unpickler(fid, encoding=\"latin1\")\n",
    "    test_cache = test_pickle.load()\n",
    "\n",
    "test_cache"
   ]
  },
  {
   "cell_type": "code",
   "execution_count": null,
   "outputs": [],
   "source": [],
   "metadata": {
    "collapsed": false,
    "pycharm": {
     "name": "#%%\n"
    }
   }
  }
 ],
 "metadata": {
  "kernelspec": {
   "display_name": "Lung-Cancer",
   "language": "python",
   "name": "python3"
  },
  "language_info": {
   "codemirror_mode": {
    "name": "ipython",
    "version": 3
   },
   "file_extension": ".py",
   "mimetype": "text/x-python",
   "name": "python",
   "nbconvert_exporter": "python",
   "pygments_lexer": "ipython3",
   "version": "3.10.8"
  },
  "vscode": {
   "interpreter": {
    "hash": "9d4e508bcdf8c60a886d154242a7d048eb1090ffddac0cfb1f3922d8edcb8935"
   }
  }
 },
 "nbformat": 4,
 "nbformat_minor": 0
}