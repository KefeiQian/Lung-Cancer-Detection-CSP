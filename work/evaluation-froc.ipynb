{
 "cells": [
  {
   "cell_type": "code",
   "execution_count": 1,
   "metadata": {
    "collapsed": true
   },
   "outputs": [],
   "source": [
    "import os\n",
    "import pickle\n",
    "\n",
    "import numpy as np\n",
    "import pandas as pd\n",
    "from tqdm import tqdm\n",
    "import json\n",
    "from sklearn import metrics\n",
    "\n",
    "import matplotlib.pyplot as plt\n",
    "from matplotlib.pyplot import figure\n",
    "\n",
    "import cv2"
   ]
  },
  {
   "cell_type": "code",
   "execution_count": 2,
   "outputs": [],
   "source": [
    "image_size = (512, 512)"
   ],
   "metadata": {
    "collapsed": false
   }
  },
  {
   "cell_type": "code",
   "execution_count": 3,
   "outputs": [
    {
     "data": {
      "text/plain": "                                       mhd_file_path  \\\n0  ../downloads/data/subset0/1.3.6.1.4.1.14519.5....   \n1  ../downloads/data/subset0/1.3.6.1.4.1.14519.5....   \n2  ../downloads/data/subset0/1.3.6.1.4.1.14519.5....   \n3  ../downloads/data/subset0/1.3.6.1.4.1.14519.5....   \n4  ../downloads/data/subset0/1.3.6.1.4.1.14519.5....   \n\n                                      mask_file_path  subset_id  \\\n0  ../downloads/seg-lungs-LUNA16/1.3.6.1.4.1.1451...          0   \n1  ../downloads/seg-lungs-LUNA16/1.3.6.1.4.1.1451...          0   \n2  ../downloads/seg-lungs-LUNA16/1.3.6.1.4.1.1451...          0   \n3  ../downloads/seg-lungs-LUNA16/1.3.6.1.4.1.1451...          0   \n4  ../downloads/seg-lungs-LUNA16/1.3.6.1.4.1.1451...          0   \n\n                                           series_id  total_images  \\\n0  1.3.6.1.4.1.14519.5.2.1.6279.6001.105756658031...           121   \n1  1.3.6.1.4.1.14519.5.2.1.6279.6001.108197895896...           119   \n2  1.3.6.1.4.1.14519.5.2.1.6279.6001.109002525524...           161   \n3  1.3.6.1.4.1.14519.5.2.1.6279.6001.111172165674...           538   \n4  1.3.6.1.4.1.14519.5.2.1.6279.6001.122763913896...           124   \n\n                                   origins  \\\n0       [-335.209991, -195.0, -198.100006]   \n1                [-313.75, -190.0, -182.5]   \n2       [-194.0, -108.300003, -187.699997]   \n3  [-298.774994, -143.100006, -180.600006]   \n4       [-337.480011, -157.5, -166.399994]   \n\n                                          spacings  is_flip  \\\n0    [2.5, 0.7617189884185791, 0.7617189884185791]    False   \n1    [2.5, 0.7421879768371582, 0.7421879768371582]    False   \n2   [1.25, 0.5488280057907104, 0.5488280057907104]    False   \n3  [0.625, 0.7421879768371582, 0.7421879768371582]    False   \n4    [2.5, 0.6152340173721313, 0.6152340173721313]    False   \n\n                                     ct_image_folder  \n0  ../data/images/1.3.6.1.4.1.14519.5.2.1.6279.60...  \n1  ../data/images/1.3.6.1.4.1.14519.5.2.1.6279.60...  \n2  ../data/images/1.3.6.1.4.1.14519.5.2.1.6279.60...  \n3  ../data/images/1.3.6.1.4.1.14519.5.2.1.6279.60...  \n4  ../data/images/1.3.6.1.4.1.14519.5.2.1.6279.60...  ",
      "text/html": "<div>\n<style scoped>\n    .dataframe tbody tr th:only-of-type {\n        vertical-align: middle;\n    }\n\n    .dataframe tbody tr th {\n        vertical-align: top;\n    }\n\n    .dataframe thead th {\n        text-align: right;\n    }\n</style>\n<table border=\"1\" class=\"dataframe\">\n  <thead>\n    <tr style=\"text-align: right;\">\n      <th></th>\n      <th>mhd_file_path</th>\n      <th>mask_file_path</th>\n      <th>subset_id</th>\n      <th>series_id</th>\n      <th>total_images</th>\n      <th>origins</th>\n      <th>spacings</th>\n      <th>is_flip</th>\n      <th>ct_image_folder</th>\n    </tr>\n  </thead>\n  <tbody>\n    <tr>\n      <th>0</th>\n      <td>../downloads/data/subset0/1.3.6.1.4.1.14519.5....</td>\n      <td>../downloads/seg-lungs-LUNA16/1.3.6.1.4.1.1451...</td>\n      <td>0</td>\n      <td>1.3.6.1.4.1.14519.5.2.1.6279.6001.105756658031...</td>\n      <td>121</td>\n      <td>[-335.209991, -195.0, -198.100006]</td>\n      <td>[2.5, 0.7617189884185791, 0.7617189884185791]</td>\n      <td>False</td>\n      <td>../data/images/1.3.6.1.4.1.14519.5.2.1.6279.60...</td>\n    </tr>\n    <tr>\n      <th>1</th>\n      <td>../downloads/data/subset0/1.3.6.1.4.1.14519.5....</td>\n      <td>../downloads/seg-lungs-LUNA16/1.3.6.1.4.1.1451...</td>\n      <td>0</td>\n      <td>1.3.6.1.4.1.14519.5.2.1.6279.6001.108197895896...</td>\n      <td>119</td>\n      <td>[-313.75, -190.0, -182.5]</td>\n      <td>[2.5, 0.7421879768371582, 0.7421879768371582]</td>\n      <td>False</td>\n      <td>../data/images/1.3.6.1.4.1.14519.5.2.1.6279.60...</td>\n    </tr>\n    <tr>\n      <th>2</th>\n      <td>../downloads/data/subset0/1.3.6.1.4.1.14519.5....</td>\n      <td>../downloads/seg-lungs-LUNA16/1.3.6.1.4.1.1451...</td>\n      <td>0</td>\n      <td>1.3.6.1.4.1.14519.5.2.1.6279.6001.109002525524...</td>\n      <td>161</td>\n      <td>[-194.0, -108.300003, -187.699997]</td>\n      <td>[1.25, 0.5488280057907104, 0.5488280057907104]</td>\n      <td>False</td>\n      <td>../data/images/1.3.6.1.4.1.14519.5.2.1.6279.60...</td>\n    </tr>\n    <tr>\n      <th>3</th>\n      <td>../downloads/data/subset0/1.3.6.1.4.1.14519.5....</td>\n      <td>../downloads/seg-lungs-LUNA16/1.3.6.1.4.1.1451...</td>\n      <td>0</td>\n      <td>1.3.6.1.4.1.14519.5.2.1.6279.6001.111172165674...</td>\n      <td>538</td>\n      <td>[-298.774994, -143.100006, -180.600006]</td>\n      <td>[0.625, 0.7421879768371582, 0.7421879768371582]</td>\n      <td>False</td>\n      <td>../data/images/1.3.6.1.4.1.14519.5.2.1.6279.60...</td>\n    </tr>\n    <tr>\n      <th>4</th>\n      <td>../downloads/data/subset0/1.3.6.1.4.1.14519.5....</td>\n      <td>../downloads/seg-lungs-LUNA16/1.3.6.1.4.1.1451...</td>\n      <td>0</td>\n      <td>1.3.6.1.4.1.14519.5.2.1.6279.6001.122763913896...</td>\n      <td>124</td>\n      <td>[-337.480011, -157.5, -166.399994]</td>\n      <td>[2.5, 0.6152340173721313, 0.6152340173721313]</td>\n      <td>False</td>\n      <td>../data/images/1.3.6.1.4.1.14519.5.2.1.6279.60...</td>\n    </tr>\n  </tbody>\n</table>\n</div>"
     },
     "execution_count": 3,
     "metadata": {},
     "output_type": "execute_result"
    }
   ],
   "source": [
    "mhd_info_csv_path = \"data/mhd_info.csv\"\n",
    "mhd_info_df = pd.read_csv(mhd_info_csv_path)\n",
    "mhd_info_df.head()"
   ],
   "metadata": {
    "collapsed": false
   }
  },
  {
   "cell_type": "code",
   "execution_count": 4,
   "outputs": [
    {
     "data": {
      "text/plain": "                                           seriesuid      coordX      coordY  \\\n0  1.3.6.1.4.1.14519.5.2.1.6279.6001.100225287222... -128.699421 -175.319272   \n1  1.3.6.1.4.1.14519.5.2.1.6279.6001.100225287222...  103.783651 -211.925149   \n2  1.3.6.1.4.1.14519.5.2.1.6279.6001.100398138793...   69.639017 -140.944586   \n3  1.3.6.1.4.1.14519.5.2.1.6279.6001.100621383016...  -24.013824  192.102405   \n4  1.3.6.1.4.1.14519.5.2.1.6279.6001.100621383016...    2.441547  172.464881   \n\n       coordZ  diameter_mm  included  \n0 -298.387506     5.651471         1  \n1 -227.121250     4.224708         1  \n2  876.374496     5.786348         1  \n3 -391.081276     8.143262         1  \n4 -405.493732    18.545150         1  ",
      "text/html": "<div>\n<style scoped>\n    .dataframe tbody tr th:only-of-type {\n        vertical-align: middle;\n    }\n\n    .dataframe tbody tr th {\n        vertical-align: top;\n    }\n\n    .dataframe thead th {\n        text-align: right;\n    }\n</style>\n<table border=\"1\" class=\"dataframe\">\n  <thead>\n    <tr style=\"text-align: right;\">\n      <th></th>\n      <th>seriesuid</th>\n      <th>coordX</th>\n      <th>coordY</th>\n      <th>coordZ</th>\n      <th>diameter_mm</th>\n      <th>included</th>\n    </tr>\n  </thead>\n  <tbody>\n    <tr>\n      <th>0</th>\n      <td>1.3.6.1.4.1.14519.5.2.1.6279.6001.100225287222...</td>\n      <td>-128.699421</td>\n      <td>-175.319272</td>\n      <td>-298.387506</td>\n      <td>5.651471</td>\n      <td>1</td>\n    </tr>\n    <tr>\n      <th>1</th>\n      <td>1.3.6.1.4.1.14519.5.2.1.6279.6001.100225287222...</td>\n      <td>103.783651</td>\n      <td>-211.925149</td>\n      <td>-227.121250</td>\n      <td>4.224708</td>\n      <td>1</td>\n    </tr>\n    <tr>\n      <th>2</th>\n      <td>1.3.6.1.4.1.14519.5.2.1.6279.6001.100398138793...</td>\n      <td>69.639017</td>\n      <td>-140.944586</td>\n      <td>876.374496</td>\n      <td>5.786348</td>\n      <td>1</td>\n    </tr>\n    <tr>\n      <th>3</th>\n      <td>1.3.6.1.4.1.14519.5.2.1.6279.6001.100621383016...</td>\n      <td>-24.013824</td>\n      <td>192.102405</td>\n      <td>-391.081276</td>\n      <td>8.143262</td>\n      <td>1</td>\n    </tr>\n    <tr>\n      <th>4</th>\n      <td>1.3.6.1.4.1.14519.5.2.1.6279.6001.100621383016...</td>\n      <td>2.441547</td>\n      <td>172.464881</td>\n      <td>-405.493732</td>\n      <td>18.545150</td>\n      <td>1</td>\n    </tr>\n  </tbody>\n</table>\n</div>"
     },
     "execution_count": 4,
     "metadata": {},
     "output_type": "execute_result"
    }
   ],
   "source": [
    "annotations_included_path = \"data/annotations.csv\"\n",
    "annotations_included_df = pd.read_csv(annotations_included_path, delimiter=\",\")\n",
    "annotations_included_df[\"included\"] = 1\n",
    "annotations_included_df.head()"
   ],
   "metadata": {
    "collapsed": false
   }
  },
  {
   "cell_type": "code",
   "execution_count": 5,
   "outputs": [
    {
     "data": {
      "text/plain": "                                           seriesuid      coordX      coordY  \\\n0  1.3.6.1.4.1.14519.5.2.1.6279.6001.100225287222... -131.896494 -155.056702   \n1  1.3.6.1.4.1.14519.5.2.1.6279.6001.100225287222...   80.798736 -109.295001   \n2  1.3.6.1.4.1.14519.5.2.1.6279.6001.100225287222...  -62.287146  -55.154396   \n3  1.3.6.1.4.1.14519.5.2.1.6279.6001.100225287222...   83.376859  -58.377052   \n4  1.3.6.1.4.1.14519.5.2.1.6279.6001.100225287222...  -41.017623  -60.310645   \n\n   coordZ  diameter_mm  included  \n0  -317.8         -1.0         0  \n1  -123.4         -1.0         0  \n2  -283.6         -1.0         0  \n3  -236.8         -1.0         0  \n4  -240.4         -1.0         0  ",
      "text/html": "<div>\n<style scoped>\n    .dataframe tbody tr th:only-of-type {\n        vertical-align: middle;\n    }\n\n    .dataframe tbody tr th {\n        vertical-align: top;\n    }\n\n    .dataframe thead th {\n        text-align: right;\n    }\n</style>\n<table border=\"1\" class=\"dataframe\">\n  <thead>\n    <tr style=\"text-align: right;\">\n      <th></th>\n      <th>seriesuid</th>\n      <th>coordX</th>\n      <th>coordY</th>\n      <th>coordZ</th>\n      <th>diameter_mm</th>\n      <th>included</th>\n    </tr>\n  </thead>\n  <tbody>\n    <tr>\n      <th>0</th>\n      <td>1.3.6.1.4.1.14519.5.2.1.6279.6001.100225287222...</td>\n      <td>-131.896494</td>\n      <td>-155.056702</td>\n      <td>-317.8</td>\n      <td>-1.0</td>\n      <td>0</td>\n    </tr>\n    <tr>\n      <th>1</th>\n      <td>1.3.6.1.4.1.14519.5.2.1.6279.6001.100225287222...</td>\n      <td>80.798736</td>\n      <td>-109.295001</td>\n      <td>-123.4</td>\n      <td>-1.0</td>\n      <td>0</td>\n    </tr>\n    <tr>\n      <th>2</th>\n      <td>1.3.6.1.4.1.14519.5.2.1.6279.6001.100225287222...</td>\n      <td>-62.287146</td>\n      <td>-55.154396</td>\n      <td>-283.6</td>\n      <td>-1.0</td>\n      <td>0</td>\n    </tr>\n    <tr>\n      <th>3</th>\n      <td>1.3.6.1.4.1.14519.5.2.1.6279.6001.100225287222...</td>\n      <td>83.376859</td>\n      <td>-58.377052</td>\n      <td>-236.8</td>\n      <td>-1.0</td>\n      <td>0</td>\n    </tr>\n    <tr>\n      <th>4</th>\n      <td>1.3.6.1.4.1.14519.5.2.1.6279.6001.100225287222...</td>\n      <td>-41.017623</td>\n      <td>-60.310645</td>\n      <td>-240.4</td>\n      <td>-1.0</td>\n      <td>0</td>\n    </tr>\n  </tbody>\n</table>\n</div>"
     },
     "execution_count": 5,
     "metadata": {},
     "output_type": "execute_result"
    }
   ],
   "source": [
    "annotations_excluded_path = \"data/annotations_excluded.csv\"\n",
    "annotations_excluded_df = pd.read_csv(annotations_excluded_path, delimiter=\",\")\n",
    "annotations_excluded_df[\"included\"] = 0\n",
    "annotations_excluded_df.head()"
   ],
   "metadata": {
    "collapsed": false
   }
  },
  {
   "cell_type": "code",
   "execution_count": 6,
   "outputs": [
    {
     "data": {
      "text/plain": "                                           seriesuid      coordX      coordY  \\\n0  1.3.6.1.4.1.14519.5.2.1.6279.6001.100225287222... -128.699421 -175.319272   \n1  1.3.6.1.4.1.14519.5.2.1.6279.6001.100225287222...  103.783651 -211.925149   \n2  1.3.6.1.4.1.14519.5.2.1.6279.6001.100398138793...   69.639017 -140.944586   \n3  1.3.6.1.4.1.14519.5.2.1.6279.6001.100621383016...  -24.013824  192.102405   \n4  1.3.6.1.4.1.14519.5.2.1.6279.6001.100621383016...    2.441547  172.464881   \n\n       coordZ  diameter_mm  included  \n0 -298.387506     5.651471         1  \n1 -227.121250     4.224708         1  \n2  876.374496     5.786348         1  \n3 -391.081276     8.143262         1  \n4 -405.493732    18.545150         1  ",
      "text/html": "<div>\n<style scoped>\n    .dataframe tbody tr th:only-of-type {\n        vertical-align: middle;\n    }\n\n    .dataframe tbody tr th {\n        vertical-align: top;\n    }\n\n    .dataframe thead th {\n        text-align: right;\n    }\n</style>\n<table border=\"1\" class=\"dataframe\">\n  <thead>\n    <tr style=\"text-align: right;\">\n      <th></th>\n      <th>seriesuid</th>\n      <th>coordX</th>\n      <th>coordY</th>\n      <th>coordZ</th>\n      <th>diameter_mm</th>\n      <th>included</th>\n    </tr>\n  </thead>\n  <tbody>\n    <tr>\n      <th>0</th>\n      <td>1.3.6.1.4.1.14519.5.2.1.6279.6001.100225287222...</td>\n      <td>-128.699421</td>\n      <td>-175.319272</td>\n      <td>-298.387506</td>\n      <td>5.651471</td>\n      <td>1</td>\n    </tr>\n    <tr>\n      <th>1</th>\n      <td>1.3.6.1.4.1.14519.5.2.1.6279.6001.100225287222...</td>\n      <td>103.783651</td>\n      <td>-211.925149</td>\n      <td>-227.121250</td>\n      <td>4.224708</td>\n      <td>1</td>\n    </tr>\n    <tr>\n      <th>2</th>\n      <td>1.3.6.1.4.1.14519.5.2.1.6279.6001.100398138793...</td>\n      <td>69.639017</td>\n      <td>-140.944586</td>\n      <td>876.374496</td>\n      <td>5.786348</td>\n      <td>1</td>\n    </tr>\n    <tr>\n      <th>3</th>\n      <td>1.3.6.1.4.1.14519.5.2.1.6279.6001.100621383016...</td>\n      <td>-24.013824</td>\n      <td>192.102405</td>\n      <td>-391.081276</td>\n      <td>8.143262</td>\n      <td>1</td>\n    </tr>\n    <tr>\n      <th>4</th>\n      <td>1.3.6.1.4.1.14519.5.2.1.6279.6001.100621383016...</td>\n      <td>2.441547</td>\n      <td>172.464881</td>\n      <td>-405.493732</td>\n      <td>18.545150</td>\n      <td>1</td>\n    </tr>\n  </tbody>\n</table>\n</div>"
     },
     "execution_count": 6,
     "metadata": {},
     "output_type": "execute_result"
    }
   ],
   "source": [
    "annotations = pd.concat([annotations_included_df, annotations_excluded_df])\n",
    "annotations.head()"
   ],
   "metadata": {
    "collapsed": false
   }
  },
  {
   "cell_type": "code",
   "execution_count": 7,
   "outputs": [
    {
     "name": "stderr",
     "output_type": "stream",
     "text": [
      "test epoch: 100%|██████████| 150/150 [00:16<00:00,  9.32it/s]\n"
     ]
    }
   ],
   "source": [
    "def read_detection_result():\n",
    "    detection_result_folder = \"../output/valresults/caltech/h/off\"\n",
    "\n",
    "    detection_dfs = {}\n",
    "    for epoch_id in tqdm(os.listdir(detection_result_folder), desc=\"test epoch\"):\n",
    "        current_folder_path = \"{}/{}\".format(detection_result_folder, epoch_id)\n",
    "\n",
    "        detection_dfs.setdefault(epoch_id, {})\n",
    "        for filename in os.listdir(current_folder_path):\n",
    "            series_id = filename[0:-4]\n",
    "            file = os.path.join(current_folder_path, filename)\n",
    "            try:\n",
    "                result_df = pd.read_csv(file, delimiter=\" \", header=None)\n",
    "                result_df.columns = [\"z-index\", \"top_left_x\", \"top_left_y\", \"width\", \"height\", \"probability\"]\n",
    "                detection_dfs.get(epoch_id).setdefault(series_id, result_df)\n",
    "            except Exception:\n",
    "                # print(epoch_id, filename, \"skipped\")\n",
    "                empty_df = pd.DataFrame()\n",
    "                detection_dfs.get(epoch_id).setdefault(series_id, empty_df)\n",
    "\n",
    "    return detection_dfs\n",
    "\n",
    "test_detections = read_detection_result()"
   ],
   "metadata": {
    "collapsed": false
   }
  },
  {
   "cell_type": "code",
   "execution_count": 8,
   "outputs": [
    {
     "data": {
      "text/plain": "dict_keys(['001', '002', '003', '004', '005', '006', '007', '008', '009', '010', '011', '012', '013', '014', '015', '016', '017', '018', '019', '020', '021', '022', '023', '024', '025', '026', '027', '028', '029', '030', '031', '032', '033', '034', '035', '036', '037', '038', '039', '040', '041', '042', '043', '044', '045', '046', '047', '048', '049', '050', '051', '052', '053', '054', '055', '056', '057', '058', '059', '060', '061', '062', '063', '064', '065', '066', '067', '068', '069', '070', '071', '072', '073', '074', '075', '076', '077', '078', '079', '080', '081', '082', '083', '084', '085', '086', '087', '088', '089', '090', '091', '092', '093', '094', '095', '096', '097', '098', '099', '100', '101', '102', '103', '104', '105', '106', '107', '108', '109', '110', '111', '112', '113', '114', '115', '116', '117', '118', '119', '120', '121', '122', '123', '124', '125', '126', '127', '128', '129', '130', '131', '132', '133', '134', '135', '136', '137', '138', '139', '140', '141', '142', '143', '144', '145', '146', '147', '148', '149', '150'])"
     },
     "execution_count": 8,
     "metadata": {},
     "output_type": "execute_result"
    }
   ],
   "source": [
    "test_detections.keys()"
   ],
   "metadata": {
    "collapsed": false
   }
  },
  {
   "cell_type": "code",
   "execution_count": 9,
   "outputs": [],
   "source": [
    "def is_nodule_included(n):\n",
    "    return n[\"included\"] == 1"
   ],
   "metadata": {
    "collapsed": false
   }
  },
  {
   "cell_type": "code",
   "execution_count": 13,
   "outputs": [
    {
     "name": "stderr",
     "output_type": "stream",
     "text": [
      "  0%|          | 0/50 [00:00<?, ?it/s]\n",
      "series_id:   0%|          | 0/59 [00:00<?, ?it/s]\u001B[A\n",
      "series_id:   3%|▎         | 2/59 [00:00<00:07,  7.91it/s]\u001B[A\n",
      "series_id:   8%|▊         | 5/59 [00:00<00:04, 11.29it/s]\u001B[A\n",
      "series_id:  20%|██        | 12/59 [00:00<00:01, 25.73it/s]\u001B[A\n",
      "series_id:  27%|██▋       | 16/59 [00:00<00:01, 27.22it/s]\u001B[A\n",
      "series_id:  37%|███▋      | 22/59 [00:00<00:01, 25.55it/s]\u001B[A\n",
      "series_id:  49%|████▉     | 29/59 [00:01<00:00, 33.10it/s]\u001B[A\n",
      "series_id:  56%|█████▌    | 33/59 [00:01<00:00, 29.45it/s]\u001B[A\n",
      "series_id:  73%|███████▎  | 43/59 [00:01<00:00, 43.89it/s]\u001B[A\n",
      "series_id:  83%|████████▎ | 49/59 [00:01<00:00, 45.41it/s]\u001B[A\n",
      "series_id: 100%|██████████| 59/59 [00:01<00:00, 33.69it/s]\u001B[A\n",
      "  2%|▏         | 1/50 [00:01<01:26,  1.76s/it]"
     ]
    },
    {
     "name": "stdout",
     "output_type": "stream",
     "text": [
      "tp 6\n",
      "fp 441\n",
      "fn 99\n",
      "tn 0\n",
      "total number of candidates 7\n",
      "total number of nodules 105\n",
      "irrelevant candidates 84\n",
      "Ignored candidates which were double detections on a nodule 1\n",
      "sensitivity 0.05714285714285714\n",
      "Average number of candidates per scan 0.11864406779661017\n"
     ]
    },
    {
     "name": "stderr",
     "output_type": "stream",
     "text": [
      "\n",
      "series_id:   0%|          | 0/59 [00:00<?, ?it/s]\u001B[A\n",
      "series_id:   3%|▎         | 2/59 [00:00<00:06,  9.01it/s]\u001B[A\n",
      "series_id:   8%|▊         | 5/59 [00:00<00:04, 12.16it/s]\u001B[A\n",
      "series_id:  20%|██        | 12/59 [00:00<00:01, 26.93it/s]\u001B[A\n",
      "series_id:  27%|██▋       | 16/59 [00:00<00:01, 28.35it/s]\u001B[A\n",
      "series_id:  37%|███▋      | 22/59 [00:00<00:01, 26.81it/s]\u001B[A\n",
      "series_id:  47%|████▋     | 28/59 [00:01<00:00, 33.89it/s]\u001B[A\n",
      "series_id:  54%|█████▍    | 32/59 [00:01<00:00, 30.98it/s]\u001B[A\n",
      "series_id:  64%|██████▍   | 38/59 [00:01<00:00, 37.15it/s]\u001B[A\n",
      "series_id:  75%|███████▍  | 44/59 [00:01<00:00, 40.73it/s]\u001B[A\n",
      "series_id:  86%|████████▋ | 51/59 [00:01<00:00, 47.73it/s]\u001B[A\n",
      "series_id: 100%|██████████| 59/59 [00:01<00:00, 33.89it/s]\u001B[A\n",
      "  4%|▍         | 2/50 [00:03<01:23,  1.75s/it]"
     ]
    },
    {
     "name": "stdout",
     "output_type": "stream",
     "text": [
      "tp 6\n",
      "fp 440\n",
      "fn 99\n",
      "tn 0\n",
      "total number of candidates 7\n",
      "total number of nodules 105\n",
      "irrelevant candidates 88\n",
      "Ignored candidates which were double detections on a nodule 1\n",
      "sensitivity 0.05714285714285714\n",
      "Average number of candidates per scan 0.11864406779661017\n"
     ]
    },
    {
     "name": "stderr",
     "output_type": "stream",
     "text": [
      "\n",
      "series_id:   0%|          | 0/59 [00:00<?, ?it/s]\u001B[A\n",
      "series_id:   3%|▎         | 2/59 [00:00<00:06,  9.37it/s]\u001B[A\n",
      "series_id:   8%|▊         | 5/59 [00:00<00:04, 12.54it/s]\u001B[A\n",
      "series_id:  20%|██        | 12/59 [00:00<00:01, 27.34it/s]\u001B[A\n",
      "series_id:  27%|██▋       | 16/59 [00:00<00:01, 27.64it/s]\u001B[A\n",
      "series_id:  37%|███▋      | 22/59 [00:00<00:01, 25.82it/s]\u001B[A\n",
      "series_id:  47%|████▋     | 28/59 [00:01<00:00, 32.92it/s]\u001B[A\n",
      "series_id:  54%|█████▍    | 32/59 [00:01<00:00, 30.62it/s]\u001B[A\n",
      "series_id:  64%|██████▍   | 38/59 [00:01<00:00, 36.78it/s]\u001B[A\n",
      "series_id:  75%|███████▍  | 44/59 [00:01<00:00, 41.25it/s]\u001B[A\n",
      "series_id:  88%|████████▊ | 52/59 [00:01<00:00, 48.85it/s]\u001B[A\n",
      "series_id: 100%|██████████| 59/59 [00:01<00:00, 34.33it/s]\u001B[A\n",
      "  6%|▌         | 3/50 [00:05<01:21,  1.74s/it]"
     ]
    },
    {
     "name": "stdout",
     "output_type": "stream",
     "text": [
      "tp 6\n",
      "fp 410\n",
      "fn 99\n",
      "tn 0\n",
      "total number of candidates 6\n",
      "total number of nodules 105\n",
      "irrelevant candidates 87\n",
      "Ignored candidates which were double detections on a nodule 1\n",
      "sensitivity 0.05714285714285714\n",
      "Average number of candidates per scan 0.1016949152542373\n"
     ]
    },
    {
     "name": "stderr",
     "output_type": "stream",
     "text": [
      "\n",
      "series_id:   0%|          | 0/59 [00:00<?, ?it/s]\u001B[A\n",
      "series_id:   3%|▎         | 2/59 [00:00<00:06,  9.41it/s]\u001B[A\n",
      "series_id:   8%|▊         | 5/59 [00:00<00:04, 12.87it/s]\u001B[A\n",
      "series_id:  20%|██        | 12/59 [00:00<00:01, 27.94it/s]\u001B[A\n",
      "series_id:  27%|██▋       | 16/59 [00:00<00:01, 28.42it/s]\u001B[A\n",
      "series_id:  37%|███▋      | 22/59 [00:00<00:01, 27.14it/s]\u001B[A\n",
      "series_id:  49%|████▉     | 29/59 [00:01<00:00, 35.14it/s]\u001B[A\n",
      "series_id:  56%|█████▌    | 33/59 [00:01<00:00, 30.83it/s]\u001B[A\n",
      "series_id:  71%|███████   | 42/59 [00:01<00:00, 43.84it/s]\u001B[A\n",
      "series_id:  81%|████████▏ | 48/59 [00:01<00:00, 45.01it/s]\u001B[A\n",
      "series_id:  92%|█████████▏| 54/59 [00:01<00:00, 45.25it/s]\u001B[A\n",
      "series_id: 100%|██████████| 59/59 [00:01<00:00, 35.15it/s]\u001B[A\n",
      "  8%|▊         | 4/50 [00:06<01:18,  1.72s/it]"
     ]
    },
    {
     "name": "stdout",
     "output_type": "stream",
     "text": [
      "tp 7\n",
      "fp 405\n",
      "fn 98\n",
      "tn 0\n",
      "total number of candidates 6\n",
      "total number of nodules 105\n",
      "irrelevant candidates 87\n",
      "Ignored candidates which were double detections on a nodule 1\n",
      "sensitivity 0.06666666666666667\n",
      "Average number of candidates per scan 0.1016949152542373\n"
     ]
    },
    {
     "name": "stderr",
     "output_type": "stream",
     "text": [
      "\n",
      "series_id:   0%|          | 0/59 [00:00<?, ?it/s]\u001B[A\n",
      "series_id:   3%|▎         | 2/59 [00:00<00:05,  9.50it/s]\u001B[A\n",
      "series_id:   8%|▊         | 5/59 [00:00<00:04, 12.76it/s]\u001B[A\n",
      "series_id:  20%|██        | 12/59 [00:00<00:01, 27.74it/s]\u001B[A\n",
      "series_id:  27%|██▋       | 16/59 [00:00<00:01, 28.11it/s]\u001B[A\n",
      "series_id:  37%|███▋      | 22/59 [00:00<00:01, 26.35it/s]\u001B[A\n",
      "series_id:  49%|████▉     | 29/59 [00:01<00:00, 34.66it/s]\u001B[A\n",
      "series_id:  56%|█████▌    | 33/59 [00:01<00:00, 30.89it/s]\u001B[A\n",
      "series_id:  73%|███████▎  | 43/59 [00:01<00:00, 45.40it/s]\u001B[A\n",
      "series_id:  83%|████████▎ | 49/59 [00:01<00:00, 47.29it/s]\u001B[A\n",
      "series_id: 100%|██████████| 59/59 [00:01<00:00, 35.19it/s]\u001B[A\n",
      " 10%|█         | 5/50 [00:08<01:16,  1.70s/it]"
     ]
    },
    {
     "name": "stdout",
     "output_type": "stream",
     "text": [
      "tp 6\n",
      "fp 400\n",
      "fn 99\n",
      "tn 0\n",
      "total number of candidates 5\n",
      "total number of nodules 105\n",
      "irrelevant candidates 80\n",
      "Ignored candidates which were double detections on a nodule 1\n",
      "sensitivity 0.05714285714285714\n",
      "Average number of candidates per scan 0.0847457627118644\n"
     ]
    },
    {
     "name": "stderr",
     "output_type": "stream",
     "text": [
      "\n",
      "series_id:   0%|          | 0/59 [00:00<?, ?it/s]\u001B[A\n",
      "series_id:   3%|▎         | 2/59 [00:00<00:06,  8.85it/s]\u001B[A\n",
      "series_id:   8%|▊         | 5/59 [00:00<00:04, 12.03it/s]\u001B[A\n",
      "series_id:  20%|██        | 12/59 [00:00<00:01, 26.74it/s]\u001B[A\n",
      "series_id:  27%|██▋       | 16/59 [00:00<00:01, 27.34it/s]\u001B[A\n",
      "series_id:  37%|███▋      | 22/59 [00:00<00:01, 25.02it/s]\u001B[A\n",
      "series_id:  47%|████▋     | 28/59 [00:01<00:00, 31.85it/s]\u001B[A\n",
      "series_id:  54%|█████▍    | 32/59 [00:01<00:00, 29.15it/s]\u001B[A\n",
      "series_id:  69%|██████▉   | 41/59 [00:01<00:00, 40.31it/s]\u001B[A\n",
      "series_id:  80%|███████▉  | 47/59 [00:01<00:00, 42.80it/s]\u001B[A\n",
      "series_id:  90%|████████▉ | 53/59 [00:01<00:00, 40.70it/s]\u001B[A\n",
      "series_id: 100%|██████████| 59/59 [00:01<00:00, 32.88it/s]\u001B[A\n",
      " 12%|█▏        | 6/50 [00:10<01:16,  1.74s/it]"
     ]
    },
    {
     "name": "stdout",
     "output_type": "stream",
     "text": [
      "tp 7\n",
      "fp 426\n",
      "fn 98\n",
      "tn 0\n",
      "total number of candidates 4\n",
      "total number of nodules 105\n",
      "irrelevant candidates 84\n",
      "Ignored candidates which were double detections on a nodule 1\n",
      "sensitivity 0.06666666666666667\n",
      "Average number of candidates per scan 0.06779661016949153\n"
     ]
    },
    {
     "name": "stderr",
     "output_type": "stream",
     "text": [
      "\n",
      "series_id:   0%|          | 0/59 [00:00<?, ?it/s]\u001B[A\n",
      "series_id:   3%|▎         | 2/59 [00:00<00:06,  8.21it/s]\u001B[A\n",
      "series_id:   8%|▊         | 5/59 [00:00<00:04, 12.57it/s]\u001B[A\n",
      "series_id:  20%|██        | 12/59 [00:00<00:01, 27.47it/s]\u001B[A\n",
      "series_id:  27%|██▋       | 16/59 [00:00<00:01, 26.81it/s]\u001B[A\n",
      "series_id:  37%|███▋      | 22/59 [00:00<00:01, 25.00it/s]\u001B[A\n",
      "series_id:  47%|████▋     | 28/59 [00:01<00:00, 31.92it/s]\u001B[A\n",
      "series_id:  54%|█████▍    | 32/59 [00:01<00:00, 28.58it/s]\u001B[A\n",
      "series_id:  69%|██████▉   | 41/59 [00:01<00:00, 40.38it/s]\u001B[A\n",
      "series_id:  80%|███████▉  | 47/59 [00:01<00:00, 43.19it/s]\u001B[A\n",
      "series_id:  90%|████████▉ | 53/59 [00:01<00:00, 40.90it/s]\u001B[A\n",
      "series_id: 100%|██████████| 59/59 [00:01<00:00, 32.91it/s]\u001B[A\n",
      " 14%|█▍        | 7/50 [00:12<01:15,  1.76s/it]"
     ]
    },
    {
     "name": "stdout",
     "output_type": "stream",
     "text": [
      "tp 9\n",
      "fp 429\n",
      "fn 96\n",
      "tn 0\n",
      "total number of candidates 4\n",
      "total number of nodules 105\n",
      "irrelevant candidates 91\n",
      "Ignored candidates which were double detections on a nodule 1\n",
      "sensitivity 0.08571428571428572\n",
      "Average number of candidates per scan 0.06779661016949153\n"
     ]
    },
    {
     "name": "stderr",
     "output_type": "stream",
     "text": [
      "\n",
      "series_id:   0%|          | 0/59 [00:00<?, ?it/s]\u001B[A\n",
      "series_id:   3%|▎         | 2/59 [00:00<00:06,  8.23it/s]\u001B[A\n",
      "series_id:   8%|▊         | 5/59 [00:00<00:04, 11.94it/s]\u001B[A\n",
      "series_id:  20%|██        | 12/59 [00:00<00:01, 26.42it/s]\u001B[A\n",
      "series_id:  27%|██▋       | 16/59 [00:00<00:01, 26.67it/s]\u001B[A\n",
      "series_id:  37%|███▋      | 22/59 [00:00<00:01, 24.77it/s]\u001B[A\n",
      "series_id:  47%|████▋     | 28/59 [00:01<00:00, 31.85it/s]\u001B[A\n",
      "series_id:  54%|█████▍    | 32/59 [00:01<00:00, 28.51it/s]\u001B[A\n",
      "series_id:  69%|██████▉   | 41/59 [00:01<00:00, 40.06it/s]\u001B[A\n",
      "series_id:  80%|███████▉  | 47/59 [00:01<00:00, 43.70it/s]\u001B[A\n",
      "series_id:  90%|████████▉ | 53/59 [00:01<00:00, 42.05it/s]\u001B[A\n",
      "series_id: 100%|██████████| 59/59 [00:01<00:00, 32.81it/s]\u001B[A\n",
      " 16%|█▌        | 8/50 [00:13<01:14,  1.77s/it]"
     ]
    },
    {
     "name": "stdout",
     "output_type": "stream",
     "text": [
      "tp 9\n",
      "fp 455\n",
      "fn 96\n",
      "tn 0\n",
      "total number of candidates 6\n",
      "total number of nodules 105\n",
      "irrelevant candidates 90\n",
      "Ignored candidates which were double detections on a nodule 1\n",
      "sensitivity 0.08571428571428572\n",
      "Average number of candidates per scan 0.1016949152542373\n"
     ]
    },
    {
     "name": "stderr",
     "output_type": "stream",
     "text": [
      "\n",
      "series_id:   0%|          | 0/59 [00:00<?, ?it/s]\u001B[A\n",
      "series_id:   3%|▎         | 2/59 [00:00<00:06,  8.91it/s]\u001B[A\n",
      "series_id:   8%|▊         | 5/59 [00:00<00:04, 12.82it/s]\u001B[A\n",
      "series_id:  20%|██        | 12/59 [00:00<00:01, 27.98it/s]\u001B[A\n",
      "series_id:  27%|██▋       | 16/59 [00:00<00:01, 28.89it/s]\u001B[A\n",
      "series_id:  37%|███▋      | 22/59 [00:00<00:01, 26.87it/s]\u001B[A\n",
      "series_id:  49%|████▉     | 29/59 [00:01<00:00, 34.44it/s]\u001B[A\n",
      "series_id:  56%|█████▌    | 33/59 [00:01<00:00, 30.43it/s]\u001B[A\n",
      "series_id:  73%|███████▎  | 43/59 [00:01<00:00, 45.03it/s]\u001B[A\n",
      "series_id:  83%|████████▎ | 49/59 [00:01<00:00, 45.20it/s]\u001B[A\n",
      "series_id: 100%|██████████| 59/59 [00:01<00:00, 34.62it/s]\u001B[A\n",
      " 18%|█▊        | 9/50 [00:15<01:11,  1.75s/it]"
     ]
    },
    {
     "name": "stdout",
     "output_type": "stream",
     "text": [
      "tp 8\n",
      "fp 423\n",
      "fn 97\n",
      "tn 0\n",
      "total number of candidates 6\n",
      "total number of nodules 105\n",
      "irrelevant candidates 94\n",
      "Ignored candidates which were double detections on a nodule 1\n",
      "sensitivity 0.0761904761904762\n",
      "Average number of candidates per scan 0.1016949152542373\n"
     ]
    },
    {
     "name": "stderr",
     "output_type": "stream",
     "text": [
      "\n",
      "series_id:   0%|          | 0/59 [00:00<?, ?it/s]\u001B[A\n",
      "series_id:   3%|▎         | 2/59 [00:00<00:06,  9.28it/s]\u001B[A\n",
      "series_id:   8%|▊         | 5/59 [00:00<00:03, 13.54it/s]\u001B[A\n",
      "series_id:  20%|██        | 12/59 [00:00<00:01, 28.65it/s]\u001B[A\n",
      "series_id:  27%|██▋       | 16/59 [00:00<00:01, 29.81it/s]\u001B[A\n",
      "series_id:  37%|███▋      | 22/59 [00:00<00:01, 27.72it/s]\u001B[A\n",
      "series_id:  49%|████▉     | 29/59 [00:00<00:00, 35.82it/s]\u001B[A\n",
      "series_id:  58%|█████▊    | 34/59 [00:01<00:00, 31.49it/s]\u001B[A\n",
      "series_id:  75%|███████▍  | 44/59 [00:01<00:00, 43.00it/s]\u001B[A\n",
      "series_id:  83%|████████▎ | 49/59 [00:01<00:00, 44.50it/s]\u001B[A\n",
      "series_id:  92%|█████████▏| 54/59 [00:01<00:00, 43.72it/s]\u001B[A\n",
      "series_id: 100%|██████████| 59/59 [00:01<00:00, 34.95it/s]\u001B[A\n",
      " 20%|██        | 10/50 [00:17<01:09,  1.73s/it]"
     ]
    },
    {
     "name": "stdout",
     "output_type": "stream",
     "text": [
      "tp 8\n",
      "fp 402\n",
      "fn 97\n",
      "tn 0\n",
      "total number of candidates 7\n",
      "total number of nodules 105\n",
      "irrelevant candidates 88\n",
      "Ignored candidates which were double detections on a nodule 1\n",
      "sensitivity 0.0761904761904762\n",
      "Average number of candidates per scan 0.11864406779661017\n"
     ]
    },
    {
     "name": "stderr",
     "output_type": "stream",
     "text": [
      "\n",
      "series_id:   0%|          | 0/59 [00:00<?, ?it/s]\u001B[A\n",
      "series_id:   3%|▎         | 2/59 [00:00<00:05, 10.03it/s]\u001B[A\n",
      "series_id:   8%|▊         | 5/59 [00:00<00:03, 13.79it/s]\u001B[A\n",
      "series_id:  19%|█▊        | 11/59 [00:00<00:01, 27.82it/s]\u001B[A\n",
      "series_id:  27%|██▋       | 16/59 [00:00<00:01, 30.04it/s]\u001B[A\n",
      "series_id:  37%|███▋      | 22/59 [00:00<00:01, 28.15it/s]\u001B[A\n",
      "series_id:  49%|████▉     | 29/59 [00:00<00:00, 37.30it/s]\u001B[A\n",
      "series_id:  58%|█████▊    | 34/59 [00:01<00:00, 34.97it/s]\u001B[A\n",
      "series_id:  75%|███████▍  | 44/59 [00:01<00:00, 47.83it/s]\u001B[A\n",
      "series_id:  88%|████████▊ | 52/59 [00:01<00:00, 52.63it/s]\u001B[A\n",
      "series_id: 100%|██████████| 59/59 [00:01<00:00, 37.87it/s]\u001B[A\n",
      " 22%|██▏       | 11/50 [00:18<01:05,  1.68s/it]"
     ]
    },
    {
     "name": "stdout",
     "output_type": "stream",
     "text": [
      "tp 7\n",
      "fp 386\n",
      "fn 98\n",
      "tn 0\n",
      "total number of candidates 7\n",
      "total number of nodules 105\n",
      "irrelevant candidates 83\n",
      "Ignored candidates which were double detections on a nodule 1\n",
      "sensitivity 0.06666666666666667\n",
      "Average number of candidates per scan 0.11864406779661017\n"
     ]
    },
    {
     "name": "stderr",
     "output_type": "stream",
     "text": [
      "\n",
      "series_id:   0%|          | 0/59 [00:00<?, ?it/s]\u001B[A\n",
      "series_id:   3%|▎         | 2/59 [00:00<00:05,  9.98it/s]\u001B[A\n",
      "series_id:   8%|▊         | 5/59 [00:00<00:03, 14.39it/s]\u001B[A\n",
      "series_id:  20%|██        | 12/59 [00:00<00:01, 29.95it/s]\u001B[A\n",
      "series_id:  27%|██▋       | 16/59 [00:00<00:01, 31.58it/s]\u001B[A\n",
      "series_id:  37%|███▋      | 22/59 [00:00<00:01, 28.92it/s]\u001B[A\n",
      "series_id:  49%|████▉     | 29/59 [00:00<00:00, 37.93it/s]\u001B[A\n",
      "series_id:  58%|█████▊    | 34/59 [00:01<00:00, 35.72it/s]\u001B[A\n",
      "series_id:  75%|███████▍  | 44/59 [00:01<00:00, 49.31it/s]\u001B[A\n",
      "series_id:  88%|████████▊ | 52/59 [00:01<00:00, 54.18it/s]\u001B[A\n",
      "series_id: 100%|██████████| 59/59 [00:01<00:00, 39.19it/s]\u001B[A\n",
      " 24%|██▍       | 12/50 [00:20<01:01,  1.63s/it]"
     ]
    },
    {
     "name": "stdout",
     "output_type": "stream",
     "text": [
      "tp 7\n",
      "fp 353\n",
      "fn 98\n",
      "tn 0\n",
      "total number of candidates 6\n",
      "total number of nodules 105\n",
      "irrelevant candidates 88\n",
      "Ignored candidates which were double detections on a nodule 1\n",
      "sensitivity 0.06666666666666667\n",
      "Average number of candidates per scan 0.1016949152542373\n"
     ]
    },
    {
     "name": "stderr",
     "output_type": "stream",
     "text": [
      "\n",
      "series_id:   0%|          | 0/59 [00:00<?, ?it/s]\u001B[A\n",
      "series_id:   3%|▎         | 2/59 [00:00<00:05,  9.80it/s]\u001B[A\n",
      "series_id:   8%|▊         | 5/59 [00:00<00:03, 14.56it/s]\u001B[A\n",
      "series_id:  20%|██        | 12/59 [00:00<00:01, 30.03it/s]\u001B[A\n",
      "series_id:  27%|██▋       | 16/59 [00:00<00:01, 31.15it/s]\u001B[A\n",
      "series_id:  37%|███▋      | 22/59 [00:00<00:01, 28.10it/s]\u001B[A\n",
      "series_id:  49%|████▉     | 29/59 [00:00<00:00, 36.58it/s]\u001B[A\n",
      "series_id:  58%|█████▊    | 34/59 [00:01<00:00, 35.81it/s]\u001B[A\n",
      "series_id:  75%|███████▍  | 44/59 [00:01<00:00, 48.67it/s]\u001B[A\n",
      "series_id:  88%|████████▊ | 52/59 [00:01<00:00, 54.25it/s]\u001B[A\n",
      "series_id: 100%|██████████| 59/59 [00:01<00:00, 38.93it/s]\u001B[A\n",
      " 26%|██▌       | 13/50 [00:21<00:59,  1.60s/it]"
     ]
    },
    {
     "name": "stdout",
     "output_type": "stream",
     "text": [
      "tp 8\n",
      "fp 348\n",
      "fn 97\n",
      "tn 0\n",
      "total number of candidates 6\n",
      "total number of nodules 105\n",
      "irrelevant candidates 77\n",
      "Ignored candidates which were double detections on a nodule 1\n",
      "sensitivity 0.0761904761904762\n",
      "Average number of candidates per scan 0.1016949152542373\n"
     ]
    },
    {
     "name": "stderr",
     "output_type": "stream",
     "text": [
      "\n",
      "series_id:   0%|          | 0/59 [00:00<?, ?it/s]\u001B[A\n",
      "series_id:   3%|▎         | 2/59 [00:00<00:06,  8.53it/s]\u001B[A\n",
      "series_id:   8%|▊         | 5/59 [00:00<00:04, 12.73it/s]\u001B[A\n",
      "series_id:  19%|█▊        | 11/59 [00:00<00:01, 26.02it/s]\u001B[A\n",
      "series_id:  27%|██▋       | 16/59 [00:00<00:01, 29.06it/s]\u001B[A\n",
      "series_id:  37%|███▋      | 22/59 [00:00<00:01, 27.16it/s]\u001B[A\n",
      "series_id:  49%|████▉     | 29/59 [00:01<00:00, 35.07it/s]\u001B[A\n",
      "series_id:  58%|█████▊    | 34/59 [00:01<00:00, 33.07it/s]\u001B[A\n",
      "series_id:  75%|███████▍  | 44/59 [00:01<00:00, 44.75it/s]\u001B[A\n",
      "series_id:  88%|████████▊ | 52/59 [00:01<00:00, 51.14it/s]\u001B[A\n",
      "series_id: 100%|██████████| 59/59 [00:01<00:00, 36.29it/s]\u001B[A\n",
      " 28%|██▊       | 14/50 [00:23<00:57,  1.61s/it]"
     ]
    },
    {
     "name": "stdout",
     "output_type": "stream",
     "text": [
      "tp 8\n",
      "fp 383\n",
      "fn 97\n",
      "tn 0\n",
      "total number of candidates 7\n",
      "total number of nodules 105\n",
      "irrelevant candidates 84\n",
      "Ignored candidates which were double detections on a nodule 1\n",
      "sensitivity 0.0761904761904762\n",
      "Average number of candidates per scan 0.11864406779661017\n"
     ]
    },
    {
     "name": "stderr",
     "output_type": "stream",
     "text": [
      "\n",
      "series_id:   0%|          | 0/59 [00:00<?, ?it/s]\u001B[A\n",
      "series_id:   3%|▎         | 2/59 [00:00<00:05, 10.93it/s]\u001B[A\n",
      "series_id:   8%|▊         | 5/59 [00:00<00:03, 15.09it/s]\u001B[A\n",
      "series_id:  20%|██        | 12/59 [00:00<00:01, 31.59it/s]\u001B[A\n",
      "series_id:  27%|██▋       | 16/59 [00:00<00:01, 33.06it/s]\u001B[A\n",
      "series_id:  37%|███▋      | 22/59 [00:00<00:01, 29.01it/s]\u001B[A\n",
      "series_id:  49%|████▉     | 29/59 [00:00<00:00, 37.51it/s]\u001B[A\n",
      "series_id:  58%|█████▊    | 34/59 [00:01<00:00, 35.65it/s]\u001B[A\n",
      "series_id:  75%|███████▍  | 44/59 [00:01<00:00, 48.73it/s]\u001B[A\n",
      "series_id:  88%|████████▊ | 52/59 [00:01<00:00, 55.40it/s]\u001B[A\n",
      "series_id: 100%|██████████| 59/59 [00:01<00:00, 40.26it/s]\u001B[A\n",
      " 30%|███       | 15/50 [00:25<00:54,  1.56s/it]"
     ]
    },
    {
     "name": "stdout",
     "output_type": "stream",
     "text": [
      "tp 9\n",
      "fp 356\n",
      "fn 96\n",
      "tn 0\n",
      "total number of candidates 6\n",
      "total number of nodules 105\n",
      "irrelevant candidates 85\n",
      "Ignored candidates which were double detections on a nodule 1\n",
      "sensitivity 0.08571428571428572\n",
      "Average number of candidates per scan 0.1016949152542373\n"
     ]
    },
    {
     "name": "stderr",
     "output_type": "stream",
     "text": [
      "\n",
      "series_id:   0%|          | 0/59 [00:00<?, ?it/s]\u001B[A\n",
      "series_id:   3%|▎         | 2/59 [00:00<00:05, 11.05it/s]\u001B[A\n",
      "series_id:   8%|▊         | 5/59 [00:00<00:03, 15.43it/s]\u001B[A\n",
      "series_id:  20%|██        | 12/59 [00:00<00:01, 31.94it/s]\u001B[A\n",
      "series_id:  27%|██▋       | 16/59 [00:00<00:01, 33.66it/s]\u001B[A\n",
      "series_id:  37%|███▋      | 22/59 [00:00<00:01, 29.78it/s]\u001B[A\n",
      "series_id:  49%|████▉     | 29/59 [00:00<00:00, 38.42it/s]\u001B[A\n",
      "series_id:  58%|█████▊    | 34/59 [00:01<00:00, 36.06it/s]\u001B[A\n",
      "series_id:  75%|███████▍  | 44/59 [00:01<00:00, 49.31it/s]\u001B[A\n",
      "series_id:  88%|████████▊ | 52/59 [00:01<00:00, 54.83it/s]\u001B[A\n",
      "series_id: 100%|██████████| 59/59 [00:01<00:00, 40.47it/s]\u001B[A\n",
      " 32%|███▏      | 16/50 [00:26<00:52,  1.53s/it]"
     ]
    },
    {
     "name": "stdout",
     "output_type": "stream",
     "text": [
      "tp 8\n",
      "fp 344\n",
      "fn 97\n",
      "tn 0\n",
      "total number of candidates 6\n",
      "total number of nodules 105\n",
      "irrelevant candidates 77\n",
      "Ignored candidates which were double detections on a nodule 1\n",
      "sensitivity 0.0761904761904762\n",
      "Average number of candidates per scan 0.1016949152542373\n"
     ]
    },
    {
     "name": "stderr",
     "output_type": "stream",
     "text": [
      "\n",
      "series_id:   0%|          | 0/59 [00:00<?, ?it/s]\u001B[A\n",
      "series_id:   3%|▎         | 2/59 [00:00<00:04, 12.08it/s]\u001B[A\n",
      "series_id:   8%|▊         | 5/59 [00:00<00:03, 14.82it/s]\u001B[A\n",
      "series_id:  20%|██        | 12/59 [00:00<00:01, 30.80it/s]\u001B[A\n",
      "series_id:  27%|██▋       | 16/59 [00:00<00:01, 32.85it/s]\u001B[A\n",
      "series_id:  37%|███▋      | 22/59 [00:00<00:01, 28.92it/s]\u001B[A\n",
      "series_id:  49%|████▉     | 29/59 [00:00<00:00, 37.76it/s]\u001B[A\n",
      "series_id:  58%|█████▊    | 34/59 [00:01<00:00, 36.03it/s]\u001B[A\n",
      "series_id:  75%|███████▍  | 44/59 [00:01<00:00, 49.46it/s]\u001B[A\n",
      "series_id:  88%|████████▊ | 52/59 [00:01<00:00, 55.47it/s]\u001B[A\n",
      "series_id: 100%|██████████| 59/59 [00:01<00:00, 40.48it/s]\u001B[A\n",
      " 34%|███▍      | 17/50 [00:27<00:49,  1.51s/it]"
     ]
    },
    {
     "name": "stdout",
     "output_type": "stream",
     "text": [
      "tp 7\n",
      "fp 329\n",
      "fn 98\n",
      "tn 0\n",
      "total number of candidates 6\n",
      "total number of nodules 105\n",
      "irrelevant candidates 75\n",
      "Ignored candidates which were double detections on a nodule 1\n",
      "sensitivity 0.06666666666666667\n",
      "Average number of candidates per scan 0.1016949152542373\n"
     ]
    },
    {
     "name": "stderr",
     "output_type": "stream",
     "text": [
      "\n",
      "series_id:   0%|          | 0/59 [00:00<?, ?it/s]\u001B[A\n",
      "series_id:   3%|▎         | 2/59 [00:00<00:04, 12.12it/s]\u001B[A\n",
      "series_id:   8%|▊         | 5/59 [00:00<00:03, 14.24it/s]\u001B[A\n",
      "series_id:  20%|██        | 12/59 [00:00<00:01, 29.71it/s]\u001B[A\n",
      "series_id:  27%|██▋       | 16/59 [00:00<00:01, 32.19it/s]\u001B[A\n",
      "series_id:  37%|███▋      | 22/59 [00:00<00:01, 29.87it/s]\u001B[A\n",
      "series_id:  49%|████▉     | 29/59 [00:00<00:00, 38.78it/s]\u001B[A\n",
      "series_id:  58%|█████▊    | 34/59 [00:01<00:00, 38.07it/s]\u001B[A\n",
      "series_id:  75%|███████▍  | 44/59 [00:01<00:00, 51.06it/s]\u001B[A\n",
      "series_id:  88%|████████▊ | 52/59 [00:01<00:00, 56.78it/s]\u001B[A\n",
      "series_id: 100%|██████████| 59/59 [00:01<00:00, 40.92it/s]\u001B[A\n",
      " 36%|███▌      | 18/50 [00:29<00:47,  1.49s/it]"
     ]
    },
    {
     "name": "stdout",
     "output_type": "stream",
     "text": [
      "tp 7\n",
      "fp 338\n",
      "fn 98\n",
      "tn 0\n",
      "total number of candidates 7\n",
      "total number of nodules 105\n",
      "irrelevant candidates 74\n",
      "Ignored candidates which were double detections on a nodule 1\n",
      "sensitivity 0.06666666666666667\n",
      "Average number of candidates per scan 0.11864406779661017\n"
     ]
    },
    {
     "name": "stderr",
     "output_type": "stream",
     "text": [
      "\n",
      "series_id:   0%|          | 0/59 [00:00<?, ?it/s]\u001B[A\n",
      "series_id:   3%|▎         | 2/59 [00:00<00:05, 10.18it/s]\u001B[A\n",
      "series_id:   8%|▊         | 5/59 [00:00<00:04, 11.95it/s]\u001B[A\n",
      "series_id:  20%|██        | 12/59 [00:00<00:01, 26.04it/s]\u001B[A\n",
      "series_id:  27%|██▋       | 16/59 [00:00<00:01, 29.60it/s]\u001B[A\n",
      "series_id:  37%|███▋      | 22/59 [00:00<00:01, 26.60it/s]\u001B[A\n",
      "series_id:  49%|████▉     | 29/59 [00:01<00:00, 34.91it/s]\u001B[A\n",
      "series_id:  58%|█████▊    | 34/59 [00:01<00:00, 33.45it/s]\u001B[A\n",
      "series_id:  75%|███████▍  | 44/59 [00:01<00:00, 45.27it/s]\u001B[A\n",
      "series_id:  88%|████████▊ | 52/59 [00:01<00:00, 52.42it/s]\u001B[A\n",
      "series_id: 100%|██████████| 59/59 [00:01<00:00, 36.68it/s]\u001B[A\n",
      " 38%|███▊      | 19/50 [00:31<00:47,  1.53s/it]"
     ]
    },
    {
     "name": "stdout",
     "output_type": "stream",
     "text": [
      "tp 7\n",
      "fp 406\n",
      "fn 98\n",
      "tn 0\n",
      "total number of candidates 10\n",
      "total number of nodules 105\n",
      "irrelevant candidates 86\n",
      "Ignored candidates which were double detections on a nodule 1\n",
      "sensitivity 0.06666666666666667\n",
      "Average number of candidates per scan 0.1694915254237288\n"
     ]
    },
    {
     "name": "stderr",
     "output_type": "stream",
     "text": [
      "\n",
      "series_id:   0%|          | 0/59 [00:00<?, ?it/s]\u001B[A\n",
      "series_id:   3%|▎         | 2/59 [00:00<00:05,  9.95it/s]\u001B[A\n",
      "series_id:   8%|▊         | 5/59 [00:00<00:04, 11.84it/s]\u001B[A\n",
      "series_id:  20%|██        | 12/59 [00:00<00:01, 26.20it/s]\u001B[A\n",
      "series_id:  27%|██▋       | 16/59 [00:00<00:01, 29.03it/s]\u001B[A\n",
      "series_id:  37%|███▋      | 22/59 [00:00<00:01, 25.80it/s]\u001B[A\n",
      "series_id:  49%|████▉     | 29/59 [00:01<00:00, 33.76it/s]\u001B[A\n",
      "series_id:  56%|█████▌    | 33/59 [00:01<00:00, 31.29it/s]\u001B[A\n",
      "series_id:  71%|███████   | 42/59 [00:01<00:00, 44.00it/s]\u001B[A\n",
      "series_id:  81%|████████▏ | 48/59 [00:01<00:00, 46.18it/s]\u001B[A\n",
      "series_id: 100%|██████████| 59/59 [00:01<00:00, 35.28it/s]\u001B[A\n",
      " 40%|████      | 20/50 [00:32<00:47,  1.57s/it]"
     ]
    },
    {
     "name": "stdout",
     "output_type": "stream",
     "text": [
      "tp 9\n",
      "fp 423\n",
      "fn 96\n",
      "tn 0\n",
      "total number of candidates 9\n",
      "total number of nodules 105\n",
      "irrelevant candidates 91\n",
      "Ignored candidates which were double detections on a nodule 1\n",
      "sensitivity 0.08571428571428572\n",
      "Average number of candidates per scan 0.15254237288135594\n"
     ]
    },
    {
     "name": "stderr",
     "output_type": "stream",
     "text": [
      "\n",
      "series_id:   0%|          | 0/59 [00:00<?, ?it/s]\u001B[A\n",
      "series_id:   3%|▎         | 2/59 [00:00<00:06,  9.48it/s]\u001B[A\n",
      "series_id:   8%|▊         | 5/59 [00:00<00:04, 11.41it/s]\u001B[A\n",
      "series_id:  20%|██        | 12/59 [00:00<00:01, 25.30it/s]\u001B[A\n",
      "series_id:  27%|██▋       | 16/59 [00:00<00:01, 28.21it/s]\u001B[A\n",
      "series_id:  37%|███▋      | 22/59 [00:00<00:01, 25.26it/s]\u001B[A\n",
      "series_id:  49%|████▉     | 29/59 [00:01<00:00, 33.16it/s]\u001B[A\n",
      "series_id:  56%|█████▌    | 33/59 [00:01<00:00, 29.62it/s]\u001B[A\n",
      "series_id:  71%|███████   | 42/59 [00:01<00:00, 41.63it/s]\u001B[A\n",
      "series_id:  81%|████████▏ | 48/59 [00:01<00:00, 43.65it/s]\u001B[A\n",
      "series_id: 100%|██████████| 59/59 [00:01<00:00, 34.14it/s]\u001B[A\n",
      " 42%|████▏     | 21/50 [00:34<00:47,  1.62s/it]"
     ]
    },
    {
     "name": "stdout",
     "output_type": "stream",
     "text": [
      "tp 8\n",
      "fp 434\n",
      "fn 97\n",
      "tn 0\n",
      "total number of candidates 8\n",
      "total number of nodules 105\n",
      "irrelevant candidates 90\n",
      "Ignored candidates which were double detections on a nodule 1\n",
      "sensitivity 0.0761904761904762\n",
      "Average number of candidates per scan 0.13559322033898305\n"
     ]
    },
    {
     "name": "stderr",
     "output_type": "stream",
     "text": [
      "\n",
      "series_id:   0%|          | 0/59 [00:00<?, ?it/s]\u001B[A\n",
      "series_id:   3%|▎         | 2/59 [00:00<00:05,  9.62it/s]\u001B[A\n",
      "series_id:   8%|▊         | 5/59 [00:00<00:04, 11.52it/s]\u001B[A\n",
      "series_id:  20%|██        | 12/59 [00:00<00:01, 25.95it/s]\u001B[A\n",
      "series_id:  27%|██▋       | 16/59 [00:00<00:01, 29.65it/s]\u001B[A\n",
      "series_id:  37%|███▋      | 22/59 [00:00<00:01, 26.81it/s]\u001B[A\n",
      "series_id:  49%|████▉     | 29/59 [00:01<00:00, 35.64it/s]\u001B[A\n",
      "series_id:  58%|█████▊    | 34/59 [00:01<00:00, 32.30it/s]\u001B[A\n",
      "series_id:  75%|███████▍  | 44/59 [00:01<00:00, 43.77it/s]\u001B[A\n",
      "series_id:  88%|████████▊ | 52/59 [00:01<00:00, 50.48it/s]\u001B[A\n",
      "series_id: 100%|██████████| 59/59 [00:01<00:00, 35.78it/s]\u001B[A\n",
      " 44%|████▍     | 22/50 [00:36<00:45,  1.63s/it]"
     ]
    },
    {
     "name": "stdout",
     "output_type": "stream",
     "text": [
      "tp 8\n",
      "fp 413\n",
      "fn 97\n",
      "tn 0\n",
      "total number of candidates 7\n",
      "total number of nodules 105\n",
      "irrelevant candidates 86\n",
      "Ignored candidates which were double detections on a nodule 1\n",
      "sensitivity 0.0761904761904762\n",
      "Average number of candidates per scan 0.11864406779661017\n"
     ]
    },
    {
     "name": "stderr",
     "output_type": "stream",
     "text": [
      "\n",
      "series_id:   0%|          | 0/59 [00:00<?, ?it/s]\u001B[A\n",
      "series_id:   3%|▎         | 2/59 [00:00<00:05, 10.31it/s]\u001B[A\n",
      "series_id:   8%|▊         | 5/59 [00:00<00:04, 12.20it/s]\u001B[A\n",
      "series_id:  20%|██        | 12/59 [00:00<00:01, 27.31it/s]\u001B[A\n",
      "series_id:  27%|██▋       | 16/59 [00:00<00:01, 30.68it/s]\u001B[A\n",
      "series_id:  37%|███▋      | 22/59 [00:00<00:01, 27.38it/s]\u001B[A\n",
      "series_id:  49%|████▉     | 29/59 [00:00<00:00, 35.95it/s]\u001B[A\n",
      "series_id:  58%|█████▊    | 34/59 [00:01<00:00, 33.23it/s]\u001B[A\n",
      "series_id:  75%|███████▍  | 44/59 [00:01<00:00, 45.24it/s]\u001B[A\n",
      "series_id:  88%|████████▊ | 52/59 [00:01<00:00, 52.33it/s]\u001B[A\n",
      "series_id: 100%|██████████| 59/59 [00:01<00:00, 37.20it/s]\u001B[A\n",
      " 46%|████▌     | 23/50 [00:37<00:43,  1.62s/it]"
     ]
    },
    {
     "name": "stdout",
     "output_type": "stream",
     "text": [
      "tp 7\n",
      "fp 379\n",
      "fn 98\n",
      "tn 0\n",
      "total number of candidates 5\n",
      "total number of nodules 105\n",
      "irrelevant candidates 74\n",
      "Ignored candidates which were double detections on a nodule 1\n",
      "sensitivity 0.06666666666666667\n",
      "Average number of candidates per scan 0.0847457627118644\n"
     ]
    },
    {
     "name": "stderr",
     "output_type": "stream",
     "text": [
      "\n",
      "series_id:   0%|          | 0/59 [00:00<?, ?it/s]\u001B[A\n",
      "series_id:   3%|▎         | 2/59 [00:00<00:05, 10.81it/s]\u001B[A\n",
      "series_id:   8%|▊         | 5/59 [00:00<00:04, 12.59it/s]\u001B[A\n",
      "series_id:  20%|██        | 12/59 [00:00<00:01, 27.34it/s]\u001B[A\n",
      "series_id:  29%|██▉       | 17/59 [00:00<00:01, 32.98it/s]\u001B[A\n",
      "series_id:  37%|███▋      | 22/59 [00:00<00:01, 26.72it/s]\u001B[A\n",
      "series_id:  49%|████▉     | 29/59 [00:00<00:00, 35.40it/s]\u001B[A\n",
      "series_id:  58%|█████▊    | 34/59 [00:01<00:00, 32.91it/s]\u001B[A\n",
      "series_id:  75%|███████▍  | 44/59 [00:01<00:00, 45.09it/s]\u001B[A\n",
      "series_id:  88%|████████▊ | 52/59 [00:01<00:00, 51.93it/s]\u001B[A\n",
      "series_id: 100%|██████████| 59/59 [00:01<00:00, 36.76it/s]\u001B[A\n",
      " 48%|████▊     | 24/50 [00:39<00:42,  1.62s/it]"
     ]
    },
    {
     "name": "stdout",
     "output_type": "stream",
     "text": [
      "tp 6\n",
      "fp 372\n",
      "fn 99\n",
      "tn 0\n",
      "total number of candidates 7\n",
      "total number of nodules 105\n",
      "irrelevant candidates 73\n",
      "Ignored candidates which were double detections on a nodule 1\n",
      "sensitivity 0.05714285714285714\n",
      "Average number of candidates per scan 0.11864406779661017\n"
     ]
    },
    {
     "name": "stderr",
     "output_type": "stream",
     "text": [
      "\n",
      "series_id:   0%|          | 0/59 [00:00<?, ?it/s]\u001B[A\n",
      "series_id:   3%|▎         | 2/59 [00:00<00:05, 10.05it/s]\u001B[A\n",
      "series_id:   8%|▊         | 5/59 [00:00<00:04, 12.80it/s]\u001B[A\n",
      "series_id:  20%|██        | 12/59 [00:00<00:01, 27.87it/s]\u001B[A\n",
      "series_id:  27%|██▋       | 16/59 [00:00<00:01, 30.78it/s]\u001B[A\n",
      "series_id:  37%|███▋      | 22/59 [00:00<00:01, 28.19it/s]\u001B[A\n",
      "series_id:  49%|████▉     | 29/59 [00:00<00:00, 36.99it/s]\u001B[A\n",
      "series_id:  58%|█████▊    | 34/59 [00:01<00:00, 33.84it/s]\u001B[A\n",
      "series_id:  75%|███████▍  | 44/59 [00:01<00:00, 46.44it/s]\u001B[A\n",
      "series_id:  88%|████████▊ | 52/59 [00:01<00:00, 54.19it/s]\u001B[A\n",
      "series_id: 100%|██████████| 59/59 [00:01<00:00, 37.82it/s]\u001B[A\n",
      " 50%|█████     | 25/50 [00:40<00:40,  1.60s/it]"
     ]
    },
    {
     "name": "stdout",
     "output_type": "stream",
     "text": [
      "tp 7\n",
      "fp 356\n",
      "fn 98\n",
      "tn 0\n",
      "total number of candidates 6\n",
      "total number of nodules 105\n",
      "irrelevant candidates 75\n",
      "Ignored candidates which were double detections on a nodule 1\n",
      "sensitivity 0.06666666666666667\n",
      "Average number of candidates per scan 0.1016949152542373\n"
     ]
    },
    {
     "name": "stderr",
     "output_type": "stream",
     "text": [
      "\n",
      "series_id:   0%|          | 0/59 [00:00<?, ?it/s]\u001B[A\n",
      "series_id:   3%|▎         | 2/59 [00:00<00:05, 10.10it/s]\u001B[A\n",
      "series_id:   8%|▊         | 5/59 [00:00<00:04, 13.15it/s]\u001B[A\n",
      "series_id:  20%|██        | 12/59 [00:00<00:01, 28.58it/s]\u001B[A\n",
      "series_id:  27%|██▋       | 16/59 [00:00<00:01, 31.73it/s]\u001B[A\n",
      "series_id:  37%|███▋      | 22/59 [00:00<00:01, 29.08it/s]\u001B[A\n",
      "series_id:  49%|████▉     | 29/59 [00:00<00:00, 38.10it/s]\u001B[A\n",
      "series_id:  58%|█████▊    | 34/59 [00:01<00:00, 34.74it/s]\u001B[A\n",
      "series_id:  75%|███████▍  | 44/59 [00:01<00:00, 47.29it/s]\u001B[A\n",
      "series_id:  90%|████████▉ | 53/59 [00:01<00:00, 50.80it/s]\u001B[A\n",
      "series_id: 100%|██████████| 59/59 [00:01<00:00, 38.96it/s]\u001B[A\n",
      " 52%|█████▏    | 26/50 [00:42<00:37,  1.58s/it]"
     ]
    },
    {
     "name": "stdout",
     "output_type": "stream",
     "text": [
      "tp 7\n",
      "fp 359\n",
      "fn 98\n",
      "tn 0\n",
      "total number of candidates 6\n",
      "total number of nodules 105\n",
      "irrelevant candidates 71\n",
      "Ignored candidates which were double detections on a nodule 1\n",
      "sensitivity 0.06666666666666667\n",
      "Average number of candidates per scan 0.1016949152542373\n"
     ]
    },
    {
     "name": "stderr",
     "output_type": "stream",
     "text": [
      "\n",
      "series_id:   0%|          | 0/59 [00:00<?, ?it/s]\u001B[A\n",
      "series_id:   3%|▎         | 2/59 [00:00<00:05, 10.64it/s]\u001B[A\n",
      "series_id:   8%|▊         | 5/59 [00:00<00:04, 13.43it/s]\u001B[A\n",
      "series_id:  20%|██        | 12/59 [00:00<00:01, 28.98it/s]\u001B[A\n",
      "series_id:  31%|███       | 18/59 [00:00<00:01, 37.96it/s]\u001B[A\n",
      "series_id:  39%|███▉      | 23/59 [00:00<00:01, 31.19it/s]\u001B[A\n",
      "series_id:  51%|█████     | 30/59 [00:00<00:00, 39.73it/s]\u001B[A\n",
      "series_id:  59%|█████▉    | 35/59 [00:01<00:00, 36.81it/s]\u001B[A\n",
      "series_id:  75%|███████▍  | 44/59 [00:01<00:00, 48.43it/s]\u001B[A\n",
      "series_id:  90%|████████▉ | 53/59 [00:01<00:00, 51.71it/s]\u001B[A\n",
      "series_id: 100%|██████████| 59/59 [00:01<00:00, 40.15it/s]\u001B[A\n",
      " 54%|█████▍    | 27/50 [00:43<00:35,  1.54s/it]"
     ]
    },
    {
     "name": "stdout",
     "output_type": "stream",
     "text": [
      "tp 6\n",
      "fp 354\n",
      "fn 99\n",
      "tn 0\n",
      "total number of candidates 7\n",
      "total number of nodules 105\n",
      "irrelevant candidates 65\n",
      "Ignored candidates which were double detections on a nodule 1\n",
      "sensitivity 0.05714285714285714\n",
      "Average number of candidates per scan 0.11864406779661017\n"
     ]
    },
    {
     "name": "stderr",
     "output_type": "stream",
     "text": [
      "\n",
      "series_id:   0%|          | 0/59 [00:00<?, ?it/s]\u001B[A\n",
      "series_id:   3%|▎         | 2/59 [00:00<00:04, 12.62it/s]\u001B[A\n",
      "series_id:   8%|▊         | 5/59 [00:00<00:03, 15.92it/s]\u001B[A\n",
      "series_id:  20%|██        | 12/59 [00:00<00:01, 32.57it/s]\u001B[A\n",
      "series_id:  32%|███▏      | 19/59 [00:00<00:00, 42.70it/s]\u001B[A\n",
      "series_id:  41%|████      | 24/59 [00:00<00:01, 33.54it/s]\u001B[A\n",
      "series_id:  51%|█████     | 30/59 [00:00<00:00, 39.95it/s]\u001B[A\n",
      "series_id:  59%|█████▉    | 35/59 [00:01<00:00, 38.25it/s]\u001B[A\n",
      "series_id:  75%|███████▍  | 44/59 [00:01<00:00, 50.95it/s]\u001B[A\n",
      "series_id:  88%|████████▊ | 52/59 [00:01<00:00, 58.02it/s]\u001B[A\n",
      "series_id: 100%|██████████| 59/59 [00:01<00:00, 43.07it/s]\u001B[A\n",
      " 56%|█████▌    | 28/50 [00:45<00:32,  1.49s/it]"
     ]
    },
    {
     "name": "stdout",
     "output_type": "stream",
     "text": [
      "tp 6\n",
      "fp 312\n",
      "fn 99\n",
      "tn 0\n",
      "total number of candidates 6\n",
      "total number of nodules 105\n",
      "irrelevant candidates 62\n",
      "Ignored candidates which were double detections on a nodule 1\n",
      "sensitivity 0.05714285714285714\n",
      "Average number of candidates per scan 0.1016949152542373\n"
     ]
    },
    {
     "name": "stderr",
     "output_type": "stream",
     "text": [
      "\n",
      "series_id:   0%|          | 0/59 [00:00<?, ?it/s]\u001B[A\n",
      "series_id:   3%|▎         | 2/59 [00:00<00:04, 12.23it/s]\u001B[A\n",
      "series_id:   8%|▊         | 5/59 [00:00<00:03, 16.39it/s]\u001B[A\n",
      "series_id:  20%|██        | 12/59 [00:00<00:01, 33.44it/s]\u001B[A\n",
      "series_id:  32%|███▏      | 19/59 [00:00<00:00, 43.65it/s]\u001B[A\n",
      "series_id:  41%|████      | 24/59 [00:00<00:00, 36.03it/s]\u001B[A\n",
      "series_id:  53%|█████▎    | 31/59 [00:00<00:00, 43.27it/s]\u001B[A\n",
      "series_id:  61%|██████    | 36/59 [00:00<00:00, 41.40it/s]\u001B[A\n",
      "series_id:  76%|███████▋  | 45/59 [00:01<00:00, 53.30it/s]\u001B[A\n",
      "series_id:  90%|████████▉ | 53/59 [00:01<00:00, 56.85it/s]\u001B[A\n",
      "series_id: 100%|██████████| 59/59 [00:01<00:00, 44.95it/s]\u001B[A\n",
      " 58%|█████▊    | 29/50 [00:46<00:30,  1.44s/it]"
     ]
    },
    {
     "name": "stdout",
     "output_type": "stream",
     "text": [
      "tp 7\n",
      "fp 301\n",
      "fn 98\n",
      "tn 0\n",
      "total number of candidates 4\n",
      "total number of nodules 105\n",
      "irrelevant candidates 62\n",
      "Ignored candidates which were double detections on a nodule 1\n",
      "sensitivity 0.06666666666666667\n",
      "Average number of candidates per scan 0.06779661016949153\n"
     ]
    },
    {
     "name": "stderr",
     "output_type": "stream",
     "text": [
      "\n",
      "series_id:   0%|          | 0/59 [00:00<?, ?it/s]\u001B[A\n",
      "series_id:   3%|▎         | 2/59 [00:00<00:04, 13.11it/s]\u001B[A\n",
      "series_id:   8%|▊         | 5/59 [00:00<00:02, 18.62it/s]\u001B[A\n",
      "series_id:  20%|██        | 12/59 [00:00<00:01, 36.47it/s]\u001B[A\n",
      "series_id:  32%|███▏      | 19/59 [00:00<00:00, 46.94it/s]\u001B[A\n",
      "series_id:  41%|████      | 24/59 [00:00<00:00, 38.99it/s]\u001B[A\n",
      "series_id:  54%|█████▍    | 32/59 [00:00<00:00, 43.48it/s]\u001B[A\n",
      "series_id:  69%|██████▉   | 41/59 [00:00<00:00, 54.67it/s]\u001B[A\n",
      "series_id:  85%|████████▍ | 50/59 [00:01<00:00, 63.30it/s]\u001B[A\n",
      "series_id: 100%|██████████| 59/59 [00:01<00:00, 48.78it/s]\u001B[A\n",
      " 60%|██████    | 30/50 [00:47<00:27,  1.37s/it]"
     ]
    },
    {
     "name": "stdout",
     "output_type": "stream",
     "text": [
      "tp 6\n",
      "fp 276\n",
      "fn 99\n",
      "tn 0\n",
      "total number of candidates 4\n",
      "total number of nodules 105\n",
      "irrelevant candidates 56\n",
      "Ignored candidates which were double detections on a nodule 1\n",
      "sensitivity 0.05714285714285714\n",
      "Average number of candidates per scan 0.06779661016949153\n"
     ]
    },
    {
     "name": "stderr",
     "output_type": "stream",
     "text": [
      "\n",
      "series_id:   0%|          | 0/59 [00:00<?, ?it/s]\u001B[A\n",
      "series_id:   3%|▎         | 2/59 [00:00<00:03, 15.09it/s]\u001B[A\n",
      "series_id:   8%|▊         | 5/59 [00:00<00:02, 19.11it/s]\u001B[A\n",
      "series_id:  20%|██        | 12/59 [00:00<00:01, 37.10it/s]\u001B[A\n",
      "series_id:  32%|███▏      | 19/59 [00:00<00:00, 48.03it/s]\u001B[A\n",
      "series_id:  42%|████▏     | 25/59 [00:00<00:00, 41.53it/s]\u001B[A\n",
      "series_id:  54%|█████▍    | 32/59 [00:00<00:00, 42.81it/s]\u001B[A\n",
      "series_id:  69%|██████▉   | 41/59 [00:00<00:00, 54.53it/s]\u001B[A\n",
      "series_id:  83%|████████▎ | 49/59 [00:01<00:00, 60.95it/s]\u001B[A\n",
      "series_id: 100%|██████████| 59/59 [00:01<00:00, 48.86it/s]\u001B[A\n",
      " 62%|██████▏   | 31/50 [00:48<00:25,  1.32s/it]"
     ]
    },
    {
     "name": "stdout",
     "output_type": "stream",
     "text": [
      "tp 6\n",
      "fp 265\n",
      "fn 99\n",
      "tn 0\n",
      "total number of candidates 3\n",
      "total number of nodules 105\n",
      "irrelevant candidates 55\n",
      "Ignored candidates which were double detections on a nodule 1\n",
      "sensitivity 0.05714285714285714\n",
      "Average number of candidates per scan 0.05084745762711865\n"
     ]
    },
    {
     "name": "stderr",
     "output_type": "stream",
     "text": [
      "\n",
      "series_id:   0%|          | 0/59 [00:00<?, ?it/s]\u001B[A\n",
      "series_id:   3%|▎         | 2/59 [00:00<00:04, 14.18it/s]\u001B[A\n",
      "series_id:   8%|▊         | 5/59 [00:00<00:03, 17.34it/s]\u001B[A\n",
      "series_id:  20%|██        | 12/59 [00:00<00:01, 34.39it/s]\u001B[A\n",
      "series_id:  32%|███▏      | 19/59 [00:00<00:00, 44.04it/s]\u001B[A\n",
      "series_id:  41%|████      | 24/59 [00:00<00:00, 36.92it/s]\u001B[A\n",
      "series_id:  51%|█████     | 30/59 [00:00<00:00, 42.53it/s]\u001B[A\n",
      "series_id:  59%|█████▉    | 35/59 [00:00<00:00, 39.91it/s]\u001B[A\n",
      "series_id:  75%|███████▍  | 44/59 [00:01<00:00, 52.45it/s]\u001B[A\n",
      "series_id:  88%|████████▊ | 52/59 [00:01<00:00, 59.42it/s]\u001B[A\n",
      "series_id: 100%|██████████| 59/59 [00:01<00:00, 45.31it/s]\u001B[A\n",
      " 64%|██████▍   | 32/50 [00:50<00:23,  1.32s/it]"
     ]
    },
    {
     "name": "stdout",
     "output_type": "stream",
     "text": [
      "tp 8\n",
      "fp 281\n",
      "fn 97\n",
      "tn 0\n",
      "total number of candidates 5\n",
      "total number of nodules 105\n",
      "irrelevant candidates 57\n",
      "Ignored candidates which were double detections on a nodule 1\n",
      "sensitivity 0.0761904761904762\n",
      "Average number of candidates per scan 0.0847457627118644\n"
     ]
    },
    {
     "name": "stderr",
     "output_type": "stream",
     "text": [
      "\n",
      "series_id:   0%|          | 0/59 [00:00<?, ?it/s]\u001B[A\n",
      "series_id:   3%|▎         | 2/59 [00:00<00:04, 13.47it/s]\u001B[A\n",
      "series_id:   8%|▊         | 5/59 [00:00<00:03, 15.52it/s]\u001B[A\n",
      "series_id:  20%|██        | 12/59 [00:00<00:01, 31.96it/s]\u001B[A\n",
      "series_id:  31%|███       | 18/59 [00:00<00:01, 40.20it/s]\u001B[A\n",
      "series_id:  39%|███▉      | 23/59 [00:00<00:01, 33.36it/s]\u001B[A\n",
      "series_id:  51%|█████     | 30/59 [00:00<00:00, 42.12it/s]\u001B[A\n",
      "series_id:  59%|█████▉    | 35/59 [00:00<00:00, 40.18it/s]\u001B[A\n",
      "series_id:  75%|███████▍  | 44/59 [00:01<00:00, 51.86it/s]\u001B[A\n",
      "series_id:  88%|████████▊ | 52/59 [00:01<00:00, 57.81it/s]\u001B[A\n",
      "series_id: 100%|██████████| 59/59 [00:01<00:00, 43.16it/s]\u001B[A\n",
      " 66%|██████▌   | 33/50 [00:51<00:22,  1.33s/it]"
     ]
    },
    {
     "name": "stdout",
     "output_type": "stream",
     "text": [
      "tp 8\n",
      "fp 285\n",
      "fn 97\n",
      "tn 0\n",
      "total number of candidates 6\n",
      "total number of nodules 105\n",
      "irrelevant candidates 62\n",
      "Ignored candidates which were double detections on a nodule 1\n",
      "sensitivity 0.0761904761904762\n",
      "Average number of candidates per scan 0.1016949152542373\n"
     ]
    },
    {
     "name": "stderr",
     "output_type": "stream",
     "text": [
      "\n",
      "series_id:   0%|          | 0/59 [00:00<?, ?it/s]\u001B[A\n",
      "series_id:   3%|▎         | 2/59 [00:00<00:04, 12.19it/s]\u001B[A\n",
      "series_id:   8%|▊         | 5/59 [00:00<00:03, 15.59it/s]\u001B[A\n",
      "series_id:  20%|██        | 12/59 [00:00<00:01, 32.77it/s]\u001B[A\n",
      "series_id:  29%|██▉       | 17/59 [00:00<00:01, 38.11it/s]\u001B[A\n",
      "series_id:  37%|███▋      | 22/59 [00:00<00:01, 33.90it/s]\u001B[A\n",
      "series_id:  51%|█████     | 30/59 [00:00<00:00, 44.69it/s]\u001B[A\n",
      "series_id:  59%|█████▉    | 35/59 [00:00<00:00, 42.89it/s]\u001B[A\n",
      "series_id:  75%|███████▍  | 44/59 [00:01<00:00, 55.13it/s]\u001B[A\n",
      "series_id:  88%|████████▊ | 52/59 [00:01<00:00, 61.65it/s]\u001B[A\n",
      "series_id: 100%|██████████| 59/59 [00:01<00:00, 45.07it/s]\u001B[A\n",
      " 68%|██████▊   | 34/50 [00:52<00:21,  1.33s/it]"
     ]
    },
    {
     "name": "stdout",
     "output_type": "stream",
     "text": [
      "tp 7\n",
      "fp 283\n",
      "fn 98\n",
      "tn 0\n",
      "total number of candidates 6\n",
      "total number of nodules 105\n",
      "irrelevant candidates 63\n",
      "Ignored candidates which were double detections on a nodule 1\n",
      "sensitivity 0.06666666666666667\n",
      "Average number of candidates per scan 0.1016949152542373\n"
     ]
    },
    {
     "name": "stderr",
     "output_type": "stream",
     "text": [
      "\n",
      "series_id:   0%|          | 0/59 [00:00<?, ?it/s]\u001B[A\n",
      "series_id:   3%|▎         | 2/59 [00:00<00:04, 13.29it/s]\u001B[A\n",
      "series_id:   8%|▊         | 5/59 [00:00<00:03, 16.16it/s]\u001B[A\n",
      "series_id:  20%|██        | 12/59 [00:00<00:01, 33.31it/s]\u001B[A\n",
      "series_id:  32%|███▏      | 19/59 [00:00<00:00, 43.20it/s]\u001B[A\n",
      "series_id:  41%|████      | 24/59 [00:00<00:00, 36.85it/s]\u001B[A\n",
      "series_id:  53%|█████▎    | 31/59 [00:00<00:00, 44.25it/s]\u001B[A\n",
      "series_id:  61%|██████    | 36/59 [00:00<00:00, 44.48it/s]\u001B[A\n",
      "series_id:  76%|███████▋  | 45/59 [00:01<00:00, 56.47it/s]\u001B[A\n",
      "series_id: 100%|██████████| 59/59 [00:01<00:00, 46.08it/s]\u001B[A\n",
      " 70%|███████   | 35/50 [00:54<00:19,  1.31s/it]"
     ]
    },
    {
     "name": "stdout",
     "output_type": "stream",
     "text": [
      "tp 7\n",
      "fp 295\n",
      "fn 98\n",
      "tn 0\n",
      "total number of candidates 4\n",
      "total number of nodules 105\n",
      "irrelevant candidates 64\n",
      "Ignored candidates which were double detections on a nodule 1\n",
      "sensitivity 0.06666666666666667\n",
      "Average number of candidates per scan 0.06779661016949153\n"
     ]
    },
    {
     "name": "stderr",
     "output_type": "stream",
     "text": [
      "\n",
      "series_id:   0%|          | 0/59 [00:00<?, ?it/s]\u001B[A\n",
      "series_id:   3%|▎         | 2/59 [00:00<00:04, 12.74it/s]\u001B[A\n",
      "series_id:   8%|▊         | 5/59 [00:00<00:03, 17.36it/s]\u001B[A\n",
      "series_id:  20%|██        | 12/59 [00:00<00:01, 34.59it/s]\u001B[A\n",
      "series_id:  32%|███▏      | 19/59 [00:00<00:00, 45.13it/s]\u001B[A\n",
      "series_id:  41%|████      | 24/59 [00:00<00:00, 38.69it/s]\u001B[A\n",
      "series_id:  53%|█████▎    | 31/59 [00:00<00:00, 45.94it/s]\u001B[A\n",
      "series_id:  61%|██████    | 36/59 [00:00<00:00, 46.23it/s]\u001B[A\n",
      "series_id:  75%|███████▍  | 44/59 [00:01<00:00, 55.46it/s]\u001B[A\n",
      "series_id:  88%|████████▊ | 52/59 [00:01<00:00, 62.15it/s]\u001B[A\n",
      "series_id: 100%|██████████| 59/59 [00:01<00:00, 46.96it/s]\u001B[A\n",
      " 72%|███████▏  | 36/50 [00:55<00:18,  1.30s/it]"
     ]
    },
    {
     "name": "stdout",
     "output_type": "stream",
     "text": [
      "tp 6\n",
      "fp 295\n",
      "fn 99\n",
      "tn 0\n",
      "total number of candidates 4\n",
      "total number of nodules 105\n",
      "irrelevant candidates 56\n",
      "Ignored candidates which were double detections on a nodule 1\n",
      "sensitivity 0.05714285714285714\n",
      "Average number of candidates per scan 0.06779661016949153\n"
     ]
    },
    {
     "name": "stderr",
     "output_type": "stream",
     "text": [
      "\n",
      "series_id:   0%|          | 0/59 [00:00<?, ?it/s]\u001B[A\n",
      "series_id:   3%|▎         | 2/59 [00:00<00:04, 12.86it/s]\u001B[A\n",
      "series_id:   8%|▊         | 5/59 [00:00<00:03, 17.61it/s]\u001B[A\n",
      "series_id:  20%|██        | 12/59 [00:00<00:01, 34.30it/s]\u001B[A\n",
      "series_id:  31%|███       | 18/59 [00:00<00:00, 41.88it/s]\u001B[A\n",
      "series_id:  39%|███▉      | 23/59 [00:00<00:01, 35.29it/s]\u001B[A\n",
      "series_id:  49%|████▉     | 29/59 [00:00<00:00, 41.45it/s]\u001B[A\n",
      "series_id:  58%|█████▊    | 34/59 [00:00<00:00, 40.38it/s]\u001B[A\n",
      "series_id:  75%|███████▍  | 44/59 [00:01<00:00, 53.48it/s]\u001B[A\n",
      "series_id:  88%|████████▊ | 52/59 [00:01<00:00, 59.38it/s]\u001B[A\n",
      "series_id: 100%|██████████| 59/59 [00:01<00:00, 44.94it/s]\u001B[A\n",
      " 74%|███████▍  | 37/50 [00:56<00:16,  1.30s/it]"
     ]
    },
    {
     "name": "stdout",
     "output_type": "stream",
     "text": [
      "tp 6\n",
      "fp 290\n",
      "fn 99\n",
      "tn 0\n",
      "total number of candidates 4\n",
      "total number of nodules 105\n",
      "irrelevant candidates 55\n",
      "Ignored candidates which were double detections on a nodule 1\n",
      "sensitivity 0.05714285714285714\n",
      "Average number of candidates per scan 0.06779661016949153\n"
     ]
    },
    {
     "name": "stderr",
     "output_type": "stream",
     "text": [
      "\n",
      "series_id:   0%|          | 0/59 [00:00<?, ?it/s]\u001B[A\n",
      "series_id:   3%|▎         | 2/59 [00:00<00:04, 13.89it/s]\u001B[A\n",
      "series_id:   8%|▊         | 5/59 [00:00<00:03, 16.94it/s]\u001B[A\n",
      "series_id:  20%|██        | 12/59 [00:00<00:01, 33.56it/s]\u001B[A\n",
      "series_id:  29%|██▉       | 17/59 [00:00<00:01, 38.18it/s]\u001B[A\n",
      "series_id:  37%|███▋      | 22/59 [00:00<00:01, 33.76it/s]\u001B[A\n",
      "series_id:  49%|████▉     | 29/59 [00:00<00:00, 42.22it/s]\u001B[A\n",
      "series_id:  58%|█████▊    | 34/59 [00:00<00:00, 40.65it/s]\u001B[A\n",
      "series_id:  75%|███████▍  | 44/59 [00:01<00:00, 54.20it/s]\u001B[A\n",
      "series_id:  88%|████████▊ | 52/59 [00:01<00:00, 59.68it/s]\u001B[A\n",
      "series_id: 100%|██████████| 59/59 [00:01<00:00, 44.48it/s]\u001B[A\n",
      " 76%|███████▌  | 38/50 [00:58<00:15,  1.31s/it]"
     ]
    },
    {
     "name": "stdout",
     "output_type": "stream",
     "text": [
      "tp 8\n",
      "fp 304\n",
      "fn 97\n",
      "tn 0\n",
      "total number of candidates 4\n",
      "total number of nodules 105\n",
      "irrelevant candidates 65\n",
      "Ignored candidates which were double detections on a nodule 1\n",
      "sensitivity 0.0761904761904762\n",
      "Average number of candidates per scan 0.06779661016949153\n"
     ]
    },
    {
     "name": "stderr",
     "output_type": "stream",
     "text": [
      "\n",
      "series_id:   0%|          | 0/59 [00:00<?, ?it/s]\u001B[A\n",
      "series_id:   3%|▎         | 2/59 [00:00<00:04, 12.05it/s]\u001B[A\n",
      "series_id:   8%|▊         | 5/59 [00:00<00:03, 15.48it/s]\u001B[A\n",
      "series_id:  20%|██        | 12/59 [00:00<00:01, 32.21it/s]\u001B[A\n",
      "series_id:  31%|███       | 18/59 [00:00<00:01, 39.80it/s]\u001B[A\n",
      "series_id:  39%|███▉      | 23/59 [00:00<00:01, 34.35it/s]\u001B[A\n",
      "series_id:  51%|█████     | 30/59 [00:00<00:00, 42.39it/s]\u001B[A\n",
      "series_id:  59%|█████▉    | 35/59 [00:00<00:00, 43.03it/s]\u001B[A\n",
      "series_id:  75%|███████▍  | 44/59 [00:01<00:00, 54.79it/s]\u001B[A\n",
      "series_id: 100%|██████████| 59/59 [00:01<00:00, 45.19it/s]\u001B[A\n",
      " 78%|███████▊  | 39/50 [00:59<00:14,  1.31s/it]"
     ]
    },
    {
     "name": "stdout",
     "output_type": "stream",
     "text": [
      "tp 7\n",
      "fp 300\n",
      "fn 98\n",
      "tn 0\n",
      "total number of candidates 4\n",
      "total number of nodules 105\n",
      "irrelevant candidates 57\n",
      "Ignored candidates which were double detections on a nodule 1\n",
      "sensitivity 0.06666666666666667\n",
      "Average number of candidates per scan 0.06779661016949153\n"
     ]
    },
    {
     "name": "stderr",
     "output_type": "stream",
     "text": [
      "\n",
      "series_id:   0%|          | 0/59 [00:00<?, ?it/s]\u001B[A\n",
      "series_id:   3%|▎         | 2/59 [00:00<00:04, 13.79it/s]\u001B[A\n",
      "series_id:   8%|▊         | 5/59 [00:00<00:03, 17.64it/s]\u001B[A\n",
      "series_id:  20%|██        | 12/59 [00:00<00:01, 34.98it/s]\u001B[A\n",
      "series_id:  31%|███       | 18/59 [00:00<00:00, 42.71it/s]\u001B[A\n",
      "series_id:  39%|███▉      | 23/59 [00:00<00:01, 35.04it/s]\u001B[A\n",
      "series_id:  51%|█████     | 30/59 [00:00<00:00, 42.95it/s]\u001B[A\n",
      "series_id:  59%|█████▉    | 35/59 [00:00<00:00, 43.49it/s]\u001B[A\n",
      "series_id:  75%|███████▍  | 44/59 [00:01<00:00, 55.73it/s]\u001B[A\n",
      "series_id: 100%|██████████| 59/59 [00:01<00:00, 46.88it/s]\u001B[A\n",
      " 80%|████████  | 40/50 [01:00<00:12,  1.30s/it]"
     ]
    },
    {
     "name": "stdout",
     "output_type": "stream",
     "text": [
      "tp 7\n",
      "fp 289\n",
      "fn 98\n",
      "tn 0\n",
      "total number of candidates 3\n",
      "total number of nodules 105\n",
      "irrelevant candidates 57\n",
      "Ignored candidates which were double detections on a nodule 1\n",
      "sensitivity 0.06666666666666667\n",
      "Average number of candidates per scan 0.05084745762711865\n"
     ]
    },
    {
     "name": "stderr",
     "output_type": "stream",
     "text": [
      "\n",
      "series_id:   0%|          | 0/59 [00:00<?, ?it/s]\u001B[A\n",
      "series_id:   3%|▎         | 2/59 [00:00<00:04, 12.74it/s]\u001B[A\n",
      "series_id:   8%|▊         | 5/59 [00:00<00:03, 17.23it/s]\u001B[A\n",
      "series_id:  20%|██        | 12/59 [00:00<00:01, 34.43it/s]\u001B[A\n",
      "series_id:  32%|███▏      | 19/59 [00:00<00:00, 44.49it/s]\u001B[A\n",
      "series_id:  41%|████      | 24/59 [00:00<00:00, 38.98it/s]\u001B[A\n",
      "series_id:  51%|█████     | 30/59 [00:00<00:00, 44.54it/s]\u001B[A\n",
      "series_id:  59%|█████▉    | 35/59 [00:00<00:00, 44.51it/s]\u001B[A\n",
      "series_id:  75%|███████▍  | 44/59 [00:01<00:00, 56.08it/s]\u001B[A\n",
      "series_id:  88%|████████▊ | 52/59 [00:01<00:00, 62.53it/s]\u001B[A\n",
      "series_id: 100%|██████████| 59/59 [00:01<00:00, 47.05it/s]\u001B[A\n",
      " 82%|████████▏ | 41/50 [01:01<00:11,  1.28s/it]"
     ]
    },
    {
     "name": "stdout",
     "output_type": "stream",
     "text": [
      "tp 6\n",
      "fp 283\n",
      "fn 99\n",
      "tn 0\n",
      "total number of candidates 3\n",
      "total number of nodules 105\n",
      "irrelevant candidates 54\n",
      "Ignored candidates which were double detections on a nodule 1\n",
      "sensitivity 0.05714285714285714\n",
      "Average number of candidates per scan 0.05084745762711865\n"
     ]
    },
    {
     "name": "stderr",
     "output_type": "stream",
     "text": [
      "\n",
      "series_id:   0%|          | 0/59 [00:00<?, ?it/s]\u001B[A\n",
      "series_id:   3%|▎         | 2/59 [00:00<00:04, 11.76it/s]\u001B[A\n",
      "series_id:   8%|▊         | 5/59 [00:00<00:03, 16.83it/s]\u001B[A\n",
      "series_id:  20%|██        | 12/59 [00:00<00:01, 33.59it/s]\u001B[A\n",
      "series_id:  29%|██▉       | 17/59 [00:00<00:01, 38.64it/s]\u001B[A\n",
      "series_id:  37%|███▋      | 22/59 [00:00<00:01, 32.00it/s]\u001B[A\n",
      "series_id:  49%|████▉     | 29/59 [00:00<00:00, 39.97it/s]\u001B[A\n",
      "series_id:  58%|█████▊    | 34/59 [00:00<00:00, 39.50it/s]\u001B[A\n",
      "series_id:  75%|███████▍  | 44/59 [00:01<00:00, 52.65it/s]\u001B[A\n",
      "series_id:  88%|████████▊ | 52/59 [00:01<00:00, 59.42it/s]\u001B[A\n",
      "series_id: 100%|██████████| 59/59 [00:01<00:00, 43.92it/s]\u001B[A\n",
      " 84%|████████▍ | 42/50 [01:03<00:10,  1.30s/it]"
     ]
    },
    {
     "name": "stdout",
     "output_type": "stream",
     "text": [
      "tp 5\n",
      "fp 309\n",
      "fn 100\n",
      "tn 0\n",
      "total number of candidates 3\n",
      "total number of nodules 105\n",
      "irrelevant candidates 54\n",
      "Ignored candidates which were double detections on a nodule 1\n",
      "sensitivity 0.047619047619047616\n",
      "Average number of candidates per scan 0.05084745762711865\n"
     ]
    },
    {
     "name": "stderr",
     "output_type": "stream",
     "text": [
      "\n",
      "series_id:   0%|          | 0/59 [00:00<?, ?it/s]\u001B[A\n",
      "series_id:   3%|▎         | 2/59 [00:00<00:05, 11.27it/s]\u001B[A\n",
      "series_id:   8%|▊         | 5/59 [00:00<00:03, 14.83it/s]\u001B[A\n",
      "series_id:  20%|██        | 12/59 [00:00<00:01, 31.04it/s]\u001B[A\n",
      "series_id:  27%|██▋       | 16/59 [00:00<00:01, 32.49it/s]\u001B[A\n",
      "series_id:  37%|███▋      | 22/59 [00:00<00:01, 29.56it/s]\u001B[A\n",
      "series_id:  49%|████▉     | 29/59 [00:00<00:00, 38.04it/s]\u001B[A\n",
      "series_id:  58%|█████▊    | 34/59 [00:01<00:00, 38.88it/s]\u001B[A\n",
      "series_id:  75%|███████▍  | 44/59 [00:01<00:00, 51.78it/s]\u001B[A\n",
      "series_id:  90%|████████▉ | 53/59 [00:01<00:00, 57.15it/s]\u001B[A\n",
      "series_id: 100%|██████████| 59/59 [00:01<00:00, 42.34it/s]\u001B[A\n",
      " 86%|████████▌ | 43/50 [01:04<00:09,  1.33s/it]"
     ]
    },
    {
     "name": "stdout",
     "output_type": "stream",
     "text": [
      "tp 6\n",
      "fp 321\n",
      "fn 99\n",
      "tn 0\n",
      "total number of candidates 3\n",
      "total number of nodules 105\n",
      "irrelevant candidates 55\n",
      "Ignored candidates which were double detections on a nodule 1\n",
      "sensitivity 0.05714285714285714\n",
      "Average number of candidates per scan 0.05084745762711865\n"
     ]
    },
    {
     "name": "stderr",
     "output_type": "stream",
     "text": [
      "\n",
      "series_id:   0%|          | 0/59 [00:00<?, ?it/s]\u001B[A\n",
      "series_id:   3%|▎         | 2/59 [00:00<00:04, 11.59it/s]\u001B[A\n",
      "series_id:   8%|▊         | 5/59 [00:00<00:03, 14.98it/s]\u001B[A\n",
      "series_id:  20%|██        | 12/59 [00:00<00:01, 31.39it/s]\u001B[A\n",
      "series_id:  27%|██▋       | 16/59 [00:00<00:01, 33.73it/s]\u001B[A\n",
      "series_id:  37%|███▋      | 22/59 [00:00<00:01, 31.16it/s]\u001B[A\n",
      "series_id:  49%|████▉     | 29/59 [00:00<00:00, 39.32it/s]\u001B[A\n",
      "series_id:  58%|█████▊    | 34/59 [00:01<00:00, 39.95it/s]\u001B[A\n",
      "series_id:  75%|███████▍  | 44/59 [00:01<00:00, 52.92it/s]\u001B[A\n",
      "series_id:  88%|████████▊ | 52/59 [00:01<00:00, 59.85it/s]\u001B[A\n",
      "series_id: 100%|██████████| 59/59 [00:01<00:00, 42.99it/s]\u001B[A\n",
      " 88%|████████▊ | 44/50 [01:06<00:08,  1.34s/it]"
     ]
    },
    {
     "name": "stdout",
     "output_type": "stream",
     "text": [
      "tp 7\n",
      "fp 318\n",
      "fn 98\n",
      "tn 0\n",
      "total number of candidates 2\n",
      "total number of nodules 105\n",
      "irrelevant candidates 57\n",
      "Ignored candidates which were double detections on a nodule 1\n",
      "sensitivity 0.06666666666666667\n",
      "Average number of candidates per scan 0.03389830508474576\n"
     ]
    },
    {
     "name": "stderr",
     "output_type": "stream",
     "text": [
      "\n",
      "series_id:   0%|          | 0/59 [00:00<?, ?it/s]\u001B[A\n",
      "series_id:   3%|▎         | 2/59 [00:00<00:04, 12.90it/s]\u001B[A\n",
      "series_id:   8%|▊         | 5/59 [00:00<00:03, 15.33it/s]\u001B[A\n",
      "series_id:  20%|██        | 12/59 [00:00<00:01, 31.56it/s]\u001B[A\n",
      "series_id:  27%|██▋       | 16/59 [00:00<00:01, 33.60it/s]\u001B[A\n",
      "series_id:  37%|███▋      | 22/59 [00:00<00:01, 30.54it/s]\u001B[A\n",
      "series_id:  49%|████▉     | 29/59 [00:00<00:00, 38.93it/s]\u001B[A\n",
      "series_id:  58%|█████▊    | 34/59 [00:01<00:00, 39.85it/s]\u001B[A\n",
      "series_id:  75%|███████▍  | 44/59 [00:01<00:00, 52.71it/s]\u001B[A\n",
      "series_id:  88%|████████▊ | 52/59 [00:01<00:00, 58.69it/s]\u001B[A\n",
      "series_id: 100%|██████████| 59/59 [00:01<00:00, 41.93it/s]\u001B[A\n",
      " 90%|█████████ | 45/50 [01:07<00:06,  1.36s/it]"
     ]
    },
    {
     "name": "stdout",
     "output_type": "stream",
     "text": [
      "tp 4\n",
      "fp 325\n",
      "fn 101\n",
      "tn 0\n",
      "total number of candidates 3\n",
      "total number of nodules 105\n",
      "irrelevant candidates 49\n",
      "Ignored candidates which were double detections on a nodule 0\n",
      "sensitivity 0.0380952380952381\n",
      "Average number of candidates per scan 0.05084745762711865\n"
     ]
    },
    {
     "name": "stderr",
     "output_type": "stream",
     "text": [
      "\n",
      "series_id:   0%|          | 0/59 [00:00<?, ?it/s]\u001B[A\n",
      "series_id:   3%|▎         | 2/59 [00:00<00:04, 13.70it/s]\u001B[A\n",
      "series_id:   8%|▊         | 5/59 [00:00<00:03, 14.98it/s]\u001B[A\n",
      "series_id:  20%|██        | 12/59 [00:00<00:01, 31.49it/s]\u001B[A\n",
      "series_id:  27%|██▋       | 16/59 [00:00<00:01, 32.27it/s]\u001B[A\n",
      "series_id:  37%|███▋      | 22/59 [00:00<00:01, 28.67it/s]\u001B[A\n",
      "series_id:  49%|████▉     | 29/59 [00:00<00:00, 36.60it/s]\u001B[A\n",
      "series_id:  58%|█████▊    | 34/59 [00:01<00:00, 38.47it/s]\u001B[A\n",
      "series_id:  75%|███████▍  | 44/59 [00:01<00:00, 50.49it/s]\u001B[A\n",
      "series_id:  90%|████████▉ | 53/59 [00:01<00:00, 54.88it/s]\u001B[A\n",
      "series_id: 100%|██████████| 59/59 [00:01<00:00, 41.52it/s]\u001B[A\n",
      " 92%|█████████▏| 46/50 [01:08<00:05,  1.38s/it]"
     ]
    },
    {
     "name": "stdout",
     "output_type": "stream",
     "text": [
      "tp 4\n",
      "fp 312\n",
      "fn 101\n",
      "tn 0\n",
      "total number of candidates 3\n",
      "total number of nodules 105\n",
      "irrelevant candidates 46\n",
      "Ignored candidates which were double detections on a nodule 1\n",
      "sensitivity 0.0380952380952381\n",
      "Average number of candidates per scan 0.05084745762711865\n"
     ]
    },
    {
     "name": "stderr",
     "output_type": "stream",
     "text": [
      "\n",
      "series_id:   0%|          | 0/59 [00:00<?, ?it/s]\u001B[A\n",
      "series_id:   3%|▎         | 2/59 [00:00<00:04, 12.78it/s]\u001B[A\n",
      "series_id:   8%|▊         | 5/59 [00:00<00:03, 14.35it/s]\u001B[A\n",
      "series_id:  20%|██        | 12/59 [00:00<00:01, 30.04it/s]\u001B[A\n",
      "series_id:  27%|██▋       | 16/59 [00:00<00:01, 32.19it/s]\u001B[A\n",
      "series_id:  37%|███▋      | 22/59 [00:00<00:01, 28.54it/s]\u001B[A\n",
      "series_id:  49%|████▉     | 29/59 [00:00<00:00, 36.81it/s]\u001B[A\n",
      "series_id:  58%|█████▊    | 34/59 [00:01<00:00, 38.59it/s]\u001B[A\n",
      "series_id:  75%|███████▍  | 44/59 [00:01<00:00, 51.20it/s]\u001B[A\n",
      "series_id:  88%|████████▊ | 52/59 [00:01<00:00, 56.61it/s]\u001B[A\n",
      "series_id: 100%|██████████| 59/59 [00:01<00:00, 40.87it/s]\u001B[A\n",
      " 94%|█████████▍| 47/50 [01:10<00:04,  1.40s/it]"
     ]
    },
    {
     "name": "stdout",
     "output_type": "stream",
     "text": [
      "tp 6\n",
      "fp 322\n",
      "fn 99\n",
      "tn 0\n",
      "total number of candidates 3\n",
      "total number of nodules 105\n",
      "irrelevant candidates 50\n",
      "Ignored candidates which were double detections on a nodule 1\n",
      "sensitivity 0.05714285714285714\n",
      "Average number of candidates per scan 0.05084745762711865\n"
     ]
    },
    {
     "name": "stderr",
     "output_type": "stream",
     "text": [
      "\n",
      "series_id:   0%|          | 0/59 [00:00<?, ?it/s]\u001B[A\n",
      "series_id:   3%|▎         | 2/59 [00:00<00:04, 12.94it/s]\u001B[A\n",
      "series_id:   8%|▊         | 5/59 [00:00<00:03, 13.96it/s]\u001B[A\n",
      "series_id:  20%|██        | 12/59 [00:00<00:01, 29.95it/s]\u001B[A\n",
      "series_id:  27%|██▋       | 16/59 [00:00<00:01, 32.55it/s]\u001B[A\n",
      "series_id:  37%|███▋      | 22/59 [00:00<00:01, 28.58it/s]\u001B[A\n",
      "series_id:  49%|████▉     | 29/59 [00:00<00:00, 36.60it/s]\u001B[A\n",
      "series_id:  58%|█████▊    | 34/59 [00:01<00:00, 38.47it/s]\u001B[A\n",
      "series_id:  75%|███████▍  | 44/59 [00:01<00:00, 50.32it/s]\u001B[A\n",
      "series_id:  88%|████████▊ | 52/59 [00:01<00:00, 56.87it/s]\u001B[A\n",
      "series_id: 100%|██████████| 59/59 [00:01<00:00, 40.51it/s]\u001B[A\n",
      " 96%|█████████▌| 48/50 [01:11<00:02,  1.42s/it]"
     ]
    },
    {
     "name": "stdout",
     "output_type": "stream",
     "text": [
      "tp 6\n",
      "fp 340\n",
      "fn 99\n",
      "tn 0\n",
      "total number of candidates 4\n",
      "total number of nodules 105\n",
      "irrelevant candidates 51\n",
      "Ignored candidates which were double detections on a nodule 1\n",
      "sensitivity 0.05714285714285714\n",
      "Average number of candidates per scan 0.06779661016949153\n"
     ]
    },
    {
     "name": "stderr",
     "output_type": "stream",
     "text": [
      "\n",
      "series_id:   0%|          | 0/59 [00:00<?, ?it/s]\u001B[A\n",
      "series_id:   3%|▎         | 2/59 [00:00<00:04, 13.42it/s]\u001B[A\n",
      "series_id:   8%|▊         | 5/59 [00:00<00:03, 14.44it/s]\u001B[A\n",
      "series_id:  20%|██        | 12/59 [00:00<00:01, 30.01it/s]\u001B[A\n",
      "series_id:  27%|██▋       | 16/59 [00:00<00:01, 32.89it/s]\u001B[A\n",
      "series_id:  37%|███▋      | 22/59 [00:00<00:01, 29.06it/s]\u001B[A\n",
      "series_id:  49%|████▉     | 29/59 [00:00<00:00, 37.18it/s]\u001B[A\n",
      "series_id:  58%|█████▊    | 34/59 [00:01<00:00, 39.01it/s]\u001B[A\n",
      "series_id:  75%|███████▍  | 44/59 [00:01<00:00, 50.87it/s]\u001B[A\n",
      "series_id:  90%|████████▉ | 53/59 [00:01<00:00, 56.12it/s]\u001B[A\n",
      "series_id: 100%|██████████| 59/59 [00:01<00:00, 41.68it/s]\u001B[A\n",
      " 98%|█████████▊| 49/50 [01:13<00:01,  1.42s/it]"
     ]
    },
    {
     "name": "stdout",
     "output_type": "stream",
     "text": [
      "tp 7\n",
      "fp 332\n",
      "fn 98\n",
      "tn 0\n",
      "total number of candidates 4\n",
      "total number of nodules 105\n",
      "irrelevant candidates 54\n",
      "Ignored candidates which were double detections on a nodule 1\n",
      "sensitivity 0.06666666666666667\n",
      "Average number of candidates per scan 0.06779661016949153\n"
     ]
    },
    {
     "name": "stderr",
     "output_type": "stream",
     "text": [
      "\n",
      "series_id:   0%|          | 0/59 [00:00<?, ?it/s]\u001B[A\n",
      "series_id:   3%|▎         | 2/59 [00:00<00:03, 14.34it/s]\u001B[A\n",
      "series_id:   8%|▊         | 5/59 [00:00<00:03, 16.41it/s]\u001B[A\n",
      "series_id:  20%|██        | 12/59 [00:00<00:01, 32.60it/s]\u001B[A\n",
      "series_id:  29%|██▉       | 17/59 [00:00<00:01, 37.80it/s]\u001B[A\n",
      "series_id:  37%|███▋      | 22/59 [00:00<00:01, 30.77it/s]\u001B[A\n",
      "series_id:  49%|████▉     | 29/59 [00:00<00:00, 40.04it/s]\u001B[A\n",
      "series_id:  58%|█████▊    | 34/59 [00:00<00:00, 41.03it/s]\u001B[A\n",
      "series_id:  75%|███████▍  | 44/59 [00:01<00:00, 53.02it/s]\u001B[A\n",
      "series_id:  90%|████████▉ | 53/59 [00:01<00:00, 56.74it/s]\u001B[A\n",
      "series_id: 100%|██████████| 59/59 [00:01<00:00, 43.92it/s]\u001B[A\n",
      "100%|██████████| 50/50 [01:14<00:00,  1.49s/it]"
     ]
    },
    {
     "name": "stdout",
     "output_type": "stream",
     "text": [
      "tp 6\n",
      "fp 312\n",
      "fn 99\n",
      "tn 0\n",
      "total number of candidates 3\n",
      "total number of nodules 105\n",
      "irrelevant candidates 50\n",
      "Ignored candidates which were double detections on a nodule 1\n",
      "sensitivity 0.05714285714285714\n",
      "Average number of candidates per scan 0.05084745762711865\n"
     ]
    },
    {
     "name": "stderr",
     "output_type": "stream",
     "text": [
      "\n"
     ]
    }
   ],
   "source": [
    "sensitivity_x = []\n",
    "sensitivity_y = []\n",
    "for epoch_id in tqdm(list(test_detections.keys())[100:]):\n",
    "# for epoch_id in [\"009\"]:\n",
    "    epoch_candidates = test_detections[epoch_id]\n",
    "\n",
    "    total_number_of_candidates = 0\n",
    "    total_number_of_nodules = 0\n",
    "    irrelevant_candidates = 0\n",
    "\n",
    "    double_candidates_ignored = 0\n",
    "\n",
    "    tp = 0\n",
    "    fp = 0\n",
    "    fn = 0\n",
    "    tn = 0\n",
    "\n",
    "    min_probability = -1\n",
    "\n",
    "    froc_gts = []\n",
    "    froc_probs = []\n",
    "\n",
    "    fp_divisors = []\n",
    "    exclude_list = []\n",
    "\n",
    "    ignored_candidates = []\n",
    "\n",
    "    series_ids = epoch_candidates.keys()\n",
    "\n",
    "    for series_id in tqdm(series_ids, desc=\"series_id\"):\n",
    "        mhd_info = mhd_info_df[mhd_info_df[\"series_id\"] == series_id].iloc[0]\n",
    "        origins = mhd_info[\"origins\"]\n",
    "        spacings = mhd_info[\"spacings\"]\n",
    "        is_flip = mhd_info[\"is_flip\"]\n",
    "\n",
    "        spacings = json.loads(spacings)\n",
    "        origins = json.loads(origins)\n",
    "\n",
    "        [z_spacing, y_spacing, x_spacing] = spacings\n",
    "        [z_origin, y_origin, x_origin] = origins\n",
    "\n",
    "        candidates = epoch_candidates[series_id].reset_index()\n",
    "        candidates2 = candidates.copy()\n",
    "        total_number_of_candidates = len(candidates)\n",
    "\n",
    "        nodules = annotations[annotations[\"seriesuid\"] == series_id]\n",
    "\n",
    "        for _, nodule in nodules.iterrows():\n",
    "            if is_nodule_included(nodule):\n",
    "                total_number_of_nodules += 1\n",
    "\n",
    "            x = nodule[\"coordX\"]\n",
    "            y = nodule[\"coordY\"]\n",
    "            z = nodule[\"coordZ\"]\n",
    "            diameter = nodule[\"diameter_mm\"]\n",
    "\n",
    "            if diameter <= 0:\n",
    "                diameter = 10\n",
    "\n",
    "            radius_squared = pow((diameter / 2), 2)\n",
    "\n",
    "            matched_candidates = []\n",
    "\n",
    "            for candidate_id, candidate in candidates.iterrows():\n",
    "                x2 = candidate[\"top_left_x\"]\n",
    "                y2 = candidate[\"top_left_y\"]\n",
    "                z2 = candidate[\"z-index\"]\n",
    "\n",
    "                if is_flip:\n",
    "                    x2 = image_size[0] - x2\n",
    "                    y2 = image_size[1] - y2\n",
    "\n",
    "                x2 = x2 * x_spacing + x_origin\n",
    "                y2 = y2 * y_spacing + y_origin\n",
    "                z2 = z2 * z_spacing + z_origin\n",
    "\n",
    "                dist = pow(x - x2, 2) + pow(y - y2, 2) + pow(z - z2, 2)\n",
    "                if dist < radius_squared:\n",
    "                    if is_nodule_included(nodule):\n",
    "                        matched_candidates.append(candidate)\n",
    "                        if candidate_id not in candidates2.index.values:\n",
    "                            print(candidate, nodule)\n",
    "                        else:\n",
    "                            candidates2.drop([candidate_id])\n",
    "                    else:\n",
    "                        if candidate_id in candidates2.index.values:\n",
    "                            irrelevant_candidates += 1\n",
    "                            ignored_candidates.append(nodule)\n",
    "                            candidates2.drop([candidate_id])\n",
    "\n",
    "            if len(matched_candidates) > 1:\n",
    "                double_candidates_ignored += (len(matched_candidates) - 1)\n",
    "\n",
    "            if is_nodule_included(nodule):\n",
    "                if len(matched_candidates) > 0:\n",
    "                    max_probability = min_probability\n",
    "                    for candidate in matched_candidates:\n",
    "                        max_probability = max(max_probability, candidate[\"probability\"])\n",
    "\n",
    "                    froc_gts.append(1)\n",
    "                    froc_probs.append(max_probability)\n",
    "                    fp_divisors.append(series_id)\n",
    "                    exclude_list.append(False)\n",
    "                    tp += 1\n",
    "                else:\n",
    "                    fn += 1\n",
    "                    froc_gts.append(1)\n",
    "                    froc_probs.append(min_probability)\n",
    "                    fp_divisors.append(series_id)\n",
    "                    exclude_list.append(True)\n",
    "\n",
    "        for _, candidate3 in candidates2.iterrows():\n",
    "            fp += 1\n",
    "            froc_gts.append(0)\n",
    "            froc_probs.append(candidate3[\"probability\"])\n",
    "            fp_divisors.append(series_id)\n",
    "            exclude_list.append(False)\n",
    "\n",
    "    print(\"tp\", tp)\n",
    "    print(\"fp\", fp)\n",
    "    print(\"fn\", fn)\n",
    "    print(\"tn\", tn)\n",
    "\n",
    "    print(\"total number of candidates\", total_number_of_candidates)\n",
    "    print(\"total number of nodules\", total_number_of_nodules)\n",
    "\n",
    "    print(\"irrelevant candidates\", irrelevant_candidates)\n",
    "    print(\"Ignored candidates which were double detections on a nodule\", double_candidates_ignored)\n",
    "\n",
    "    sensitivity_x.append(epoch_id)\n",
    "    if total_number_of_nodules == 0:\n",
    "        print(\"sensitivity\", 0)\n",
    "        sensitivity_y.append(0)\n",
    "    else:\n",
    "        print(\"sensitivity\", tp / total_number_of_nodules)\n",
    "        sensitivity_y.append(tp / total_number_of_nodules)\n",
    "\n",
    "    print(\"Average number of candidates per scan\", total_number_of_candidates / len(series_ids))\n",
    "\n",
    "    # y = []\n",
    "    # y_prob = []\n",
    "    #\n",
    "    # for i in range(len(exclude_list)):\n",
    "    #     y.append(froc_gts[i])\n",
    "    #     y_prob.append(froc_probs[i])\n",
    "\n",
    "    # fpr, tpr, thresholds = metrics.roc_curve(y, y_prob)\n",
    "\n",
    "    # #create ROC curve\n",
    "    # plt.plot(fpr, tpr)\n",
    "    # plt.ylabel('True Positive Rate')\n",
    "    # plt.xlabel('False Positive Rate')\n",
    "    # plt.show()\n"
   ],
   "metadata": {
    "collapsed": false
   }
  },
  {
   "cell_type": "code",
   "execution_count": 11,
   "outputs": [
    {
     "data": {
      "text/plain": "[<matplotlib.lines.Line2D at 0x1b3737003d0>]"
     },
     "execution_count": 11,
     "metadata": {},
     "output_type": "execute_result"
    },
    {
     "data": {
      "text/plain": "<Figure size 2500x500 with 1 Axes>",
      "image/png": "[encoded data removed]"
     },
     "metadata": {},
     "output_type": "display_data"
    }
   ],
   "source": [
    "figure(figsize=(25, 5))\n",
    "plt.plot(sensitivity_x, sensitivity_y, label='Sensitivity')"
   ],
   "metadata": {
    "collapsed": false
   }
  },
  {
   "cell_type": "code",
   "execution_count": 12,
   "outputs": [],
   "source": [
    "# 008\n",
    "# tp 63\n",
    "# fp 1509505\n",
    "# fn 42\n",
    "# tn 0\n",
    "# total number of candidates 39121\n",
    "# total number of nodules 105\n",
    "# irrelevant candidates 25482\n",
    "# Ignored candidates which were double detections on a nodule 2556\n",
    "# sensitivity 0.6\n",
    "# Average number of candidates per scan 444.5568181818182"
   ],
   "metadata": {
    "collapsed": false
   }
  },
  {
   "cell_type": "code",
   "execution_count": 13,
   "outputs": [],
   "source": [
    "# 052\n",
    "# tp 52\n",
    "# fp 402505\n",
    "# fn 53\n",
    "# tn 0\n",
    "# candidates 6505\n",
    "# nodules 105\n",
    "# irrelevant candidates 17400\n",
    "# Ignored candidates which were double detections on a nodule 1328\n",
    "# sensitivity 0.49523809523809526\n",
    "# Average number of candidates per scan 73.92045454545455"
   ],
   "metadata": {
    "collapsed": false
   }
  },
  {
   "cell_type": "code",
   "execution_count": null,
   "outputs": [],
   "source": [
    "# 059\n",
    "# tp 47\n",
    "# fp 241474\n",
    "# fn 58\n",
    "# tn 0\n",
    "# total number of candidates 4345\n",
    "# total number of nodules 105\n",
    "# irrelevant candidates 13127\n",
    "# Ignored candidates which were double detections on a nodule 1058\n",
    "# sensitivity 0.44761904761904764\n",
    "# Average number of candidates per scan 49.375"
   ],
   "metadata": {
    "collapsed": false
   }
  }
 ],
 "metadata": {
  "kernelspec": {
   "display_name": "Python 3",
   "language": "python",
   "name": "python3"
  },
  "language_info": {
   "codemirror_mode": {
    "name": "ipython",
    "version": 2
   },
   "file_extension": ".py",
   "mimetype": "text/x-python",
   "name": "python",
   "nbconvert_exporter": "python",
   "pygments_lexer": "ipython2",
   "version": "2.7.6"
  }
 },
 "nbformat": 4,
 "nbformat_minor": 0
}
