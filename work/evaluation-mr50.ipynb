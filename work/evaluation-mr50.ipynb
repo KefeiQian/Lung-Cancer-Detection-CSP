{
 "cells": [
  {
   "cell_type": "code",
   "execution_count": 1,
   "metadata": {
    "collapsed": true
   },
   "outputs": [],
   "source": [
    "import os\n",
    "import pickle\n",
    "\n",
    "import numpy as np\n",
    "import pandas as pd\n",
    "from tqdm import tqdm\n",
    "import matplotlib.pyplot as plt\n",
    "from matplotlib.pyplot import figure\n",
    "\n",
    "import cv2"
   ]
  },
  {
   "cell_type": "code",
   "execution_count": 2,
   "outputs": [],
   "source": [
    "image_size = (512, 512)\n",
    "\n",
    "test_subset_id = 9\n",
    "\n",
    "output_folder = \"output/\"\n",
    "work_data_folder = \"data/\"\n",
    "\n",
    "detections_output_path = \"output/detections\"\n",
    "\n",
    "image_folder_path = \"../data/images\"\n",
    "\n",
    "for folder in [output_folder, work_data_folder, detections_output_path]:\n",
    "    if not os.path.exists(folder):\n",
    "        os.makedirs(folder)"
   ],
   "metadata": {
    "collapsed": false
   }
  },
  {
   "cell_type": "code",
   "execution_count": 3,
   "outputs": [],
   "source": [
    "def read_detection_result():\n",
    "    detection_result_folder = \"../output/valresults/caltech/h/off\"\n",
    "\n",
    "    detection_dfs = {}\n",
    "    for epoch_id in tqdm(os.listdir(detection_result_folder), desc=\"test epoch\"):\n",
    "        current_folder_path = \"{}/{}\".format(detection_result_folder, epoch_id)\n",
    "\n",
    "        detection_dfs.setdefault(epoch_id, {})\n",
    "        for filename in os.listdir(current_folder_path):\n",
    "            series_id = filename[0:-4]\n",
    "            file = os.path.join(current_folder_path, filename)\n",
    "            result_df = pd.read_csv(file, delimiter=\" \", header=None)\n",
    "            result_df.columns = [\"z-index\", \"top_left_x\", \"top_left_y\", \"width\", \"height\", \"possibility\"]\n",
    "            detection_dfs.get(epoch_id).setdefault(series_id, result_df)\n",
    "\n",
    "    return detection_dfs"
   ],
   "metadata": {
    "collapsed": false
   }
  },
  {
   "cell_type": "code",
   "execution_count": 4,
   "outputs": [
    {
     "name": "stderr",
     "output_type": "stream",
     "text": [
      "test epoch: 100%|██████████| 58/58 [00:06<00:00,  9.27it/s]\n"
     ]
    }
   ],
   "source": [
    "test_detections = read_detection_result()\n",
    "# test_detections[\"001\"]"
   ],
   "metadata": {
    "collapsed": false
   }
  },
  {
   "cell_type": "code",
   "execution_count": 5,
   "outputs": [],
   "source": [
    "def world_to_voxel_coord(world_coord, origin, spacing):\n",
    "    stretched_voxel_coord = np.absolute(world_coord - origin)\n",
    "    voxel_coord = stretched_voxel_coord / spacing\n",
    "    return voxel_coord\n",
    "\n",
    "\n",
    "def read_ground_truth_data():\n",
    "    fid = open(\"../data/cache/test\", 'rb')\n",
    "    test_pickle = pickle.Unpickler(fid, encoding=\"latin1\")\n",
    "    test_cache = test_pickle.load()\n",
    "\n",
    "    gt_df = pd.DataFrame(test_cache)\n",
    "    gt_df[\"series_id\"] = gt_df[\"filepath\"].map(lambda x: x.split(\"/\")[-2])\n",
    "    gt_df[\"z-index\"] = gt_df[\"filepath\"].map(lambda x: int(x.split(\"/\")[-1][2:-4]))\n",
    "\n",
    "    return gt_df"
   ],
   "metadata": {
    "collapsed": false
   }
  },
  {
   "cell_type": "code",
   "execution_count": 6,
   "outputs": [
    {
     "data": {
      "text/plain": "                   bboxes ignoreareas  \\\n0  [[342, 267, 366, 291]]          []   \n1  [[227, 302, 235, 309]]          []   \n2    [[87, 225, 92, 231]]          []   \n3  [[387, 281, 399, 292]]          []   \n4  [[127, 230, 134, 237]]          []   \n\n                                            filepath  \\\n0  data/images/1.3.6.1.4.1.14519.5.2.1.6279.6001....   \n1  data/images/1.3.6.1.4.1.14519.5.2.1.6279.6001....   \n2  data/images/1.3.6.1.4.1.14519.5.2.1.6279.6001....   \n3  data/images/1.3.6.1.4.1.14519.5.2.1.6279.6001....   \n4  data/images/1.3.6.1.4.1.14519.5.2.1.6279.6001....   \n\n                                           series_id  z-index  \n0  1.3.6.1.4.1.14519.5.2.1.6279.6001.102681962408...      121  \n1  1.3.6.1.4.1.14519.5.2.1.6279.6001.112767175295...       57  \n2  1.3.6.1.4.1.14519.5.2.1.6279.6001.112767175295...       64  \n3  1.3.6.1.4.1.14519.5.2.1.6279.6001.112767175295...       69  \n4  1.3.6.1.4.1.14519.5.2.1.6279.6001.112767175295...       82  ",
      "text/html": "<div>\n<style scoped>\n    .dataframe tbody tr th:only-of-type {\n        vertical-align: middle;\n    }\n\n    .dataframe tbody tr th {\n        vertical-align: top;\n    }\n\n    .dataframe thead th {\n        text-align: right;\n    }\n</style>\n<table border=\"1\" class=\"dataframe\">\n  <thead>\n    <tr style=\"text-align: right;\">\n      <th></th>\n      <th>bboxes</th>\n      <th>ignoreareas</th>\n      <th>filepath</th>\n      <th>series_id</th>\n      <th>z-index</th>\n    </tr>\n  </thead>\n  <tbody>\n    <tr>\n      <th>0</th>\n      <td>[[342, 267, 366, 291]]</td>\n      <td>[]</td>\n      <td>data/images/1.3.6.1.4.1.14519.5.2.1.6279.6001....</td>\n      <td>1.3.6.1.4.1.14519.5.2.1.6279.6001.102681962408...</td>\n      <td>121</td>\n    </tr>\n    <tr>\n      <th>1</th>\n      <td>[[227, 302, 235, 309]]</td>\n      <td>[]</td>\n      <td>data/images/1.3.6.1.4.1.14519.5.2.1.6279.6001....</td>\n      <td>1.3.6.1.4.1.14519.5.2.1.6279.6001.112767175295...</td>\n      <td>57</td>\n    </tr>\n    <tr>\n      <th>2</th>\n      <td>[[87, 225, 92, 231]]</td>\n      <td>[]</td>\n      <td>data/images/1.3.6.1.4.1.14519.5.2.1.6279.6001....</td>\n      <td>1.3.6.1.4.1.14519.5.2.1.6279.6001.112767175295...</td>\n      <td>64</td>\n    </tr>\n    <tr>\n      <th>3</th>\n      <td>[[387, 281, 399, 292]]</td>\n      <td>[]</td>\n      <td>data/images/1.3.6.1.4.1.14519.5.2.1.6279.6001....</td>\n      <td>1.3.6.1.4.1.14519.5.2.1.6279.6001.112767175295...</td>\n      <td>69</td>\n    </tr>\n    <tr>\n      <th>4</th>\n      <td>[[127, 230, 134, 237]]</td>\n      <td>[]</td>\n      <td>data/images/1.3.6.1.4.1.14519.5.2.1.6279.6001....</td>\n      <td>1.3.6.1.4.1.14519.5.2.1.6279.6001.112767175295...</td>\n      <td>82</td>\n    </tr>\n  </tbody>\n</table>\n</div>"
     },
     "execution_count": 6,
     "metadata": {},
     "output_type": "execute_result"
    }
   ],
   "source": [
    "annotations = read_ground_truth_data()\n",
    "annotations.head()"
   ],
   "metadata": {
    "collapsed": false
   }
  },
  {
   "cell_type": "code",
   "execution_count": 7,
   "outputs": [],
   "source": [
    "def compute_overlap_area_ratio(a, b):\n",
    "    a_top_left_x, a_top_left_y, a_bottom_right_x, a_bottom_right_y = a\n",
    "    b_top_left_x, b_top_left_y, b_bottom_right_x, b_bottom_right_y = b\n",
    "\n",
    "    overlap_width = min(a_bottom_right_x, b_bottom_right_x) - max(a_top_left_x, b_top_left_x)\n",
    "    if overlap_width <= 0:\n",
    "        return 0\n",
    "\n",
    "    overlap_height = min(a_bottom_right_y, b_bottom_right_y) - max(a_top_left_y, b_top_left_y)\n",
    "    if overlap_height <= 0:\n",
    "        return 0\n",
    "\n",
    "    a_area = (a_bottom_right_x - a_top_left_x) * (a_bottom_right_y - a_top_left_y)\n",
    "    b_area = (b_bottom_right_x - b_top_left_x) * (b_bottom_right_y - b_top_left_y)\n",
    "\n",
    "    overlap_area = overlap_width * overlap_height\n",
    "    total_area = a_area + b_area - overlap_area\n",
    "\n",
    "    overlap_ratio = overlap_area / total_area\n",
    "    return overlap_ratio"
   ],
   "metadata": {
    "collapsed": false
   }
  },
  {
   "cell_type": "code",
   "execution_count": 8,
   "outputs": [],
   "source": [
    "def calculate_mr_50(threshold = 0.5):\n",
    "    for epoch_id in tqdm(test_detections.keys(), desc=\"epoch\"):\n",
    "        epoch_test_result = test_detections[epoch_id]\n",
    "\n",
    "        hit_counter = 0\n",
    "\n",
    "        number_of_test = 0\n",
    "\n",
    "        for series_id in epoch_test_result.keys():\n",
    "            image_detections = epoch_test_result[series_id]\n",
    "            image_detections[\"z-index\"] = image_detections[\"z-index\"].map(lambda x: round(x))\n",
    "            image_detections[\"bottom_right_x\"] = image_detections[\"top_left_x\"] + image_detections[\"height\"]\n",
    "            image_detections[\"bottom_right_y\"] = image_detections[\"top_left_y\"] + image_detections[\"height\"]\n",
    "            image_detections[\"bbox\"] =  list(image_detections[['top_left_x', 'top_left_y', \"bottom_right_x\", \"bottom_right_y\"]].to_records(index=False))\n",
    "\n",
    "            nodules = annotations[annotations[\"series_id\"] == series_id]\n",
    "\n",
    "            for i, nodule in nodules.iterrows():\n",
    "                z_index = nodule[\"z-index\"]\n",
    "\n",
    "                detections = image_detections[image_detections['z-index'] == z_index].reset_index()\n",
    "                matched_detection = set()\n",
    "\n",
    "                nodule_id = 0\n",
    "                for bbox in nodule[\"bboxes\"]:\n",
    "                    max_ratio = threshold\n",
    "                    best_detection_id = -1\n",
    "                    number_of_test += 1\n",
    "\n",
    "                    for detection_id, detection in detections.iterrows():\n",
    "                        if detection_id in matched_detection:\n",
    "                            continue\n",
    "\n",
    "                        ratio = compute_overlap_area_ratio(bbox, detection[\"bbox\"])\n",
    "\n",
    "                        if ratio > max_ratio:\n",
    "                            best_detection_id = detection_id\n",
    "                            max_ratio = ratio\n",
    "\n",
    "                    if best_detection_id != -1:\n",
    "                        hit_counter += 1\n",
    "                        matched_detection.add(best_detection_id)\n",
    "                        best_detection = detections.iloc[best_detection_id]\n",
    "\n",
    "                        image = cv2.imread(\"{}/{}/z-{}.jpg\".format(image_folder_path, series_id, z_index))\n",
    "\n",
    "                        # add red detection rect\n",
    "                        image = cv2.rectangle(image, (round(best_detection[\"top_left_x\"]), round(best_detection[\"top_left_y\"])), (round(best_detection[\"bottom_right_x\"]), round(best_detection[\"bottom_right_y\"])), (0, 0, 255), 1)\n",
    "\n",
    "                        # add green annotation rect\n",
    "                        image = cv2.rectangle(image, (bbox[0], bbox[1]), (bbox[2], bbox[3]), (0, 255, 0), 1)\n",
    "\n",
    "                        folder = \"{}/{}\".format(detections_output_path, epoch_id)\n",
    "                        if not os.path.exists(folder):\n",
    "                            os.makedirs(folder)\n",
    "\n",
    "                        cv2.imwrite(\"{}/{}-z{}-nodule{}-{}.jpg\".format(folder, series_id, z_index, nodule_id, max_ratio), image)\n",
    "\n",
    "                nodule_id += 1\n",
    "\n",
    "        hit_rate = hit_counter / number_of_test\n",
    "        miss_rate_y.append(1 - hit_rate)\n",
    "        miss_rate_x.append(epoch_id)"
   ],
   "metadata": {
    "collapsed": false
   }
  },
  {
   "cell_type": "code",
   "execution_count": 9,
   "outputs": [
    {
     "name": "stderr",
     "output_type": "stream",
     "text": [
      "epoch: 100%|██████████| 58/58 [00:55<00:00,  1.05it/s]\n"
     ]
    }
   ],
   "source": [
    "miss_rate_x = []\n",
    "miss_rate_y = []\n",
    "\n",
    "calculate_mr_50(threshold=0.5)\n",
    "\n"
   ],
   "metadata": {
    "collapsed": false
   }
  },
  {
   "cell_type": "code",
   "execution_count": 33,
   "outputs": [
    {
     "data": {
      "text/plain": "[<matplotlib.lines.Line2D at 0x1b57178b7f0>]"
     },
     "execution_count": 33,
     "metadata": {},
     "output_type": "execute_result"
    },
    {
     "data": {
      "text/plain": "<Figure size 2500x500 with 1 Axes>",
      "image/png": "[encoded data removed]"
     },
     "metadata": {},
     "output_type": "display_data"
    }
   ],
   "source": [
    "figure(figsize=(25, 5))\n",
    "plt.plot(miss_rate_x, miss_rate_y, label='MR')"
   ],
   "metadata": {
    "collapsed": false
   }
  },
  {
   "cell_type": "code",
   "execution_count": 34,
   "outputs": [
    {
     "data": {
      "text/plain": "[('001', 1.0),\n ('002', 0.9904761904761905),\n ('003', 0.9904761904761905),\n ('004', 0.9714285714285714),\n ('005', 0.8571428571428572),\n ('006', 0.7333333333333334),\n ('007', 0.6571428571428571),\n ('008', 0.5809523809523809),\n ('009', 0.6095238095238096),\n ('010', 0.6190476190476191),\n ('011', 0.6095238095238096),\n ('012', 0.6285714285714286),\n ('013', 0.6285714285714286),\n ('014', 0.6285714285714286),\n ('015', 0.6095238095238096),\n ('016', 0.6),\n ('017', 0.6),\n ('018', 0.6095238095238096),\n ('019', 0.6285714285714286),\n ('020', 0.6571428571428571),\n ('021', 0.6476190476190475),\n ('022', 0.6190476190476191),\n ('023', 0.6095238095238096),\n ('024', 0.6095238095238096),\n ('025', 0.6190476190476191),\n ('026', 0.6285714285714286),\n ('027', 0.638095238095238),\n ('028', 0.6285714285714286),\n ('029', 0.6476190476190475),\n ('030', 0.6285714285714286),\n ('031', 0.6476190476190475),\n ('032', 0.6571428571428571),\n ('033', 0.638095238095238),\n ('034', 0.638095238095238),\n ('035', 0.638095238095238),\n ('036', 0.638095238095238),\n ('037', 0.6476190476190475),\n ('038', 0.6476190476190475),\n ('039', 0.6285714285714286),\n ('040', 0.638095238095238),\n ('041', 0.638095238095238),\n ('042', 0.638095238095238),\n ('043', 0.638095238095238),\n ('044', 0.6476190476190475),\n ('045', 0.6571428571428571),\n ('046', 0.6476190476190475),\n ('047', 0.6476190476190475),\n ('048', 0.638095238095238),\n ('049', 0.6476190476190475),\n ('050', 0.6571428571428571),\n ('051', 0.6476190476190475),\n ('052', 0.6476190476190475),\n ('053', 0.6666666666666667),\n ('054', 0.6571428571428571),\n ('055', 0.6571428571428571),\n ('056', 0.6476190476190475),\n ('057', 0.6571428571428571),\n ('058', 0.6571428571428571)]"
     },
     "execution_count": 34,
     "metadata": {},
     "output_type": "execute_result"
    }
   ],
   "source": [
    "list(zip(miss_rate_x, miss_rate_y))"
   ],
   "metadata": {
    "collapsed": false
   }
  },
  {
   "cell_type": "code",
   "execution_count": null,
   "outputs": [],
   "source": [],
   "metadata": {
    "collapsed": false
   }
  }
 ],
 "metadata": {
  "kernelspec": {
   "display_name": "Python 3",
   "language": "python",
   "name": "python3"
  },
  "language_info": {
   "codemirror_mode": {
    "name": "ipython",
    "version": 2
   },
   "file_extension": ".py",
   "mimetype": "text/x-python",
   "name": "python",
   "nbconvert_exporter": "python",
   "pygments_lexer": "ipython2",
   "version": "2.7.6"
  }
 },
 "nbformat": 4,
 "nbformat_minor": 0
}
