{
 "cells": [
  {
   "cell_type": "code",
   "execution_count": 38,
   "metadata": {
    "collapsed": true
   },
   "outputs": [],
   "source": [
    "import os\n",
    "import pickle\n",
    "\n",
    "import numpy as np\n",
    "import pandas as pd\n",
    "from tqdm import tqdm\n",
    "import json\n",
    "import matplotlib.pyplot as plt\n",
    "from matplotlib.pyplot import figure\n",
    "\n",
    "import cv2"
   ]
  },
  {
   "cell_type": "code",
   "execution_count": 39,
   "outputs": [],
   "source": [
    "image_size = (512, 512)\n"
   ],
   "metadata": {
    "collapsed": false
   }
  },
  {
   "cell_type": "code",
   "execution_count": 42,
   "outputs": [
    {
     "data": {
      "text/plain": "                                       mhd_file_path  \\\n0  ../downloads/data/subset0/1.3.6.1.4.1.14519.5....   \n1  ../downloads/data/subset0/1.3.6.1.4.1.14519.5....   \n2  ../downloads/data/subset0/1.3.6.1.4.1.14519.5....   \n3  ../downloads/data/subset0/1.3.6.1.4.1.14519.5....   \n4  ../downloads/data/subset0/1.3.6.1.4.1.14519.5....   \n\n                                      mask_file_path  subset_id  \\\n0  ../downloads/seg-lungs-LUNA16/1.3.6.1.4.1.1451...          0   \n1  ../downloads/seg-lungs-LUNA16/1.3.6.1.4.1.1451...          0   \n2  ../downloads/seg-lungs-LUNA16/1.3.6.1.4.1.1451...          0   \n3  ../downloads/seg-lungs-LUNA16/1.3.6.1.4.1.1451...          0   \n4  ../downloads/seg-lungs-LUNA16/1.3.6.1.4.1.1451...          0   \n\n                                           series_id  total_images  \\\n0  1.3.6.1.4.1.14519.5.2.1.6279.6001.105756658031...           121   \n1  1.3.6.1.4.1.14519.5.2.1.6279.6001.108197895896...           119   \n2  1.3.6.1.4.1.14519.5.2.1.6279.6001.109002525524...           161   \n3  1.3.6.1.4.1.14519.5.2.1.6279.6001.111172165674...           538   \n4  1.3.6.1.4.1.14519.5.2.1.6279.6001.122763913896...           124   \n\n                                   origins  \\\n0       [-335.209991, -195.0, -198.100006]   \n1                [-313.75, -190.0, -182.5]   \n2       [-194.0, -108.300003, -187.699997]   \n3  [-298.774994, -143.100006, -180.600006]   \n4       [-337.480011, -157.5, -166.399994]   \n\n                                          spacings  is_flip  \\\n0    [2.5, 0.7617189884185791, 0.7617189884185791]    False   \n1    [2.5, 0.7421879768371582, 0.7421879768371582]    False   \n2   [1.25, 0.5488280057907104, 0.5488280057907104]    False   \n3  [0.625, 0.7421879768371582, 0.7421879768371582]    False   \n4    [2.5, 0.6152340173721313, 0.6152340173721313]    False   \n\n                                     ct_image_folder  \n0  ../data/images/1.3.6.1.4.1.14519.5.2.1.6279.60...  \n1  ../data/images/1.3.6.1.4.1.14519.5.2.1.6279.60...  \n2  ../data/images/1.3.6.1.4.1.14519.5.2.1.6279.60...  \n3  ../data/images/1.3.6.1.4.1.14519.5.2.1.6279.60...  \n4  ../data/images/1.3.6.1.4.1.14519.5.2.1.6279.60...  ",
      "text/html": "<div>\n<style scoped>\n    .dataframe tbody tr th:only-of-type {\n        vertical-align: middle;\n    }\n\n    .dataframe tbody tr th {\n        vertical-align: top;\n    }\n\n    .dataframe thead th {\n        text-align: right;\n    }\n</style>\n<table border=\"1\" class=\"dataframe\">\n  <thead>\n    <tr style=\"text-align: right;\">\n      <th></th>\n      <th>mhd_file_path</th>\n      <th>mask_file_path</th>\n      <th>subset_id</th>\n      <th>series_id</th>\n      <th>total_images</th>\n      <th>origins</th>\n      <th>spacings</th>\n      <th>is_flip</th>\n      <th>ct_image_folder</th>\n    </tr>\n  </thead>\n  <tbody>\n    <tr>\n      <th>0</th>\n      <td>../downloads/data/subset0/1.3.6.1.4.1.14519.5....</td>\n      <td>../downloads/seg-lungs-LUNA16/1.3.6.1.4.1.1451...</td>\n      <td>0</td>\n      <td>1.3.6.1.4.1.14519.5.2.1.6279.6001.105756658031...</td>\n      <td>121</td>\n      <td>[-335.209991, -195.0, -198.100006]</td>\n      <td>[2.5, 0.7617189884185791, 0.7617189884185791]</td>\n      <td>False</td>\n      <td>../data/images/1.3.6.1.4.1.14519.5.2.1.6279.60...</td>\n    </tr>\n    <tr>\n      <th>1</th>\n      <td>../downloads/data/subset0/1.3.6.1.4.1.14519.5....</td>\n      <td>../downloads/seg-lungs-LUNA16/1.3.6.1.4.1.1451...</td>\n      <td>0</td>\n      <td>1.3.6.1.4.1.14519.5.2.1.6279.6001.108197895896...</td>\n      <td>119</td>\n      <td>[-313.75, -190.0, -182.5]</td>\n      <td>[2.5, 0.7421879768371582, 0.7421879768371582]</td>\n      <td>False</td>\n      <td>../data/images/1.3.6.1.4.1.14519.5.2.1.6279.60...</td>\n    </tr>\n    <tr>\n      <th>2</th>\n      <td>../downloads/data/subset0/1.3.6.1.4.1.14519.5....</td>\n      <td>../downloads/seg-lungs-LUNA16/1.3.6.1.4.1.1451...</td>\n      <td>0</td>\n      <td>1.3.6.1.4.1.14519.5.2.1.6279.6001.109002525524...</td>\n      <td>161</td>\n      <td>[-194.0, -108.300003, -187.699997]</td>\n      <td>[1.25, 0.5488280057907104, 0.5488280057907104]</td>\n      <td>False</td>\n      <td>../data/images/1.3.6.1.4.1.14519.5.2.1.6279.60...</td>\n    </tr>\n    <tr>\n      <th>3</th>\n      <td>../downloads/data/subset0/1.3.6.1.4.1.14519.5....</td>\n      <td>../downloads/seg-lungs-LUNA16/1.3.6.1.4.1.1451...</td>\n      <td>0</td>\n      <td>1.3.6.1.4.1.14519.5.2.1.6279.6001.111172165674...</td>\n      <td>538</td>\n      <td>[-298.774994, -143.100006, -180.600006]</td>\n      <td>[0.625, 0.7421879768371582, 0.7421879768371582]</td>\n      <td>False</td>\n      <td>../data/images/1.3.6.1.4.1.14519.5.2.1.6279.60...</td>\n    </tr>\n    <tr>\n      <th>4</th>\n      <td>../downloads/data/subset0/1.3.6.1.4.1.14519.5....</td>\n      <td>../downloads/seg-lungs-LUNA16/1.3.6.1.4.1.1451...</td>\n      <td>0</td>\n      <td>1.3.6.1.4.1.14519.5.2.1.6279.6001.122763913896...</td>\n      <td>124</td>\n      <td>[-337.480011, -157.5, -166.399994]</td>\n      <td>[2.5, 0.6152340173721313, 0.6152340173721313]</td>\n      <td>False</td>\n      <td>../data/images/1.3.6.1.4.1.14519.5.2.1.6279.60...</td>\n    </tr>\n  </tbody>\n</table>\n</div>"
     },
     "execution_count": 42,
     "metadata": {},
     "output_type": "execute_result"
    }
   ],
   "source": [
    "mhd_info_csv_path = \"data/mhd_info.csv\"\n",
    "mhd_info_df = pd.read_csv(mhd_info_csv_path)\n",
    "mhd_info_df.head()"
   ],
   "metadata": {
    "collapsed": false
   }
  },
  {
   "cell_type": "code",
   "execution_count": 43,
   "outputs": [
    {
     "data": {
      "text/plain": "                                           seriesuid      coordX      coordY  \\\n0  1.3.6.1.4.1.14519.5.2.1.6279.6001.100225287222... -128.699421 -175.319272   \n1  1.3.6.1.4.1.14519.5.2.1.6279.6001.100225287222...  103.783651 -211.925149   \n2  1.3.6.1.4.1.14519.5.2.1.6279.6001.100398138793...   69.639017 -140.944586   \n3  1.3.6.1.4.1.14519.5.2.1.6279.6001.100621383016...  -24.013824  192.102405   \n4  1.3.6.1.4.1.14519.5.2.1.6279.6001.100621383016...    2.441547  172.464881   \n\n       coordZ  diameter_mm  \n0 -298.387506     5.651471  \n1 -227.121250     4.224708  \n2  876.374496     5.786348  \n3 -391.081276     8.143262  \n4 -405.493732    18.545150  ",
      "text/html": "<div>\n<style scoped>\n    .dataframe tbody tr th:only-of-type {\n        vertical-align: middle;\n    }\n\n    .dataframe tbody tr th {\n        vertical-align: top;\n    }\n\n    .dataframe thead th {\n        text-align: right;\n    }\n</style>\n<table border=\"1\" class=\"dataframe\">\n  <thead>\n    <tr style=\"text-align: right;\">\n      <th></th>\n      <th>seriesuid</th>\n      <th>coordX</th>\n      <th>coordY</th>\n      <th>coordZ</th>\n      <th>diameter_mm</th>\n    </tr>\n  </thead>\n  <tbody>\n    <tr>\n      <th>0</th>\n      <td>1.3.6.1.4.1.14519.5.2.1.6279.6001.100225287222...</td>\n      <td>-128.699421</td>\n      <td>-175.319272</td>\n      <td>-298.387506</td>\n      <td>5.651471</td>\n    </tr>\n    <tr>\n      <th>1</th>\n      <td>1.3.6.1.4.1.14519.5.2.1.6279.6001.100225287222...</td>\n      <td>103.783651</td>\n      <td>-211.925149</td>\n      <td>-227.121250</td>\n      <td>4.224708</td>\n    </tr>\n    <tr>\n      <th>2</th>\n      <td>1.3.6.1.4.1.14519.5.2.1.6279.6001.100398138793...</td>\n      <td>69.639017</td>\n      <td>-140.944586</td>\n      <td>876.374496</td>\n      <td>5.786348</td>\n    </tr>\n    <tr>\n      <th>3</th>\n      <td>1.3.6.1.4.1.14519.5.2.1.6279.6001.100621383016...</td>\n      <td>-24.013824</td>\n      <td>192.102405</td>\n      <td>-391.081276</td>\n      <td>8.143262</td>\n    </tr>\n    <tr>\n      <th>4</th>\n      <td>1.3.6.1.4.1.14519.5.2.1.6279.6001.100621383016...</td>\n      <td>2.441547</td>\n      <td>172.464881</td>\n      <td>-405.493732</td>\n      <td>18.545150</td>\n    </tr>\n  </tbody>\n</table>\n</div>"
     },
     "execution_count": 43,
     "metadata": {},
     "output_type": "execute_result"
    }
   ],
   "source": [
    "annotations_path = \"../downloads/annotations.csv\"\n",
    "annotations_df = pd.read_csv(annotations_path, delimiter=\",\")\n",
    "annotations_df.head()"
   ],
   "metadata": {
    "collapsed": false
   }
  },
  {
   "cell_type": "code",
   "execution_count": 44,
   "outputs": [],
   "source": [
    "def read_detection_result():\n",
    "    detection_result_folder = \"../output/valresults/caltech/h/off\"\n",
    "\n",
    "    detection_dfs = {}\n",
    "    for epoch_id in tqdm(os.listdir(detection_result_folder), desc=\"test epoch\"):\n",
    "        current_folder_path = \"{}/{}\".format(detection_result_folder, epoch_id)\n",
    "\n",
    "        detection_dfs.setdefault(epoch_id, {})\n",
    "        for filename in os.listdir(current_folder_path):\n",
    "            series_id = filename[0:-4]\n",
    "            file = os.path.join(current_folder_path, filename)\n",
    "            result_df = pd.read_csv(file, delimiter=\" \", header=None)\n",
    "            result_df.columns = [\"z-index\", \"top_left_x\", \"top_left_y\", \"width\", \"height\", \"possibility\"]\n",
    "            detection_dfs.get(epoch_id).setdefault(series_id, result_df)\n",
    "\n",
    "    return detection_dfs"
   ],
   "metadata": {
    "collapsed": false
   }
  },
  {
   "cell_type": "code",
   "execution_count": 8,
   "outputs": [
    {
     "name": "stderr",
     "output_type": "stream",
     "text": [
      "test epoch: 100%|██████████| 58/58 [00:07<00:00,  7.91it/s]\n"
     ]
    }
   ],
   "source": [
    "test_detections = read_detection_result()"
   ],
   "metadata": {
    "collapsed": false
   }
  },
  {
   "cell_type": "code",
   "execution_count": 59,
   "outputs": [
    {
     "name": "stderr",
     "output_type": "stream",
     "text": [
      "epoch:   0%|          | 0/58 [00:00<?, ?it/s]"
     ]
    },
    {
     "name": "stdout",
     "output_type": "stream",
     "text": [
      "seriesuid      1.3.6.1.4.1.14519.5.2.1.6279.6001.102681962408...\n",
      "coordX                                                105.055792\n",
      "coordY                                                  19.82526\n",
      "coordZ                                                -91.247251\n",
      "diameter_mm                                            21.089619\n",
      "Name: 8, dtype: object\n",
      "-39.546349453125 89.032304453125 -92.0\n"
     ]
    },
    {
     "name": "stderr",
     "output_type": "stream",
     "text": [
      "\n"
     ]
    }
   ],
   "source": [
    "for epoch_id in tqdm(test_detections.keys(), desc=\"epoch\"):\n",
    "    epoch_test_result = test_detections[epoch_id]\n",
    "\n",
    "    hit_counter = 0\n",
    "\n",
    "    for series_id in epoch_test_result.keys():\n",
    "        mhd_info = mhd_info_df[mhd_info_df[\"series_id\"] == series_id].iloc[0]\n",
    "        origins = mhd_info[\"origins\"]\n",
    "        spacings = mhd_info[\"spacings\"]\n",
    "        is_flip = mhd_info[\"is_flip\"]\n",
    "\n",
    "        spacings = json.loads(spacings)\n",
    "        origins = json.loads(origins)\n",
    "\n",
    "        [z_spacing, y_spacing, x_spacing] = spacings\n",
    "        [z_origin, y_origin, x_origin] = origins\n",
    "\n",
    "        image_detections = epoch_test_result[series_id]\n",
    "        # image_detections[\"z-index\"] = image_detections[\"z-index\"]\n",
    "\n",
    "        total_number_of_detections = len(image_detections)\n",
    "\n",
    "        nodules = annotations_df[annotations_df[\"seriesuid\"] == series_id]\n",
    "\n",
    "        for _, nodule in nodules.iterrows():\n",
    "            print(nodule)\n",
    "            x = nodule[\"coordX\"]\n",
    "            y = nodule[\"coordY\"]\n",
    "            z = nodule[\"coordZ\"]\n",
    "            diameter = nodule[\"diameter_mm\"]\n",
    "\n",
    "            if diameter < 0:\n",
    "                diameter = 10\n",
    "\n",
    "            radius_squared = pow((diameter / 2), 2)\n",
    "\n",
    "            matched_detections = []\n",
    "\n",
    "            for _, detection in image_detections.iterrows():\n",
    "                x2 = detection[\"top_left_x\"]\n",
    "                y2 = detection[\"top_left_y\"]\n",
    "                z2 = detection[\"z-index\"]\n",
    "                w = detection[\"width\"]\n",
    "                h = detection[\"height\"]\n",
    "                p = detection[\"possibility\"]\n",
    "\n",
    "                x2 = x2 * x_spacing + x_origin\n",
    "                y2 = y2 * y_spacing + y_origin\n",
    "                z2 = z2 * z_spacing + z_origin\n",
    "\n",
    "                print(x2, y2, z2)\n",
    "                # dist = pow(x - x2, 2) + pow(y - y2, 2) + pow(z - z2, 2)\n",
    "                # if dist < radius_squared:\n",
    "                    # matched_detections.append(detection)\n",
    "\n",
    "                break\n",
    "            break\n",
    "\n",
    "\n",
    "\n",
    "        break\n",
    "    break"
   ],
   "metadata": {
    "collapsed": false
   }
  },
  {
   "cell_type": "code",
   "execution_count": null,
   "outputs": [],
   "source": [],
   "metadata": {
    "collapsed": false
   }
  },
  {
   "cell_type": "code",
   "execution_count": null,
   "outputs": [],
   "source": [],
   "metadata": {
    "collapsed": false
   }
  },
  {
   "cell_type": "code",
   "execution_count": null,
   "outputs": [],
   "source": [],
   "metadata": {
    "collapsed": false
   }
  },
  {
   "cell_type": "code",
   "execution_count": null,
   "outputs": [],
   "source": [
    "def evaluation():\n",
    "# dist = math.pow(x - x2, 2.) + math.pow(y - y2, 2.) + math.pow(z - z2, 2.)\n",
    "# if dist < radiusSquared:"
   ],
   "metadata": {
    "collapsed": false
   }
  }
 ],
 "metadata": {
  "kernelspec": {
   "display_name": "Python 3",
   "language": "python",
   "name": "python3"
  },
  "language_info": {
   "codemirror_mode": {
    "name": "ipython",
    "version": 2
   },
   "file_extension": ".py",
   "mimetype": "text/x-python",
   "name": "python",
   "nbconvert_exporter": "python",
   "pygments_lexer": "ipython2",
   "version": "2.7.6"
  }
 },
 "nbformat": 4,
 "nbformat_minor": 0
}
