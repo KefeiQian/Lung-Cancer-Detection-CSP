{
 "cells": [
  {
   "cell_type": "code",
   "execution_count": 1,
   "metadata": {
    "collapsed": true
   },
   "outputs": [],
   "source": [
    "import os\n",
    "import pickle\n",
    "import re\n",
    "\n",
    "import numpy as np\n",
    "import pandas as pd\n",
    "from tqdm import tqdm\n",
    "import SimpleITK as sitk\n",
    "import matplotlib.pyplot as plt"
   ]
  },
  {
   "cell_type": "code",
   "execution_count": 2,
   "outputs": [],
   "source": [
    "image_width = 512\n",
    "image_height = 512\n",
    "\n",
    "output_folder = \"output/\"\n",
    "work_data_folder = \"data/\"\n",
    "ground_truth_csv_path = \"data/ground_truth.csv\"\n",
    "detection_pickle_path = \"data/detection.pkl\"\n",
    "\n",
    "for folder in [output_folder, work_data_folder]:\n",
    "    if not os.path.exists(folder):\n",
    "        os.makedirs(folder)\n"
   ],
   "metadata": {
    "collapsed": false
   }
  },
  {
   "cell_type": "code",
   "execution_count": 3,
   "outputs": [],
   "source": [
    "def read_detection_result():\n",
    "    if os.path.exists(detection_pickle_path):\n",
    "        detection_dfs = pickle.load(open(detection_pickle_path, 'rb'))\n",
    "        return detection_dfs\n",
    "\n",
    "    detection_result_folder = \"../output/valresults/caltech/h/off\"\n",
    "\n",
    "    detection_dfs = {}\n",
    "    for epoch_id in tqdm(range(51, 121), desc=\"test epoch\"):\n",
    "        folder_name = \"0{}\".format(epoch_id) if epoch_id < 100 else str(epoch_id)\n",
    "        current_folder_path = \"{}/{}\".format(detection_result_folder, folder_name)\n",
    "        current_folder_files = os.listdir(current_folder_path)\n",
    "\n",
    "        detection_dfs.setdefault(epoch_id, {})\n",
    "        for filename in current_folder_files:\n",
    "            series_id = filename[0:-4]\n",
    "            file = os.path.join(current_folder_path, filename)\n",
    "            try:\n",
    "                result_df = pd.read_csv(file, delimiter=\" \", header=None)\n",
    "                result_df.columns = [\"z-index\", \"top_left_x\", \"top_left_y\", \"width\", \"height\", \"possibility\"]\n",
    "                # result_df[\"z_index\"] = result_df['z_index'].astype('int')\n",
    "            except Exception as e:\n",
    "                # print(epoch_id, series_id)\n",
    "                result_df = pd.DataFrame([], columns=[\"z-index\", \"top_left_x\", \"top_left_y\", \"width\", \"height\",\n",
    "                                                      \"possibility\"])\n",
    "\n",
    "            detection_dfs.get(epoch_id).setdefault(series_id, result_df)\n",
    "\n",
    "    pickle.dump(detection_dfs, open(detection_pickle_path, 'wb'))\n",
    "\n",
    "    return detection_dfs\n"
   ],
   "metadata": {
    "collapsed": false
   }
  },
  {
   "cell_type": "code",
   "execution_count": 19,
   "outputs": [],
   "source": [
    "def world_to_voxel_coord(world_coord, origin, spacing):\n",
    "    stretched_voxel_coord = np.absolute(world_coord - origin)\n",
    "    voxel_coord = stretched_voxel_coord / spacing\n",
    "    return voxel_coord\n",
    "\n",
    "\n",
    "def read_ground_truth_data():\n",
    "    if os.path.exists(ground_truth_csv_path):\n",
    "        annotations_world_coord = pd.read_csv(ground_truth_csv_path)\n",
    "        return annotations_world_coord\n",
    "\n",
    "    annotations_path = \"../downloads/annotations.csv\"\n",
    "    annotations_df = pd.read_csv(annotations_path, delimiter=\",\")\n",
    "    series_uids = set(annotations_df[\"seriesuid\"].values)\n",
    "\n",
    "    parsed_annotations = []\n",
    "\n",
    "    for subset_id in tqdm(range(0, 10), desc=\"subset\"):\n",
    "        download_data_folder = \"../downloads/data\"\n",
    "        data_folder = os.listdir(\"{}/subset{}\".format(download_data_folder, subset_id))\n",
    "\n",
    "        for file in data_folder:\n",
    "            if file.endswith(\".mhd\"):\n",
    "                series_id = re.search(r'(.*)\\.mhd', file).group(1)\n",
    "\n",
    "                if series_id in series_uids:\n",
    "                    mhd_file_path = \"{}/subset{}/{}.mhd\".format(download_data_folder, subset_id, series_id)\n",
    "                    itk_image = sitk.ReadImage(mhd_file_path, sitk.sitkFloat32)\n",
    "\n",
    "                    origins = np.array(list(reversed(itk_image.GetOrigin())))\n",
    "                    spacings = np.array(list(reversed(itk_image.GetSpacing())))\n",
    "\n",
    "                    current_annotations = annotations_df[annotations_df[\"seriesuid\"] == series_id]\n",
    "\n",
    "                    direction = itk_image.GetDirection()\n",
    "                    direction = np.array(list(map(lambda x: round(x), direction)))\n",
    "\n",
    "                    if np.any(direction != np.array([1, 0, 0, 0, 1, 0, 0, 0, 1])):\n",
    "                        is_flip = True\n",
    "                    else:\n",
    "                        is_flip = False\n",
    "\n",
    "                    for index, row in current_annotations.iterrows():\n",
    "                        world_x = row[\"coordX\"]\n",
    "                        world_y = row[\"coordY\"]\n",
    "                        world_z = row[\"coordZ\"]\n",
    "                        d = row[\"diameter_mm\"]\n",
    "\n",
    "                        world_coord = np.array([float(world_z), float(world_y), float(world_x)])\n",
    "                        voxel_coord = world_to_voxel_coord(world_coord, origins, spacings).astype(int)\n",
    "\n",
    "                        voxel_z, voxel_y, voxel_x = voxel_coord\n",
    "                        if is_flip:\n",
    "                            voxel_x = 512 - voxel_x\n",
    "                            voxel_y = 512 - voxel_y\n",
    "\n",
    "                        diameter = int(d / spacings[2])\n",
    "\n",
    "                        annotation = [series_id,\n",
    "                                      voxel_z,\n",
    "                                      max(voxel_x, 0),\n",
    "                                      max(voxel_y, 0),\n",
    "                                      min(voxel_x + diameter, image_width - 1),\n",
    "                                      min(voxel_y + diameter, image_height - 1),\n",
    "                                      ]\n",
    "                        parsed_annotations.append(annotation)\n",
    "\n",
    "    annotations_world_coord = pd.DataFrame(parsed_annotations)\n",
    "    annotations_world_coord.columns = [\"series_id\", \"z-index\", \"top_left_x\", \"top_left_y\", \"bottom_right_x\",\n",
    "                                       \"bottom_right_y\"]\n",
    "    annotations_world_coord[\"width\"] = annotations_world_coord[\"bottom_right_x\"] - annotations_world_coord[\"top_left_x\"]\n",
    "    annotations_world_coord[\"height\"] = annotations_world_coord[\"bottom_right_y\"] - annotations_world_coord[\n",
    "        \"top_left_y\"]\n",
    "    annotations_world_coord[\"area\"] = annotations_world_coord[\"width\"] * annotations_world_coord[\"height\"]\n",
    "    annotations_world_coord.set_index(\"series_id\", inplace=True)\n",
    "\n",
    "    annotations_world_coord.to_csv(ground_truth_csv_path)\n",
    "    annotations_world_coord.reset_index(inplace=True)\n",
    "\n",
    "    return annotations_world_coord"
   ],
   "metadata": {
    "collapsed": false
   }
  },
  {
   "cell_type": "code",
   "execution_count": 12,
   "outputs": [],
   "source": [
    "detections = read_detection_result()\n",
    "# detections"
   ],
   "metadata": {
    "collapsed": false
   }
  },
  {
   "cell_type": "code",
   "execution_count": 20,
   "outputs": [
    {
     "data": {
      "text/plain": "                                              series_id  z-index  top_left_x  \\\n0     1.3.6.1.4.1.14519.5.2.1.6279.6001.108197895896...       32         110   \n1     1.3.6.1.4.1.14519.5.2.1.6279.6001.109002525524...       68         426   \n2     1.3.6.1.4.1.14519.5.2.1.6279.6001.109002525524...       56         408   \n3     1.3.6.1.4.1.14519.5.2.1.6279.6001.111172165674...      186         427   \n4     1.3.6.1.4.1.14519.5.2.1.6279.6001.124154461048...       40         457   \n...                                                 ...      ...         ...   \n1181  1.3.6.1.4.1.14519.5.2.1.6279.6001.765459236550...      240         326   \n1182  1.3.6.1.4.1.14519.5.2.1.6279.6001.765930210026...      101         167   \n1183  1.3.6.1.4.1.14519.5.2.1.6279.6001.765930210026...      247         361   \n1184  1.3.6.1.4.1.14519.5.2.1.6279.6001.771741891125...      132         406   \n1185  1.3.6.1.4.1.14519.5.2.1.6279.6001.946129570505...      159         429   \n\n      top_left_y  bottom_right_x  bottom_right_y  width  height  area  \n0            346             118             354      8       8    64  \n1            285             450             309     24      24   576  \n2            337             415             344      7       7    49  \n3            351             433             357      6       6    36  \n4            228             465             236      8       8    64  \n...          ...             ...             ...    ...     ...   ...  \n1181         357             338             369     12      12   144  \n1182         334             192             359     25      25   625  \n1183         318             367             324      6       6    36  \n1184         317             413             324      7       7    49  \n1185         152             444             167     15      15   225  \n\n[1186 rows x 9 columns]",
      "text/html": "<div>\n<style scoped>\n    .dataframe tbody tr th:only-of-type {\n        vertical-align: middle;\n    }\n\n    .dataframe tbody tr th {\n        vertical-align: top;\n    }\n\n    .dataframe thead th {\n        text-align: right;\n    }\n</style>\n<table border=\"1\" class=\"dataframe\">\n  <thead>\n    <tr style=\"text-align: right;\">\n      <th></th>\n      <th>series_id</th>\n      <th>z-index</th>\n      <th>top_left_x</th>\n      <th>top_left_y</th>\n      <th>bottom_right_x</th>\n      <th>bottom_right_y</th>\n      <th>width</th>\n      <th>height</th>\n      <th>area</th>\n    </tr>\n  </thead>\n  <tbody>\n    <tr>\n      <th>0</th>\n      <td>1.3.6.1.4.1.14519.5.2.1.6279.6001.108197895896...</td>\n      <td>32</td>\n      <td>110</td>\n      <td>346</td>\n      <td>118</td>\n      <td>354</td>\n      <td>8</td>\n      <td>8</td>\n      <td>64</td>\n    </tr>\n    <tr>\n      <th>1</th>\n      <td>1.3.6.1.4.1.14519.5.2.1.6279.6001.109002525524...</td>\n      <td>68</td>\n      <td>426</td>\n      <td>285</td>\n      <td>450</td>\n      <td>309</td>\n      <td>24</td>\n      <td>24</td>\n      <td>576</td>\n    </tr>\n    <tr>\n      <th>2</th>\n      <td>1.3.6.1.4.1.14519.5.2.1.6279.6001.109002525524...</td>\n      <td>56</td>\n      <td>408</td>\n      <td>337</td>\n      <td>415</td>\n      <td>344</td>\n      <td>7</td>\n      <td>7</td>\n      <td>49</td>\n    </tr>\n    <tr>\n      <th>3</th>\n      <td>1.3.6.1.4.1.14519.5.2.1.6279.6001.111172165674...</td>\n      <td>186</td>\n      <td>427</td>\n      <td>351</td>\n      <td>433</td>\n      <td>357</td>\n      <td>6</td>\n      <td>6</td>\n      <td>36</td>\n    </tr>\n    <tr>\n      <th>4</th>\n      <td>1.3.6.1.4.1.14519.5.2.1.6279.6001.124154461048...</td>\n      <td>40</td>\n      <td>457</td>\n      <td>228</td>\n      <td>465</td>\n      <td>236</td>\n      <td>8</td>\n      <td>8</td>\n      <td>64</td>\n    </tr>\n    <tr>\n      <th>...</th>\n      <td>...</td>\n      <td>...</td>\n      <td>...</td>\n      <td>...</td>\n      <td>...</td>\n      <td>...</td>\n      <td>...</td>\n      <td>...</td>\n      <td>...</td>\n    </tr>\n    <tr>\n      <th>1181</th>\n      <td>1.3.6.1.4.1.14519.5.2.1.6279.6001.765459236550...</td>\n      <td>240</td>\n      <td>326</td>\n      <td>357</td>\n      <td>338</td>\n      <td>369</td>\n      <td>12</td>\n      <td>12</td>\n      <td>144</td>\n    </tr>\n    <tr>\n      <th>1182</th>\n      <td>1.3.6.1.4.1.14519.5.2.1.6279.6001.765930210026...</td>\n      <td>101</td>\n      <td>167</td>\n      <td>334</td>\n      <td>192</td>\n      <td>359</td>\n      <td>25</td>\n      <td>25</td>\n      <td>625</td>\n    </tr>\n    <tr>\n      <th>1183</th>\n      <td>1.3.6.1.4.1.14519.5.2.1.6279.6001.765930210026...</td>\n      <td>247</td>\n      <td>361</td>\n      <td>318</td>\n      <td>367</td>\n      <td>324</td>\n      <td>6</td>\n      <td>6</td>\n      <td>36</td>\n    </tr>\n    <tr>\n      <th>1184</th>\n      <td>1.3.6.1.4.1.14519.5.2.1.6279.6001.771741891125...</td>\n      <td>132</td>\n      <td>406</td>\n      <td>317</td>\n      <td>413</td>\n      <td>324</td>\n      <td>7</td>\n      <td>7</td>\n      <td>49</td>\n    </tr>\n    <tr>\n      <th>1185</th>\n      <td>1.3.6.1.4.1.14519.5.2.1.6279.6001.946129570505...</td>\n      <td>159</td>\n      <td>429</td>\n      <td>152</td>\n      <td>444</td>\n      <td>167</td>\n      <td>15</td>\n      <td>15</td>\n      <td>225</td>\n    </tr>\n  </tbody>\n</table>\n<p>1186 rows × 9 columns</p>\n</div>"
     },
     "execution_count": 20,
     "metadata": {},
     "output_type": "execute_result"
    }
   ],
   "source": [
    "annotations = read_ground_truth_data()\n",
    "annotations"
   ],
   "metadata": {
    "collapsed": false
   }
  },
  {
   "cell_type": "code",
   "execution_count": 21,
   "outputs": [],
   "source": [
    "def compute_overlap_area_ratio(nodule, candidate):\n",
    "    overlap_width = min(candidate[\"bottom_right_x\"], nodule[\"bottom_right_x\"]) - max(candidate[\"top_left_x\"],\n",
    "                                                                                     nodule[\"top_left_x\"])\n",
    "    if overlap_width <= 0:\n",
    "        return 0\n",
    "    overlap_height = min(candidate[\"bottom_right_y\"], nodule[\"bottom_right_y\"]) - max(candidate[\"top_left_y\"],\n",
    "                                                                                      nodule[\"top_left_y\"])\n",
    "    if overlap_height <= 0:\n",
    "        return 0\n",
    "    overlap_area = overlap_width * overlap_height\n",
    "    total_area = candidate[\"area\"] + nodule[\"area\"] - overlap_area\n",
    "\n",
    "    overlap_ratio = overlap_area / total_area\n",
    "    return overlap_ratio\n"
   ],
   "metadata": {
    "collapsed": false
   }
  },
  {
   "cell_type": "code",
   "execution_count": 23,
   "outputs": [],
   "source": [
    "miss_rate_x = range(51, 51 + len(detections.keys()))\n",
    "miss_rate_y = []\n",
    "\n",
    "threshold = 0.5\n",
    "gap = 5\n",
    "\n",
    "for epoch in detections.keys():\n",
    "    epoch_result = detections[epoch]\n",
    "    number_of_test = 0\n",
    "    counter = 0\n",
    "    for series_id in epoch_result.keys():\n",
    "        detection = epoch_result[series_id]\n",
    "        detection[\"z-index\"] = detection[\"z-index\"].astype(\"int\")\n",
    "        detection[\"bottom_right_x\"] = detection[\"top_left_x\"] + detection[\"height\"]\n",
    "        detection[\"bottom_right_y\"] = detection[\"top_left_y\"] + detection[\"height\"]\n",
    "        detection[\"area\"] = detection[\"height\"] * detection[\"height\"]\n",
    "        nodules = annotations[annotations[\"series_id\"] == series_id]\n",
    "\n",
    "        for i, nodule in nodules.iterrows():\n",
    "            nodule_z = nodule[\"z-index\"]\n",
    "            max_ratio = 0\n",
    "            best_detection = -1\n",
    "            best_candidate = pd.DataFrame()\n",
    "            number_of_test += 1\n",
    "\n",
    "            for j, candidate in detection[\n",
    "                (detection['z-index'] >= (nodule_z - gap) & (detection['z-index'] <= (nodule_z + gap)))].iterrows():\n",
    "                ratio = compute_overlap_area_ratio(nodule, candidate)\n",
    "                if ratio >= threshold:\n",
    "                    best_detection = j\n",
    "                    best_candidate = candidate[[\"z-index\", \"top_left_x\", \"top_left_y\", \"width\", \"height\"]]\n",
    "                    max_ratio = ratio\n",
    "\n",
    "            if best_detection != -1:\n",
    "                counter += 1\n",
    "\n",
    "            annotations.loc[i, \"best_detection\"] = best_detection\n",
    "            annotations.loc[i, \"best_candidate\"] = best_candidate.to_string()\n",
    "            annotations.loc[i, \"best_overlap_ratio\"] = max_ratio\n",
    "\n",
    "    miss_rate = counter / number_of_test\n",
    "    miss_rate_y.append(miss_rate)\n",
    "    annotations[annotations[\"best_detection\"].notnull()].to_csv(\"output/{}.csv\".format(epoch))\n"
   ],
   "metadata": {
    "collapsed": false
   }
  },
  {
   "cell_type": "code",
   "execution_count": 24,
   "outputs": [
    {
     "data": {
      "text/plain": "[0.2857142857142857,\n 0.29523809523809524,\n 0.2761904761904762,\n 0.2761904761904762,\n 0.29523809523809524,\n 0.29523809523809524,\n 0.2857142857142857,\n 0.2857142857142857,\n 0.29523809523809524,\n 0.2857142857142857,\n 0.2761904761904762,\n 0.2857142857142857,\n 0.2857142857142857,\n 0.29523809523809524,\n 0.29523809523809524,\n 0.2857142857142857,\n 0.2857142857142857,\n 0.26666666666666666,\n 0.26666666666666666,\n 0.2857142857142857,\n 0.2761904761904762,\n 0.2857142857142857,\n 0.2857142857142857,\n 0.29523809523809524,\n 0.29523809523809524,\n 0.29523809523809524,\n 0.3047619047619048,\n 0.29523809523809524,\n 0.3047619047619048,\n 0.3047619047619048,\n 0.29523809523809524,\n 0.29523809523809524,\n 0.29523809523809524,\n 0.29523809523809524,\n 0.29523809523809524,\n 0.29523809523809524,\n 0.29523809523809524,\n 0.29523809523809524,\n 0.29523809523809524,\n 0.29523809523809524,\n 0.2857142857142857,\n 0.2857142857142857,\n 0.2761904761904762,\n 0.2761904761904762,\n 0.26666666666666666,\n 0.2761904761904762,\n 0.29523809523809524,\n 0.2857142857142857,\n 0.26666666666666666,\n 0.2571428571428571,\n 0.2571428571428571,\n 0.26666666666666666,\n 0.2571428571428571,\n 0.2571428571428571,\n 0.26666666666666666,\n 0.2571428571428571,\n 0.24761904761904763,\n 0.2571428571428571,\n 0.2571428571428571,\n 0.24761904761904763,\n 0.24761904761904763,\n 0.24761904761904763,\n 0.24761904761904763,\n 0.23809523809523808,\n 0.23809523809523808,\n 0.24761904761904763,\n 0.24761904761904763,\n 0.2571428571428571,\n 0.2571428571428571,\n 0.2571428571428571]"
     },
     "execution_count": 24,
     "metadata": {},
     "output_type": "execute_result"
    }
   ],
   "source": [
    "miss_rate_y"
   ],
   "metadata": {
    "collapsed": false
   }
  },
  {
   "cell_type": "code",
   "execution_count": 25,
   "outputs": [
    {
     "data": {
      "text/plain": "[<matplotlib.lines.Line2D at 0x1a41a22c070>]"
     },
     "execution_count": 25,
     "metadata": {},
     "output_type": "execute_result"
    },
    {
     "data": {
      "text/plain": "<Figure size 640x480 with 1 Axes>",
      "image/png": "[encoded data removed]"
     },
     "metadata": {},
     "output_type": "display_data"
    }
   ],
   "source": [
    "plt.plot(miss_rate_x, miss_rate_y, label='MR')"
   ],
   "metadata": {
    "collapsed": false
   }
  },
  {
   "cell_type": "code",
   "execution_count": 26,
   "outputs": [
    {
     "data": {
      "text/plain": "[0.2857142857142857,\n 0.29523809523809524,\n 0.2761904761904762,\n 0.2761904761904762,\n 0.29523809523809524,\n 0.29523809523809524,\n 0.2857142857142857,\n 0.2857142857142857,\n 0.29523809523809524,\n 0.2857142857142857,\n 0.2761904761904762,\n 0.2857142857142857,\n 0.2857142857142857,\n 0.29523809523809524,\n 0.29523809523809524,\n 0.2857142857142857,\n 0.2857142857142857,\n 0.26666666666666666,\n 0.26666666666666666,\n 0.2857142857142857,\n 0.2761904761904762,\n 0.2857142857142857,\n 0.2857142857142857,\n 0.29523809523809524,\n 0.29523809523809524,\n 0.29523809523809524,\n 0.3047619047619048,\n 0.29523809523809524,\n 0.3047619047619048,\n 0.3047619047619048,\n 0.29523809523809524,\n 0.29523809523809524,\n 0.29523809523809524,\n 0.29523809523809524,\n 0.29523809523809524,\n 0.29523809523809524,\n 0.29523809523809524,\n 0.29523809523809524,\n 0.29523809523809524,\n 0.29523809523809524,\n 0.2857142857142857,\n 0.2857142857142857,\n 0.2761904761904762,\n 0.2761904761904762,\n 0.26666666666666666,\n 0.2761904761904762,\n 0.29523809523809524,\n 0.2857142857142857,\n 0.26666666666666666,\n 0.2571428571428571,\n 0.2571428571428571,\n 0.26666666666666666,\n 0.2571428571428571,\n 0.2571428571428571,\n 0.26666666666666666,\n 0.2571428571428571,\n 0.24761904761904763,\n 0.2571428571428571,\n 0.2571428571428571,\n 0.24761904761904763,\n 0.24761904761904763,\n 0.24761904761904763,\n 0.24761904761904763,\n 0.23809523809523808,\n 0.23809523809523808,\n 0.24761904761904763,\n 0.24761904761904763,\n 0.2571428571428571,\n 0.2571428571428571,\n 0.2571428571428571]"
     },
     "execution_count": 26,
     "metadata": {},
     "output_type": "execute_result"
    }
   ],
   "source": [
    "miss_rate_y"
   ],
   "metadata": {
    "collapsed": false
   }
  },
  {
   "cell_type": "code",
   "execution_count": null,
   "outputs": [],
   "source": [],
   "metadata": {
    "collapsed": false
   }
  },
  {
   "cell_type": "code",
   "execution_count": null,
   "outputs": [],
   "source": [],
   "metadata": {
    "collapsed": false
   }
  }
 ],
 "metadata": {
  "kernelspec": {
   "display_name": "Python 3",
   "language": "python",
   "name": "python3"
  },
  "language_info": {
   "codemirror_mode": {
    "name": "ipython",
    "version": 2
   },
   "file_extension": ".py",
   "mimetype": "text/x-python",
   "name": "python",
   "nbconvert_exporter": "python",
   "pygments_lexer": "ipython2",
   "version": "2.7.6"
  }
 },
 "nbformat": 4,
 "nbformat_minor": 0
}
