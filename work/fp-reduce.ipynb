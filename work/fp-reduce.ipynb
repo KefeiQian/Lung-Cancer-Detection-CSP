{
 "cells": [
  {
   "cell_type": "code",
   "execution_count": null,
   "metadata": {},
   "outputs": [],
   "source": [
    "\n",
    "import json\n",
    "import os\n",
    "from math import sqrt\n",
    "from tqdm import tqdm\n",
    "import pandas as pd\n"
   ]
  },
  {
   "cell_type": "code",
   "execution_count": null,
   "metadata": {},
   "outputs": [],
   "source": [
    "image_size = (512, 512)"
   ]
  },
  {
   "cell_type": "code",
   "execution_count": null,
   "metadata": {},
   "outputs": [],
   "source": [
    "mhd_info_csv_path = \"data/mhd_info.csv\"\n",
    "mhd_info_df = pd.read_csv(mhd_info_csv_path)\n",
    "mhd_info_df.head()"
   ]
  },
  {
   "cell_type": "code",
   "execution_count": null,
   "metadata": {},
   "outputs": [],
   "source": [
    "def read_detection_result(test_subset_id, threshold=0.1):\n",
    "    current_folder_path = \"../output-ss{}/valresults/fp-reduce\".format(test_subset_id)\n",
    "\n",
    "    detection_dfs = {}\n",
    "\n",
    "    for filename in os.listdir(current_folder_path):\n",
    "        series_id = filename[0:-4]\n",
    "        file = os.path.join(current_folder_path, filename)\n",
    "        try:\n",
    "            result_df = pd.read_csv(file, delimiter=\" \", header=None)\n",
    "            result_df.columns = [\"z-index\", \"top_left_x\", \"top_left_y\", \"width\", \"height\", \"probability\"]\n",
    "            result_df = result_df[result_df[\"probability\"] > threshold].sort_values(by=\"probability\", ascending=False)\n",
    "            print(result_df.drop_duplicates(subset=\"z-index\"))\n",
    "            detection_dfs.setdefault(series_id, result_df)\n",
    "        except Exception:\n",
    "            # print(epoch_id, filename, \"skipped\")\n",
    "            empty_df = pd.DataFrame()\n",
    "            detection_dfs.setdefault(series_id, empty_df)\n",
    "        break\n",
    "\n",
    "    return detection_dfs\n",
    "\n",
    "a = read_detection_result(0, 0.2)"
   ]
  },
  {
   "cell_type": "code",
   "execution_count": null,
   "metadata": {},
   "outputs": [],
   "source": [
    "def restore_coord(x, y, z, w, h, spacings, origins, is_flip):\n",
    "    [z_spacing, y_spacing, x_spacing] = spacings\n",
    "    [z_origin, y_origin, x_origin] = origins\n",
    "\n",
    "    x = x + w / 2\n",
    "    y = y + h / 2\n",
    "\n",
    "    if is_flip:\n",
    "        x = image_size[0] - x\n",
    "        y = image_size[1] - y\n",
    "\n",
    "    x = x * x_spacing + x_origin\n",
    "    y = y * y_spacing + y_origin\n",
    "    z = z * z_spacing + z_origin\n",
    "    w = w * x_spacing\n",
    "    h = h * y_spacing\n",
    "\n",
    "    return x, y, z, w, h"
   ]
  },
  {
   "cell_type": "code",
   "execution_count": null,
   "metadata": {},
   "outputs": [],
   "source": [
    "def combine_result(test_subset_id, detections):\n",
    "    for series_id in tqdm(detections.keys(), desc=\"subset {} series\".format(test_subset_id)):\n",
    "        mhd_info = mhd_info_df[mhd_info_df[\"series_id\"] == series_id].iloc[0]\n",
    "        origins = mhd_info[\"origins\"]\n",
    "        spacings = mhd_info[\"spacings\"]\n",
    "        is_flip = mhd_info[\"is_flip\"]\n",
    "\n",
    "        spacings = json.loads(spacings)\n",
    "        origins = json.loads(origins)\n",
    "\n",
    "        t = test_detections[series_id]\n",
    "        t = t.to_records()\n",
    "\n",
    "        used = {}\n",
    "        group = {}\n",
    "        for i in range(0, len(t)):\n",
    "            if used.get(i, 0) == 1:\n",
    "                continue\n",
    "            x1 = t[i][2]\n",
    "            y1 = t[i][3]\n",
    "            z1 = t[i][1]\n",
    "            w1 = t[i][4]\n",
    "            h1 = t[i][5]\n",
    "\n",
    "            x1, y1, z1, w1, h1 = restore_coord(x1, y1, z1, w1, h1, spacings, origins, is_flip)\n",
    "\n",
    "            group.setdefault(i, [])\n",
    "            used[i] = 1\n",
    "\n",
    "            for j in range(i + 1, len(t)):\n",
    "                if used.get(j, 0) == 1:\n",
    "                    continue\n",
    "\n",
    "                x2 = t[j][2]\n",
    "                y2 = t[j][3]\n",
    "                z2 = t[j][1]\n",
    "                w2 = t[j][4]\n",
    "                h2 = t[j][5]\n",
    "\n",
    "                x2, y2, z2, w2, h2 = restore_coord(x2, y2, z2, w2, h2, spacings, origins, is_flip)\n",
    "\n",
    "                dist = sqrt(pow(x1 - x2, 2) + pow(y1 - y2, 2) + pow(z1 - z2, 2))\n",
    "\n",
    "                if dist < 0.5 * (0.5 * (w1 + w2) + 0.5 * (h1 + h2)):\n",
    "                    used[j] = 1\n",
    "                    group[i].append(j)\n",
    "\n",
    "        for k in group.keys():\n",
    "            x = 0\n",
    "            y = 0\n",
    "            z = 0\n",
    "            w = 0\n",
    "            h = 0\n",
    "            p = 0\n",
    "\n",
    "            x += t[k][2]\n",
    "            y += t[k][3]\n",
    "            z += t[k][1]\n",
    "            w += t[k][4]\n",
    "            h += t[k][5]\n",
    "            p = max(p, t[k][6])\n",
    "\n",
    "            if len(group[k]) != 0:\n",
    "                for l in group[k]:\n",
    "                    x += t[l][2]\n",
    "                    y += t[l][3]\n",
    "                    z += t[l][1]\n",
    "                    w += t[l][4]\n",
    "                    h += t[l][5]\n",
    "                    p = max(p, t[l][6])\n",
    "\n",
    "                x /= len(group[k]) + 1\n",
    "                y /= len(group[k]) + 1\n",
    "                z /= len(group[k]) + 1\n",
    "                w /= len(group[k]) + 1\n",
    "                h /= len(group[k]) + 1\n",
    "\n",
    "            x, y, z, w, h = restore_coord(x, y, z, w, h, spacings, origins, is_flip)\n",
    "\n",
    "            result.append((series_id, x, y, z, p))"
   ]
  },
  {
   "cell_type": "code",
   "execution_count": null,
   "metadata": {},
   "outputs": [],
   "source": [
    "result = []\n",
    "threshold = 0.02\n",
    "\n",
    "for subset in tqdm(range(0, 10), desc=\"subset\"):\n",
    "    test_detections = read_detection_result(subset, threshold)\n",
    "    combine_result(subset, test_detections)"
   ]
  },
  {
   "cell_type": "code",
   "execution_count": null,
   "metadata": {},
   "outputs": [],
   "source": [
    "result_df = pd.DataFrame(result)\n",
    "result_df.columns = [\"seriesuid\", \"coordX\", \"coordY\", \"coordZ\", \"probability\"]\n",
    "result_df.set_index(\"seriesuid\", inplace=True)\n",
    "result_df.head()"
   ]
  },
  {
   "cell_type": "code",
   "execution_count": null,
   "metadata": {},
   "outputs": [],
   "source": [
    "len(result_df)"
   ]
  },
  {
   "cell_type": "code",
   "execution_count": null,
   "metadata": {},
   "outputs": [],
   "source": [
    "result_df.to_csv(\"submission.csv\")"
   ]
  },
  {
   "cell_type": "code",
   "execution_count": null,
   "metadata": {},
   "outputs": [],
   "source": []
  }
 ],
 "metadata": {
  "kernelspec": {
   "display_name": "Python 3",
   "language": "python",
   "name": "python3"
  },
  "language_info": {
   "codemirror_mode": {
    "name": "ipython",
    "version": 2
   },
   "file_extension": ".py",
   "mimetype": "text/x-python",
   "name": "python",
   "nbconvert_exporter": "python",
   "pygments_lexer": "ipython2",
   "version": "2.7.6"
  }
 },
 "nbformat": 4,
 "nbformat_minor": 0
}
