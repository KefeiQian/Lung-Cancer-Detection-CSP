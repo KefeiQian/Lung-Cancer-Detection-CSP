{
 "cells": [
  {
   "cell_type": "markdown",
   "metadata": {},
   "source": []
  },
  {
   "cell_type": "code",
   "execution_count": 157,
   "metadata": {
    "collapsed": true
   },
   "outputs": [],
   "source": [
    "import os\n",
    "import pickle\n",
    "import re\n",
    "\n",
    "import matplotlib.pyplot as plt\n",
    "import numpy as np\n",
    "import pandas as pd\n",
    "import SimpleITK as sitk\n",
    "from tqdm import tqdm\n",
    "\n",
    "import cv2"
   ]
  },
  {
   "cell_type": "code",
   "execution_count": 158,
   "outputs": [],
   "source": [
    "test_subset_id = 9"
   ],
   "metadata": {
    "collapsed": false
   }
  },
  {
   "cell_type": "code",
   "execution_count": 159,
   "metadata": {
    "collapsed": false
   },
   "outputs": [],
   "source": [
    "download_folder = \"../downloads\"\n",
    "download_data_folder = \"../downloads/data\"\n",
    "download_mask_folder = \"../downloads/seg-lungs-LUNA16\"\n",
    "\n",
    "output_nodules_folder = \"output/nodules\"\n",
    "\n",
    "data_image_folder = \"../data/images\"\n",
    "\n",
    "gt_cache_path = \"../data/cache/train_gt\"\n",
    "no_gt_cache_path = \"../data/cache/train_no_gt\"\n",
    "test_cache_path = \"../data/cache/test\"\n"
   ]
  },
  {
   "cell_type": "code",
   "execution_count": 160,
   "outputs": [],
   "source": [
    "for p in [output_nodules_folder, data_image_folder]:\n",
    "    if not os.path.exists(p):\n",
    "        os.makedirs(p)"
   ],
   "metadata": {
    "collapsed": false
   }
  },
  {
   "cell_type": "code",
   "execution_count": 161,
   "outputs": [],
   "source": [
    "image_data_gt, image_data_no_gt, image_data_test, all_image_data = [], [], [],[]"
   ],
   "metadata": {
    "collapsed": false
   }
  },
  {
   "cell_type": "code",
   "execution_count": 162,
   "outputs": [],
   "source": [
    "image_size = (512, 512)"
   ],
   "metadata": {
    "collapsed": false
   }
  },
  {
   "cell_type": "code",
   "execution_count": 163,
   "outputs": [],
   "source": [
    "annotations_path = \"../downloads/annotations.csv\"\n",
    "annotations_df = pd.read_csv(annotations_path, delimiter=\",\")"
   ],
   "metadata": {
    "collapsed": false
   }
  },
  {
   "cell_type": "code",
   "execution_count": 164,
   "outputs": [
    {
     "data": {
      "text/plain": "<Figure size 512x512 with 0 Axes>"
     },
     "metadata": {},
     "output_type": "display_data"
    }
   ],
   "source": [
    "px = 1 / plt.rcParams['figure.dpi']\n",
    "plt.figure(figsize=(image_size[0] * px, image_size[1] * px))\n",
    "plt.subplots_adjust(0, 0, 1, 1, 0, 0)\n",
    "\n",
    "def show_image(image):\n",
    "    plt.imshow(image)\n",
    "    plt.gray()\n",
    "    plt.axis('off')\n",
    "    plt.show()"
   ],
   "metadata": {
    "collapsed": false
   }
  },
  {
   "cell_type": "code",
   "execution_count": 165,
   "metadata": {
    "collapsed": false
   },
   "outputs": [],
   "source": [
    "def normalize(image):\n",
    "    image[image > 400] = 400\n",
    "    image[image < -1000] = -1000\n",
    "\n",
    "    max_hu = image.max()\n",
    "    min_hu = image.min()\n",
    "    image = (image - min_hu) / (max_hu - min_hu) * 255\n",
    "    image = np.round(image)\n",
    "    return image"
   ]
  },
  {
   "cell_type": "code",
   "execution_count": 166,
   "outputs": [],
   "source": [
    "def world_to_voxel_coord(world_coord, origin, spacing):\n",
    "    stretched_voxel_coord = np.absolute(world_coord - origin)\n",
    "    voxel_coord = stretched_voxel_coord / spacing\n",
    "    return voxel_coord"
   ],
   "metadata": {
    "collapsed": false
   }
  },
  {
   "cell_type": "code",
   "execution_count": 167,
   "outputs": [],
   "source": [
    "def extract_annotations(series_id, origins, spacings, is_flip):\n",
    "    annotations = annotations_df[annotations_df[\"seriesuid\"] == series_id]\n",
    "    if annotations.size == 0:\n",
    "        return pd.DataFrame([], columns=[\"z\", \"bboxes\", \"filepath\", \"ignoreareas\"])\n",
    "\n",
    "    nodules_annotation = []\n",
    "\n",
    "    for index, row in annotations.iterrows():\n",
    "        world_x = row[\"coordX\"]\n",
    "        world_y = row[\"coordY\"]\n",
    "        world_z = row[\"coordZ\"]\n",
    "        diameter = row[\"diameter_mm\"]\n",
    "\n",
    "        world_coord = np.array([float(world_z), float(world_y), float(world_x)])\n",
    "        voxel_coord = world_to_voxel_coord(world_coord, origins, spacings)\n",
    "\n",
    "        voxel_z, voxel_y, voxel_x = voxel_coord\n",
    "        if is_flip:\n",
    "            voxel_x = image_size[0] - voxel_x\n",
    "            voxel_y = image_size[1] - voxel_y\n",
    "\n",
    "        radius = diameter / spacings[2] / 2\n",
    "\n",
    "        annotation = {\"z\": round(voxel_z), 'bboxes': np.array([\n",
    "            np.array([\n",
    "                max(round(voxel_x - radius), 0),\n",
    "                max(round(voxel_y - radius), 0),\n",
    "                min(round(voxel_x + radius), image_size[0] - 1),\n",
    "                min(round(voxel_y + radius), image_size[1] - 1)\n",
    "            ])\n",
    "        ]), 'ignoreareas': np.array([])}\n",
    "        nodules_annotation.append(annotation)\n",
    "\n",
    "    nodules_df = pd.DataFrame(nodules_annotation)\n",
    "\n",
    "    return nodules_df"
   ],
   "metadata": {
    "collapsed": false
   }
  },
  {
   "cell_type": "code",
   "execution_count": 168,
   "metadata": {
    "collapsed": false
   },
   "outputs": [],
   "source": [
    "def process_image(series_id, subset_id, generate_picture=True):\n",
    "    mhd_file_path = \"{}/subset{}/{}.mhd\".format(download_data_folder, subset_id, series_id)\n",
    "    mask_file_path = \"{}/{}.mhd\".format(download_mask_folder, series_id)\n",
    "\n",
    "    itk_image = sitk.ReadImage(mhd_file_path, sitk.sitkFloat32)\n",
    "    ct_scans = sitk.GetArrayFromImage(itk_image)\n",
    "\n",
    "    origins = np.array(list(reversed(itk_image.GetOrigin())))\n",
    "    spacings = np.array(list(reversed(itk_image.GetSpacing())))\n",
    "\n",
    "    masks = sitk.GetArrayFromImage(sitk.ReadImage(mask_file_path, sitk.sitkFloat32))\n",
    "\n",
    "    direction = itk_image.GetDirection()\n",
    "    direction = np.array(list(map(lambda x: round(x), direction)))\n",
    "\n",
    "    if np.any(direction != np.array([1, 0, 0, 0, 1, 0, 0, 0, 1])):\n",
    "        is_flip = True\n",
    "    else:\n",
    "        is_flip = False\n",
    "\n",
    "    if is_flip:\n",
    "        ct_scans = ct_scans[:, ::-1, ::-1]\n",
    "        masks = masks[:, ::-1, ::-1]\n",
    "\n",
    "    ct_scans = normalize(ct_scans)\n",
    "\n",
    "    ct_scans = ct_scans.astype(np.uint8)\n",
    "    masks = masks.astype(np.uint8)\n",
    "\n",
    "    nodules_df = extract_annotations(series_id, origins, spacings, is_flip)\n",
    "\n",
    "    for i in range(0, ct_scans.shape[0]):\n",
    "        image_filename = \"{}-ss{}-z{}.jpg\".format(series_id, subset_id, i)\n",
    "        filepath = \"data/images/{}\".format(image_filename)\n",
    "\n",
    "        nodule_row = nodules_df[nodules_df[\"z\"] == i]\n",
    "\n",
    "        if nodule_row.size != 0:\n",
    "            nodule = nodule_row.iloc[0]\n",
    "            bbox = nodule[\"bboxes\"][0]\n",
    "            bbox_x1, bbox_y1, bbox_x2, bbox_y2 = bbox\n",
    "\n",
    "        if generate_picture:\n",
    "            masked_image = cv2.bitwise_and(ct_scans[i], ct_scans[i], mask=masks[i])\n",
    "            colored_image = cv2.cvtColor(masked_image,cv2.COLOR_GRAY2RGB)\n",
    "            cv2.imwrite(\"{}/{}\".format(data_image_folder, image_filename), colored_image)\n",
    "\n",
    "            if nodule_row.size != 0:\n",
    "                patched_image = cv2.rectangle(colored_image, (bbox_x1, bbox_y1), (bbox_x2, bbox_y2), (0, 0, 255), 1)\n",
    "                cv2.imwrite(\"{}/subset{}-{}-z{}.jpg\".format(output_nodules_folder, subset_id, series_id , i), patched_image)\n",
    "\n",
    "        if subset_id != test_subset_id:\n",
    "            if nodule_row.size == 0:\n",
    "                anno = {'bboxes': [], 'ignoreareas': [],\n",
    "                        'filepath': filepath}\n",
    "                image_data_no_gt.append(anno)\n",
    "                all_image_data.append(anno)\n",
    "            else:\n",
    "                nodule = nodule_row.iloc[0]\n",
    "                anno = {'bboxes': nodule[\"bboxes\"], 'ignoreareas': nodule[\"ignoreareas\"],\n",
    "                        'filepath': filepath}\n",
    "                image_data_gt.append(anno)\n",
    "                all_image_data.append(anno)\n",
    "        else:\n",
    "            if nodule_row.size != 0:\n",
    "                nodule = nodule_row.iloc[0]\n",
    "                anno = {'bboxes': nodule[\"bboxes\"], 'ignoreareas': nodule[\"ignoreareas\"],\n",
    "                        'filepath':filepath}\n",
    "                image_data_test.append(anno)\n",
    "                all_image_data.append(anno)\n"
   ]
  },
  {
   "cell_type": "code",
   "execution_count": 169,
   "metadata": {
    "collapsed": false
   },
   "outputs": [
    {
     "name": "stderr",
     "output_type": "stream",
     "text": [
      "100%|██████████| 10/10 [12:41<00:00, 76.10s/it]\n"
     ]
    }
   ],
   "source": [
    "for subset_id in tqdm(range(0, 10)):\n",
    "    current_folder = os.listdir(\"{}/subset{}\".format(download_data_folder, subset_id))\n",
    "\n",
    "    for file in current_folder:\n",
    "        if file.endswith(\".mhd\"):\n",
    "            series_id = re.search(r'(.*)\\.mhd', file).group(1)\n",
    "            process_image(series_id, subset_id, generate_picture=False)"
   ]
  },
  {
   "cell_type": "code",
   "execution_count": 170,
   "outputs": [],
   "source": [
    "image_data_gt_df = pd.DataFrame(image_data_gt)\n",
    "image_data_no_gt_df = pd.DataFrame(image_data_no_gt)\n",
    "image_data_test_df = pd.DataFrame(image_data_test)\n",
    "all_image_data_df = pd.DataFrame(all_image_data)\n",
    "image_data_gt_df.set_index(\"filepath\", inplace=True)\n",
    "image_data_no_gt_df.set_index(\"filepath\", inplace=True)\n",
    "image_data_test_df.set_index(\"filepath\", inplace=True)\n",
    "all_image_data_df.set_index(\"filepath\", inplace=True)\n",
    "\n",
    "image_data_gt_df.to_csv(\"output/gt.csv\")\n",
    "image_data_no_gt_df.to_csv(\"output/no_gt.csv\")\n",
    "image_data_test_df.to_csv(\"output/test.csv\")\n",
    "all_image_data_df.to_csv(\"output/all.csv\")\n",
    "\n",
    "with open(gt_cache_path, 'wb') as fid:\n",
    "    pickle.dump(image_data_gt, fid, 2)\n",
    "with open(no_gt_cache_path, 'wb') as fid:\n",
    "    pickle.dump(image_data_no_gt, fid, 2)\n",
    "with open(test_cache_path, 'wb') as fid:\n",
    "    pickle.dump(image_data_test, fid, 2)"
   ],
   "metadata": {
    "collapsed": false
   }
  },
  {
   "cell_type": "code",
   "execution_count": 171,
   "outputs": [
    {
     "data": {
      "text/plain": "                                                                    bboxes  \\\nfilepath                                                                     \ndata/images/1.3.6.1.4.1.14519.5.2.1.6279.6001.1...  [[106, 342, 115, 351]]   \ndata/images/1.3.6.1.4.1.14519.5.2.1.6279.6001.1...  [[404, 333, 412, 341]]   \ndata/images/1.3.6.1.4.1.14519.5.2.1.6279.6001.1...  [[414, 273, 439, 298]]   \ndata/images/1.3.6.1.4.1.14519.5.2.1.6279.6001.1...  [[424, 348, 430, 355]]   \ndata/images/1.3.6.1.4.1.14519.5.2.1.6279.6001.1...  [[453, 225, 462, 233]]   \n\n                                                   ignoreareas  \nfilepath                                                        \ndata/images/1.3.6.1.4.1.14519.5.2.1.6279.6001.1...          []  \ndata/images/1.3.6.1.4.1.14519.5.2.1.6279.6001.1...          []  \ndata/images/1.3.6.1.4.1.14519.5.2.1.6279.6001.1...          []  \ndata/images/1.3.6.1.4.1.14519.5.2.1.6279.6001.1...          []  \ndata/images/1.3.6.1.4.1.14519.5.2.1.6279.6001.1...          []  ",
      "text/html": "<div>\n<style scoped>\n    .dataframe tbody tr th:only-of-type {\n        vertical-align: middle;\n    }\n\n    .dataframe tbody tr th {\n        vertical-align: top;\n    }\n\n    .dataframe thead th {\n        text-align: right;\n    }\n</style>\n<table border=\"1\" class=\"dataframe\">\n  <thead>\n    <tr style=\"text-align: right;\">\n      <th></th>\n      <th>bboxes</th>\n      <th>ignoreareas</th>\n    </tr>\n    <tr>\n      <th>filepath</th>\n      <th></th>\n      <th></th>\n    </tr>\n  </thead>\n  <tbody>\n    <tr>\n      <th>data/images/1.3.6.1.4.1.14519.5.2.1.6279.6001.108197895896446896160048741492-ss0-z33.jpg</th>\n      <td>[[106, 342, 115, 351]]</td>\n      <td>[]</td>\n    </tr>\n    <tr>\n      <th>data/images/1.3.6.1.4.1.14519.5.2.1.6279.6001.109002525524522225658609808059-ss0-z57.jpg</th>\n      <td>[[404, 333, 412, 341]]</td>\n      <td>[]</td>\n    </tr>\n    <tr>\n      <th>data/images/1.3.6.1.4.1.14519.5.2.1.6279.6001.109002525524522225658609808059-ss0-z68.jpg</th>\n      <td>[[414, 273, 439, 298]]</td>\n      <td>[]</td>\n    </tr>\n    <tr>\n      <th>data/images/1.3.6.1.4.1.14519.5.2.1.6279.6001.111172165674661221381920536987-ss0-z187.jpg</th>\n      <td>[[424, 348, 430, 355]]</td>\n      <td>[]</td>\n    </tr>\n    <tr>\n      <th>data/images/1.3.6.1.4.1.14519.5.2.1.6279.6001.124154461048929153767743874565-ss0-z41.jpg</th>\n      <td>[[453, 225, 462, 233]]</td>\n      <td>[]</td>\n    </tr>\n  </tbody>\n</table>\n</div>"
     },
     "execution_count": 171,
     "metadata": {},
     "output_type": "execute_result"
    }
   ],
   "source": [
    "image_data_gt_df.head()"
   ],
   "metadata": {
    "collapsed": false
   }
  },
  {
   "cell_type": "code",
   "execution_count": 172,
   "outputs": [
    {
     "data": {
      "text/plain": "                                                   bboxes ignoreareas\nfilepath                                                             \ndata/images/1.3.6.1.4.1.14519.5.2.1.6279.6001.1...     []          []\ndata/images/1.3.6.1.4.1.14519.5.2.1.6279.6001.1...     []          []\ndata/images/1.3.6.1.4.1.14519.5.2.1.6279.6001.1...     []          []\ndata/images/1.3.6.1.4.1.14519.5.2.1.6279.6001.1...     []          []\ndata/images/1.3.6.1.4.1.14519.5.2.1.6279.6001.1...     []          []",
      "text/html": "<div>\n<style scoped>\n    .dataframe tbody tr th:only-of-type {\n        vertical-align: middle;\n    }\n\n    .dataframe tbody tr th {\n        vertical-align: top;\n    }\n\n    .dataframe thead th {\n        text-align: right;\n    }\n</style>\n<table border=\"1\" class=\"dataframe\">\n  <thead>\n    <tr style=\"text-align: right;\">\n      <th></th>\n      <th>bboxes</th>\n      <th>ignoreareas</th>\n    </tr>\n    <tr>\n      <th>filepath</th>\n      <th></th>\n      <th></th>\n    </tr>\n  </thead>\n  <tbody>\n    <tr>\n      <th>data/images/1.3.6.1.4.1.14519.5.2.1.6279.6001.105756658031515062000744821260-ss0-z0.jpg</th>\n      <td>[]</td>\n      <td>[]</td>\n    </tr>\n    <tr>\n      <th>data/images/1.3.6.1.4.1.14519.5.2.1.6279.6001.105756658031515062000744821260-ss0-z1.jpg</th>\n      <td>[]</td>\n      <td>[]</td>\n    </tr>\n    <tr>\n      <th>data/images/1.3.6.1.4.1.14519.5.2.1.6279.6001.105756658031515062000744821260-ss0-z2.jpg</th>\n      <td>[]</td>\n      <td>[]</td>\n    </tr>\n    <tr>\n      <th>data/images/1.3.6.1.4.1.14519.5.2.1.6279.6001.105756658031515062000744821260-ss0-z3.jpg</th>\n      <td>[]</td>\n      <td>[]</td>\n    </tr>\n    <tr>\n      <th>data/images/1.3.6.1.4.1.14519.5.2.1.6279.6001.105756658031515062000744821260-ss0-z4.jpg</th>\n      <td>[]</td>\n      <td>[]</td>\n    </tr>\n  </tbody>\n</table>\n</div>"
     },
     "execution_count": 172,
     "metadata": {},
     "output_type": "execute_result"
    }
   ],
   "source": [
    "image_data_no_gt_df.head()"
   ],
   "metadata": {
    "collapsed": false
   }
  },
  {
   "cell_type": "code",
   "execution_count": 173,
   "outputs": [
    {
     "data": {
      "text/plain": "                                                                    bboxes  \\\nfilepath                                                                     \ndata/images/1.3.6.1.4.1.14519.5.2.1.6279.6001.1...  [[342, 267, 366, 291]]   \ndata/images/1.3.6.1.4.1.14519.5.2.1.6279.6001.1...  [[227, 302, 235, 309]]   \ndata/images/1.3.6.1.4.1.14519.5.2.1.6279.6001.1...    [[87, 225, 92, 231]]   \ndata/images/1.3.6.1.4.1.14519.5.2.1.6279.6001.1...  [[387, 281, 399, 292]]   \ndata/images/1.3.6.1.4.1.14519.5.2.1.6279.6001.1...  [[127, 230, 134, 237]]   \n\n                                                   ignoreareas  \nfilepath                                                        \ndata/images/1.3.6.1.4.1.14519.5.2.1.6279.6001.1...          []  \ndata/images/1.3.6.1.4.1.14519.5.2.1.6279.6001.1...          []  \ndata/images/1.3.6.1.4.1.14519.5.2.1.6279.6001.1...          []  \ndata/images/1.3.6.1.4.1.14519.5.2.1.6279.6001.1...          []  \ndata/images/1.3.6.1.4.1.14519.5.2.1.6279.6001.1...          []  ",
      "text/html": "<div>\n<style scoped>\n    .dataframe tbody tr th:only-of-type {\n        vertical-align: middle;\n    }\n\n    .dataframe tbody tr th {\n        vertical-align: top;\n    }\n\n    .dataframe thead th {\n        text-align: right;\n    }\n</style>\n<table border=\"1\" class=\"dataframe\">\n  <thead>\n    <tr style=\"text-align: right;\">\n      <th></th>\n      <th>bboxes</th>\n      <th>ignoreareas</th>\n    </tr>\n    <tr>\n      <th>filepath</th>\n      <th></th>\n      <th></th>\n    </tr>\n  </thead>\n  <tbody>\n    <tr>\n      <th>data/images/1.3.6.1.4.1.14519.5.2.1.6279.6001.102681962408431413578140925249-ss9-z121.jpg</th>\n      <td>[[342, 267, 366, 291]]</td>\n      <td>[]</td>\n    </tr>\n    <tr>\n      <th>data/images/1.3.6.1.4.1.14519.5.2.1.6279.6001.112767175295249119452142211437-ss9-z57.jpg</th>\n      <td>[[227, 302, 235, 309]]</td>\n      <td>[]</td>\n    </tr>\n    <tr>\n      <th>data/images/1.3.6.1.4.1.14519.5.2.1.6279.6001.112767175295249119452142211437-ss9-z64.jpg</th>\n      <td>[[87, 225, 92, 231]]</td>\n      <td>[]</td>\n    </tr>\n    <tr>\n      <th>data/images/1.3.6.1.4.1.14519.5.2.1.6279.6001.112767175295249119452142211437-ss9-z69.jpg</th>\n      <td>[[387, 281, 399, 292]]</td>\n      <td>[]</td>\n    </tr>\n    <tr>\n      <th>data/images/1.3.6.1.4.1.14519.5.2.1.6279.6001.112767175295249119452142211437-ss9-z82.jpg</th>\n      <td>[[127, 230, 134, 237]]</td>\n      <td>[]</td>\n    </tr>\n  </tbody>\n</table>\n</div>"
     },
     "execution_count": 173,
     "metadata": {},
     "output_type": "execute_result"
    }
   ],
   "source": [
    "image_data_test_df.head()"
   ],
   "metadata": {
    "collapsed": false
   }
  },
  {
   "cell_type": "code",
   "execution_count": null,
   "outputs": [],
   "source": [],
   "metadata": {
    "collapsed": false
   }
  }
 ],
 "metadata": {
  "kernelspec": {
   "display_name": "Lung-Cancer",
   "language": "python",
   "name": "python3"
  },
  "language_info": {
   "codemirror_mode": {
    "name": "ipython",
    "version": 3
   },
   "file_extension": ".py",
   "mimetype": "text/x-python",
   "name": "python",
   "nbconvert_exporter": "python",
   "pygments_lexer": "ipython3",
   "version": "3.10.8"
  },
  "vscode": {
   "interpreter": {
    "hash": "9d4e508bcdf8c60a886d154242a7d048eb1090ffddac0cfb1f3922d8edcb8935"
   }
  }
 },
 "nbformat": 4,
 "nbformat_minor": 0
}
