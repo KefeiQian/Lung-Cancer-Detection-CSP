{
 "cells": [
  {
   "cell_type": "code",
   "execution_count": null,
   "metadata": {},
   "outputs": [],
   "source": [
    "import os\n",
    "import pickle\n",
    "\n",
    "import cv2\n",
    "from tqdm import tqdm"
   ]
  },
  {
   "cell_type": "code",
   "execution_count": null,
   "metadata": {},
   "outputs": [],
   "source": [
    "fid = open(\"../data/cache/train_gt_augment\", 'rb')\n",
    "# fid = open(\"../data/cache/train_gt\", 'rb')\n",
    "train_pickle = pickle.Unpickler(fid, encoding=\"latin1\")\n",
    "train_gt = train_pickle.load()"
   ]
  },
  {
   "cell_type": "code",
   "execution_count": null,
   "metadata": {},
   "outputs": [],
   "source": [
    "output_path = \"output/nodules\"\n",
    "if not os.path.exists(output_path):\n",
    "    os.makedirs(output_path)"
   ]
  },
  {
   "cell_type": "code",
   "execution_count": null,
   "metadata": {},
   "outputs": [],
   "source": [
    "color = (0, 0, 255)\n",
    "\n",
    "for gt in tqdm(train_gt):\n",
    "    filepath = gt[\"filepath\"]\n",
    "    filepath = \"../\" + filepath\n",
    "\n",
    "    series_id = filepath.split(\"/\")[-2]\n",
    "\n",
    "    z = filepath.split(\"/\")[-1].split(\".\")[-2]\n",
    "\n",
    "    bboxes = gt[\"bboxes\"]\n",
    "\n",
    "    if not os.path.exists(\"{}/{}\".format(output_path, series_id)):\n",
    "        os.makedirs(\"{}/{}\".format(output_path, series_id))\n",
    "\n",
    "    image = cv2.imread(filepath)\n",
    "\n",
    "    for bbox in bboxes:\n",
    "        [x1, y1, x2, y2] = bbox\n",
    "        image = cv2.rectangle(image, (x1, y1), (x2, y2), color, 1)\n",
    "\n",
    "    path = \"{}/{}/{}.jpg\".format(output_path, series_id, z)\n",
    "    cv2.imwrite(path, image)"
   ]
  },
  {
   "cell_type": "code",
   "execution_count": null,
   "metadata": {
    "pycharm": {
     "is_executing": true
    }
   },
   "outputs": [],
   "source": []
  },
  {
   "cell_type": "code",
   "execution_count": null,
   "metadata": {},
   "outputs": [],
   "source": []
  }
 ],
 "metadata": {
  "kernelspec": {
   "display_name": "Python 3",
   "language": "python",
   "name": "python3"
  },
  "language_info": {
   "codemirror_mode": {
    "name": "ipython",
    "version": 2
   },
   "file_extension": ".py",
   "mimetype": "text/x-python",
   "name": "python",
   "nbconvert_exporter": "python",
   "pygments_lexer": "ipython2",
   "version": "2.7.6"
  }
 },
 "nbformat": 4,
 "nbformat_minor": 0
}
